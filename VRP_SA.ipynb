{
  "cells": [
    {
      "cell_type": "markdown",
      "id": "OugojSgJoW-Y",
      "metadata": {
        "id": "OugojSgJoW-Y"
      },
      "source": [
        "#Instalaciones Previas"
      ]
    },
    {
      "cell_type": "code",
      "execution_count": null,
      "id": "3CetbTfTYMzt",
      "metadata": {
        "id": "3CetbTfTYMzt"
      },
      "outputs": [],
      "source": [
        "!pip3 install dwave-neal\n",
        "!pip3 install qubovert\n",
        "!pip3 install dwave-system"
      ]
    },
    {
      "cell_type": "code",
      "execution_count": null,
      "id": "gA8cKLWQYNgv",
      "metadata": {
        "id": "gA8cKLWQYNgv"
      },
      "outputs": [],
      "source": [
        "import qubovert\n",
        "import math\n",
        "from neal import SimulatedAnnealingSampler\n",
        "from dwave.system import DWaveSampler, EmbeddingComposite\n",
        "\n",
        "import numpy as np\n",
        "import matplotlib.pyplot as plt\n",
        "from time import time\n",
        "import math as math\n"
      ]
    },
    {
      "cell_type": "markdown",
      "id": "8G3o_ywrc8Sa",
      "metadata": {
        "id": "8G3o_ywrc8Sa"
      },
      "source": [
        "#Funciones auxiliares y Parámetros\n"
      ]
    },
    {
      "cell_type": "markdown",
      "source": [
        "En este apartado definimos diferéntes funciones auxiliares que usaremos a lo largo de la implementación, así como los parámetros para la ejecución del problema"
      ],
      "metadata": {
        "id": "8HA1cWL07C8D"
      },
      "id": "8HA1cWL07C8D"
    },
    {
      "cell_type": "markdown",
      "id": "5tWjXOeTom_b",
      "metadata": {
        "id": "5tWjXOeTom_b"
      },
      "source": [
        "###Funciones auxiliares"
      ]
    },
    {
      "cell_type": "markdown",
      "source": [
        "*toNumpy*: setrata de una función a la que dado un valor lo transformará a un array de Numpy"
      ],
      "metadata": {
        "id": "BFnM2kzM7Se4"
      },
      "id": "BFnM2kzM7Se4"
    },
    {
      "cell_type": "code",
      "execution_count": null,
      "id": "-SbcuZtpc8BR",
      "metadata": {
        "id": "-SbcuZtpc8BR"
      },
      "outputs": [],
      "source": [
        "#Pasamos a np\n",
        "def toNumpy(v):\n",
        "    return np.sqrt(np.sum(v**2))"
      ]
    },
    {
      "cell_type": "markdown",
      "id": "RF-MbZ5Wotoy",
      "metadata": {
        "id": "RF-MbZ5Wotoy"
      },
      "source": [
        "###Definición de parámetros\n"
      ]
    },
    {
      "cell_type": "markdown",
      "source": [
        "***-N***: número de nodos que tendrá el problema.\n",
        "\n",
        "***-Q***: cantidad de vehículos que habrá en nuestro problema.\n",
        "\n",
        "***-R***: como hemos visto en la modelización del problema en la memoria, las variables pueden tener 3 valores diferentes (0,1,2). Por ello establecemos R=5.\n",
        "\n",
        "***-lis_n***: al igual que en el caso anterior, una lista que usaremos como índices en los sumatorios de las distintas restricciones.\n",
        "\n",
        "***-lis_q***: lista que usaremos como índices en los sumatorios de las distintas restricciones. Hace referencia al valor de $Q$.\n",
        "\n",
        "***-lis_r***: se trata de una lista de dimensión R (5) que nos facilitará la imprementación a la hora de establecer las restricciones del problema.\n",
        "\n",
        "***-lis_r_aux***: se trata de una lista de dimension 3 para facilitar la implementación.\n"
      ],
      "metadata": {
        "id": "w18SxXNG7l-O"
      },
      "id": "w18SxXNG7l-O"
    },
    {
      "cell_type": "code",
      "execution_count": null,
      "id": "YwQVQKA3Zj-m",
      "metadata": {
        "id": "YwQVQKA3Zj-m"
      },
      "outputs": [],
      "source": [
        "N = 6\n",
        "Q = 2\n",
        "R = 5\n",
        "lis_n = range(0,N+1)\n",
        "lis_q = range(1,Q+1)\n",
        "lis_r = range(R)\n",
        "lis_r_aux  = [0,1,3]\n"
      ]
    },
    {
      "cell_type": "markdown",
      "source": [
        "#Representación del problema"
      ],
      "metadata": {
        "id": "85NzC6No9H7w"
      },
      "id": "85NzC6No9H7w"
    },
    {
      "cell_type": "markdown",
      "source": [
        "Para crear la creación del problema, creamos distintos puntos que representan los distintos nodos o ciudades que nuestro problema debe recorrer. Como el problema ha de acabar en el punto de salida, igualaremos el último punto al primero."
      ],
      "metadata": {
        "id": "h6mUiHD29SIe"
      },
      "id": "h6mUiHD29SIe"
    },
    {
      "cell_type": "code",
      "source": [
        "puntos = np.random.rand(N+1,2)\n",
        "\n",
        "print(puntos)"
      ],
      "metadata": {
        "colab": {
          "base_uri": "https://localhost:8080/"
        },
        "id": "Iyr21OEYqKSS",
        "outputId": "93bd9810-9d20-4aae-9f94-a0a5f39b5d3d"
      },
      "id": "Iyr21OEYqKSS",
      "execution_count": null,
      "outputs": [
        {
          "output_type": "stream",
          "name": "stdout",
          "text": [
            "[[0.31174285 0.50314981]\n",
            " [0.00255817 0.58889244]\n",
            " [0.38155645 0.73901531]\n",
            " [0.90366084 0.49543608]\n",
            " [0.31172581 0.0392877 ]\n",
            " [0.08991855 0.0406708 ]\n",
            " [0.79978084 0.87257806]]\n"
          ]
        }
      ]
    },
    {
      "cell_type": "code",
      "source": [
        "plt.plot(puntos[:,0],puntos[:,1],'o')\n",
        "distancia = np.zeros((N+2,N+2))\n",
        "for i in range(N):\n",
        "    for j in range(i+1,N+1):\n",
        "        aux  =  toNumpy(puntos[i,:]-puntos[j,:])\n",
        "        distancia[i,j],distancia[j,i] = aux,aux\n",
        "\n",
        "for j in range(0,N+1):\n",
        "    i = N+1\n",
        "    aux  =  toNumpy(puntos[0,:]-puntos[j,:])\n",
        "    distancia[i,j],distancia[j,i] = aux,aux\n",
        "distancia = np.floor(distancia*1000)\n",
        "\n",
        "puntos"
      ],
      "metadata": {
        "colab": {
          "base_uri": "https://localhost:8080/",
          "height": 552
        },
        "id": "eToRV-77qy5a",
        "outputId": "992e74e9-21c1-4a53-b4da-6e53ebeed5ea"
      },
      "id": "eToRV-77qy5a",
      "execution_count": null,
      "outputs": [
        {
          "output_type": "execute_result",
          "data": {
            "text/plain": [
              "array([[0.31174285, 0.50314981],\n",
              "       [0.00255817, 0.58889244],\n",
              "       [0.38155645, 0.73901531],\n",
              "       [0.90366084, 0.49543608],\n",
              "       [0.31172581, 0.0392877 ],\n",
              "       [0.08991855, 0.0406708 ],\n",
              "       [0.79978084, 0.87257806]])"
            ]
          },
          "metadata": {},
          "execution_count": 289
        },
        {
          "output_type": "display_data",
          "data": {
            "text/plain": [
              "<Figure size 640x480 with 1 Axes>"
            ],
            "image/png": "[encoded data removed]"
          },
          "metadata": {}
        }
      ]
    },
    {
      "cell_type": "markdown",
      "source": [
        "### Matriz distancia.\n",
        "Se trata de una matriz que guarda las distancia desde un nodo a todos los demás. De este modo, podremos usar esta matriz para obtener el camíno mínimo a recorrer entre todos los puntos. Para una mejor lectura, normalizamos la distancia."
      ],
      "metadata": {
        "id": "SwM3ZTBi-YB6"
      },
      "id": "SwM3ZTBi-YB6"
    },
    {
      "cell_type": "code",
      "execution_count": null,
      "id": "SdEsrg5SZq7p",
      "metadata": {
        "colab": {
          "base_uri": "https://localhost:8080/"
        },
        "id": "SdEsrg5SZq7p",
        "outputId": "113c8296-105f-439a-fec1-09f240f734cb"
      },
      "outputs": [
        {
          "output_type": "stream",
          "name": "stdout",
          "text": [
            "[[   0.  320.  245.  591.  463.  512.  612.]\n",
            " [ 320.    0.  407.  905.  630.  555.  846.]\n",
            " [ 245.  407.    0.  576.  703.  756.  439.]\n",
            " [ 591.  905.  576.    0.  747.  932.  391.]\n",
            " [ 463.  630.  703.  747.    0.  221.  965.]\n",
            " [ 512.  555.  756.  932.  221.    0. 1093.]\n",
            " [ 612.  846.  439.  391.  965. 1093.    0.]]\n"
          ]
        }
      ],
      "source": [
        "distancia = np.zeros((N+1,N+1))\n",
        "for i in range(N):\n",
        "    for j in range(i+1,N+1):\n",
        "        aux  =  toNumpy(puntos[i,:]-puntos[j,:])\n",
        "        distancia[i,j],distancia[j,i] = aux,aux\n",
        "distancia = np.floor(distancia*1000)\n",
        "print(distancia)\n"
      ]
    },
    {
      "cell_type": "markdown",
      "id": "Ecs6KIJYl7P-",
      "metadata": {
        "id": "Ecs6KIJYl7P-"
      },
      "source": [
        "Según la tabla de distancias obtenida anteriormente, obtenemos el camino más corto entre los vecinos cercanos y calculamos la distancia de dicho camino. Es decir tras visitar un nodo $i$, el siguiente nodo a visitar será el $j$ que esté mas cerca de ese primero."
      ]
    },
    {
      "cell_type": "code",
      "source": [
        "distanciaAux  = np.copy(distancia)\n",
        "for i in lis_n:\n",
        "    distanciaAux[i,i] = np.inf\n",
        "distanciaAux = np.copy(distanciaAux[:-1,:-1])\n",
        "i = 0\n",
        "distanciaMin = 0\n",
        "ordenRecorrido = [i]\n",
        "for j in range(N):\n",
        "    distanciaAux[j,0] = np.inf\n",
        "for cont in range(N-1):\n",
        "    siguienteDistancia = np.min(distanciaAux[i,:])\n",
        "    distanciaMin += siguienteDistancia\n",
        "    sig = np.where(distanciaAux[i,:] == siguienteDistancia)[0][0]\n",
        "    for j in range(N):\n",
        "        distanciaAux[j,sig] = np.inf #Actualizamos distancia para que no vuelva a ese nodo\n",
        "    i = sig\n",
        "    ordenRecorrido.append(i)\n",
        "distanciaMin += distancia[ordenRecorrido[-1],0]\n",
        "#El último nodo es el mismo que el primero.\n",
        "ordenRecorrido.append(0)\n",
        "print(\"La distancia recorrida es:\", distanciaMin)"
      ],
      "metadata": {
        "colab": {
          "base_uri": "https://localhost:8080/"
        },
        "id": "kOMFxXd3iO1E",
        "outputId": "fbd24db7-6b6e-4679-8828-c689f79392f5"
      },
      "id": "kOMFxXd3iO1E",
      "execution_count": null,
      "outputs": [
        {
          "output_type": "stream",
          "name": "stdout",
          "text": [
            "La distancia recorrida es: 2766.0\n"
          ]
        }
      ]
    },
    {
      "cell_type": "markdown",
      "source": [
        "Calculamos la distancia máxima del camino y del valor $h$, que es la variable de holgura utilizada en una de las restricciones."
      ],
      "metadata": {
        "id": "-hhRxer7iVA4"
      },
      "id": "-hhRxer7iVA4"
    },
    {
      "cell_type": "code",
      "source": [
        "distanciaMaxima = 0\n",
        "for i in range(N+1):\n",
        "    distanciaMaxima = distanciaMaxima + np.max(distancia[i,:])\n",
        "h = int(np.log2(distanciaMaxima)) + 1\n",
        "lis_h = range(h+1)\n",
        "print(distanciaMaxima,h)"
      ],
      "metadata": {
        "id": "iB5UNOOYZCKb",
        "colab": {
          "base_uri": "https://localhost:8080/"
        },
        "outputId": "8316cc4c-e33f-454a-d7ba-e9b778ca562a"
      },
      "id": "iB5UNOOYZCKb",
      "execution_count": null,
      "outputs": [
        {
          "output_type": "stream",
          "name": "stdout",
          "text": [
            "6356.0 13\n"
          ]
        }
      ]
    },
    {
      "cell_type": "code",
      "source": [],
      "metadata": {
        "id": "kcAhXOfYak7v"
      },
      "id": "kcAhXOfYak7v",
      "execution_count": null,
      "outputs": []
    },
    {
      "cell_type": "markdown",
      "id": "tIv4PbL1iY3y",
      "metadata": {
        "id": "tIv4PbL1iY3y"
      },
      "source": [
        "#Modelo\n"
      ]
    },
    {
      "cell_type": "markdown",
      "source": [
        "## Variables del modelo\n",
        "La clase ***qubovert.QUBO()*** es una implementación de QUBO en Python que proporciona una interfaz conveniente para definir y manipular problemas de optimización en forma de QUBO. Esta clase permite construir la matriz QUBO y realizar diversas operaciones sobre ella.\n",
        "\n",
        "Como sabemos, nuestras variables son de la forma *f x_{i,j,r,q}*, entonces usaremos el método **create_var()** para crear las variablesde nuestro problema."
      ],
      "metadata": {
        "id": "LHJr35kD_rao"
      },
      "id": "LHJr35kD_rao"
    },
    {
      "cell_type": "code",
      "execution_count": null,
      "id": "84qg5hkcjFIp",
      "metadata": {
        "id": "84qg5hkcjFIp"
      },
      "outputs": [],
      "source": [
        "coef = qubovert.QUBO()\n",
        "for i in lis_n:\n",
        "    for j in lis_n:\n",
        "        for r in lis_r:\n",
        "            for q in lis_q:\n",
        "                coef.create_var(f\"x_{i}_{j}_{r}_{q}\")\n",
        "\n",
        "# Auxiliares para simplificar restricciones 8 y 10\n",
        "for j in range(1,N+2):\n",
        "    for q in lis_q:\n",
        "        coef.create_var(f\"aux1_{j}_{q}\")\n",
        "for i in lis_n:\n",
        "    for j in lis_n:\n",
        "        coef.create_var(f\"aux2_{i}_{j}\")\n",
        "\n",
        "# Variables a_{i,j}\n",
        "for i in lis_n:\n",
        "    for j in lis_n:\n",
        "        coef.create_var(f\"a_{i}_{j}\")\n",
        "\n",
        "\n",
        "# Variables b_{h,q}\n",
        "for h in lis_h:\n",
        "    for q in range(2,Q+1):\n",
        "        coef.create_var(f\"b_{h}_{q}\")\n"
      ]
    },
    {
      "cell_type": "markdown",
      "id": "bY9kOXualiy2",
      "metadata": {
        "id": "bY9kOXualiy2"
      },
      "source": [
        "## Añadimos las restricciones\n",
        "De acuerdo a las distintas restricciones que hemos definido en la memoria, calculamos los valores que tendrán cada una de nuestras variables de acuerdo a los distintos coeficientes de Lagrange (también definidos en la memoria).\n"
      ]
    },
    {
      "cell_type": "markdown",
      "source": [
        "### Restricción 1:\n",
        "Función de penalización:\n",
        "\\begin{equation}\n",
        "            \\sum_{i=0}^{N+1}\\sum_{j=0}^{N+1}\\sum_{q=1}^{Q}(\\sum_{r_1=0}^{4} \\sum_{r_2=0}^{4} \\lambda_1 x_{i,j,r_1,q} x_{i,j,r_2,q} - \\sum_{r=0}^{4} 2\\lambda_1x_{i,j,r,q})           \n",
        "            \\end{equation}\n",
        "Coeficiente de Lagrange:\n",
        "\\begin{equation*}\n",
        "        \\lambda_1 > D\n",
        "    \\end{equation*}"
      ],
      "metadata": {
        "id": "5TMKHvG5V0-y"
      },
      "id": "5TMKHvG5V0-y"
    },
    {
      "cell_type": "code",
      "source": [
        "lagrange_1 = distanciaMin\n",
        "for i in lis_n:\n",
        "    for j in lis_n:\n",
        "        for q in lis_q:\n",
        "            for r in lis_r:\n",
        "                coef[(f\"x_{i}_{j}_{r}_{q}\",)] += -2*(lagrange_1)\n",
        "\n",
        "\n",
        "for i in lis_n:\n",
        "    for j in lis_n:\n",
        "        for q in lis_q:\n",
        "            for r1 in lis_r:\n",
        "                for r2 in lis_r:\n",
        "                    coef[(f\"x_{i}_{j}_{r1}_{q}\",f\"x_{i}_{j}_{r2}_{q}\")] +=  (lagrange_1)"
      ],
      "metadata": {
        "id": "i7be5m6UV0Zf"
      },
      "execution_count": null,
      "outputs": [],
      "id": "i7be5m6UV0Zf"
    },
    {
      "cell_type": "markdown",
      "source": [
        "### Restricción 2:\n",
        "Función de penalización:\n",
        "\\begin{equation}\n",
        "          \\sum_{j_1=0}^{N+1}\\sum_{j_2=1}^{N+1}\\sum_{q=1}^{Q}\\lambda_2 x_{0,j_1,1,q}x_{0,j_2,1,q} -\\sum_{j=1}^{N+1}\\sum_{q=1}^{Q} 2\\lambda_2 x_{0,j,1,q}\n",
        "    \\end{equation}\n",
        "Segunda parte:\n",
        "\\begin{equation}\n",
        "        \\sum_{i=0}^{N+1}\\sum_{q=1}^{Q}\\lambda_2 x_{i,0,1,q}\n",
        "    \\end{equation}\n",
        "Coeficiente de Lagrange:\n",
        "\\begin{equation*}\n",
        "        \\textrm{Para todo } j \\epsilon [1,\\dots,N+1] \\textrm{ }\n",
        "        \\lambda_2 > max\\textrm{ }d_{0,j}\n",
        "    \\end{equation*}"
      ],
      "metadata": {
        "id": "dDD_f9tCWC7T"
      },
      "id": "dDD_f9tCWC7T"
    },
    {
      "cell_type": "code",
      "source": [
        "lagrange_2 =np.max(distancia[0,:])\n",
        "for q in lis_q:\n",
        "    for j in range(1,N+2):\n",
        "        coef[(f\"x_{0}_{j}_{1}_{q}\",)] = coef[(f\"x_{0}_{j}_{1}_{q}\",)] -2*lagrange_2\n",
        "\n",
        "for q in lis_q:\n",
        "    for j1 in range(1,N+2):\n",
        "        for j2 in range(1,N+2):\n",
        "            coef[(f\"x_{0}_{j1}_{1}_{q}\",f\"x_{0}_{j2}_{1}_{q}\")] = coef[(f\"x_{0}_{j1}_{1}_{q}\",f\"x_{0}_{j2}_{1}_{q}\")]+lagrange_2\n",
        "\n",
        "for q in lis_q:\n",
        "    for i in range(0,N+2):\n",
        "        coef[(f\"x_{i}_{0}_{1}_{q}\",)] = coef[(f\"x_{i}_{0}_{1}_{q}\",)] + lagrange_2"
      ],
      "metadata": {
        "id": "wR8ZP3_iWSIp"
      },
      "execution_count": null,
      "outputs": [],
      "id": "wR8ZP3_iWSIp"
    },
    {
      "cell_type": "markdown",
      "source": [
        "### Restricción 3:\n",
        "Función de penalización:\n",
        "\\begin{equation}\n",
        "        \\sum_{i_1=0}^{N+1}\\sum_{i_2=1}^{N+1}\\sum_{q=1}^{Q}\\lambda_3 x_{i_1,N+1,1,q}x_{i_2,jN+1,1,q} -\\sum_{i=1}^{N+1}\\sum_{q=1}^{Q} 2\\lambda_3 x_{i,N+1,1,q}\n",
        "\\end{equation}\n",
        "Segunda parte:\n",
        "\\begin{equation}\n",
        "        \\sum_{j=0}^{N+1}\\sum_{q=1}^{Q}\\lambda_3 x_{N+1,j,1,q}\n",
        "\\end{equation}\n",
        "Coeficiente de Lagrange:\n",
        "\\begin{equation*}\n",
        "            \\textrm{Para todo } i \\epsilon [0,\\dots,N+1] \\textrm{ }\n",
        "        \\lambda_3 > max\\textrm{ }d_{i,N+1}\n",
        "        \\end{equation*}"
      ],
      "metadata": {
        "id": "TxAKbiPDWEuQ"
      },
      "id": "TxAKbiPDWEuQ"
    },
    {
      "cell_type": "code",
      "source": [
        "lagrange_3=np.max(distancia[:,0])\n",
        "for q in lis_q:\n",
        "    for i in range(0,N+1):\n",
        "        coef[(f\"x_{i}_{N+1}_{1}_{q}\",)] = coef[(f\"x_{i}_{N+1}_{1}_{q}\",)] -2*lagrange_3\n",
        "\n",
        "for q in lis_q:\n",
        "    for i1 in range(0,N+1):\n",
        "        for i2 in range(0,N+1):\n",
        "            coef[(f\"x_{i1}_{N+1}_{1}_{q}\",f\"x_{i2}_{N+1}_{1}_{q}\")] = coef[(f\"x_{i1}_{N+1}_{1}_{q}\",f\"x_{i2}_{N+1}_{1}_{q}\")]+lagrange_3\n",
        "\n",
        "for q in lis_q:\n",
        "    for j in range(N+2):\n",
        "        coef[(f\"x_{N+1}_{j}_{1}_{q}\",)] = coef[(f\"x_{N+1}_{j}_{1}_{q}\",)] + lagrange_3"
      ],
      "metadata": {
        "id": "DJ38CvGIWScf"
      },
      "execution_count": null,
      "outputs": [],
      "id": "DJ38CvGIWScf"
    },
    {
      "cell_type": "markdown",
      "source": [
        "### Restricción 4:\n",
        "Función de penalización:\n",
        "\\begin{equation}\n",
        "    \\sum_{i=1}^{N}(\\sum_{j_1=1}^{N+1}\\sum_{j_2=1}^{N+1}\\sum_{q_1=1}^{Q}\\sum_{q_2=1}^{Q} \\lambda_4 x_{i,j_1,1,q_1}x_{i,j_2,1,q_2}-\\sum_{j=1}^{N+1}\\sum_{q=1}^{Q}2\\lambda_4x_{i,j,1,q})\n",
        "\\end{equation}\n",
        "Coeficiente de Lagrange:\n",
        "\\begin{equation*}\n",
        "                \\textrm{Para todo } j \\epsilon [1,\\dots,N+1] \\textrm{ }\n",
        "                \\lambda_4 > max\\textrm{ }d_{i,j}\n",
        "            \\end{equation*}"
      ],
      "metadata": {
        "id": "Kmq9yqubWFC_"
      },
      "id": "Kmq9yqubWFC_"
    },
    {
      "cell_type": "code",
      "source": [
        "for i in range(1,N+1):\n",
        "    lagrange_4=np.max(distancia[i,:])\n",
        "    for q in lis_q:\n",
        "        for j in range(1,N+2):\n",
        "            coef[(f\"x_{i}_{j}_{1}_{q}\",)] +=  -2*(lagrange_4)\n",
        "\n",
        "for i in range(1,N+1):\n",
        "    lagrange_4=np.max(distancia[i,:])\n",
        "    for q1 in lis_q:\n",
        "        for j1 in range(1,N+2):\n",
        "            for q2 in lis_q:\n",
        "                for j2 in range(1,N+2):\n",
        "                    coef[(f\"x_{i}_{j1}_{1}_{q1}\",f\"x_{i}_{j2}_{1}_{q2}\")] += (lagrange_4)"
      ],
      "metadata": {
        "id": "da0eVl5dWSwc"
      },
      "execution_count": null,
      "outputs": [],
      "id": "da0eVl5dWSwc"
    },
    {
      "cell_type": "markdown",
      "source": [
        "### Restricción 5:\n",
        "Función de penalización:\n",
        "\\begin{equation}\n",
        "    \\sum_{i_1=0}^{N}\\sum_{i_2=0}^{N}\\sum_{j=1}^{N}\\sum_{q_1=1}^{Q}\\sum_{q_2=1}^{Q} \\lambda_5 x_{i_1,j,1,q_1}x_{i_2,j,1,q_2}-\\sum_{i=0}^{N}\\sum_{j=1}^{N+1}\\sum_{q=1}^{Q}2\\lambda_5x_{i,j,1,q}\n",
        "    \\end{equation}\n",
        "Coeficiente de Lagrange:\n",
        "\\begin{equation*}\n",
        "        \\textrm{Para todo } i \\epsilon [1,\\dots,N+1] \\textrm{ }\n",
        "                \\lambda_5 > max\\textrm{ }d_{i,j}\n",
        "    \\end{equation*}"
      ],
      "metadata": {
        "id": "PlDyM_8rWFV4"
      },
      "id": "PlDyM_8rWFV4"
    },
    {
      "cell_type": "code",
      "source": [
        "for j in range(1,N+1):\n",
        "    lagrange_5=np.max(distancia[:,j])\n",
        "    for q in lis_q:\n",
        "        for i in range(0,N+1):\n",
        "            coef[(f\"x_{i}_{j}_{1}_{q}\",)] +=  -2*lagrange_5\n",
        "\n",
        "for j in range(1,N+1):\n",
        "    lagrange_5=np.max(distancia[:,j])\n",
        "    for q1 in lis_q:\n",
        "        for i1 in range(N+1):\n",
        "            for q2 in lis_q:\n",
        "                for i2 in range(N+1):\n",
        "                    coef[(f\"x_{i1}_{j}_{1}_{q1}\",f\"x_{i2}_{j}_{1}_{q2}\")] += lagrange_5"
      ],
      "metadata": {
        "id": "KHnVhec_WTDj"
      },
      "execution_count": null,
      "outputs": [],
      "id": "KHnVhec_WTDj"
    },
    {
      "cell_type": "markdown",
      "source": [
        "### Restricción 6:\n",
        "Función de penalización:\n",
        "\\begin{equation}\n",
        "            \\sum_{i=0}^{N+1}\\sum_{q=1}^{Q} \\lambda_6 x_{i,i,1,q}     \n",
        "            \\end{equation}\n",
        "Coeficiente de Lagrange:\n",
        "\\begin{equation*}\n",
        "        \\textrm{Para todo } j \\epsilon [0,\\dots,N+1]\\textrm{ }\n",
        "        \\lambda_6 > max\\textrm{ }(max\\textrm{ } d_{i,j}, max\\textrm{ } d_{j,i})\n",
        "        \\end{equation*}"
      ],
      "metadata": {
        "id": "OG3qVtrxWFuL"
      },
      "id": "OG3qVtrxWFuL"
    },
    {
      "cell_type": "code",
      "source": [
        "for i in lis_n:\n",
        "    lagrange_6 = max(np.max(distancia[i,:]),np.max(distancia[:,i]))\n",
        "    for q in lis_q:\n",
        "        coef[(f\"x_{i}_{i}_{1}_{q}\",)] = coef[(f\"x_{i}_{i}_{1}_{q}\",)] + lagrange_6"
      ],
      "metadata": {
        "id": "6OlTWfkSWTVv"
      },
      "execution_count": null,
      "outputs": [],
      "id": "6OlTWfkSWTVv"
    },
    {
      "cell_type": "markdown",
      "source": [
        "### Restricción 7:\n",
        "Función de penalización:\n",
        "\\begin{equation}\n",
        "        \\begin{gathered}\n",
        "            \\sum_{i=1}^{N}\\sum_{j=1}^{N}( \\lambda_7 (a_{i,j})^2Q^2-\\sum_{q=1}^{Q} 2\\lambda_7Q(x_{i,j,0,q}+x_{i,j,1,q}+x_{i,j,3,q})a_{i,j}+ \\\\\n",
        "            +\\sum_{q_1=1}^{Q}\\sum_{q_2=1}^{Q}\\lambda7 (x_{i,j,0,q_1}+x_{i,j,1,q_1}+x_{i,j,3,q_1})(x_{i,j,0,q_2}+x_{i,j,1,q_2}+x_{i,j,3,q_2}))\n",
        "        \\end{gathered}\n",
        "    \\end{equation}\n",
        "Coeficiente de Lagrange:\n",
        "\\begin{equation*}\n",
        "        \\lambda_7 > D\n",
        "        \\end{equation*}"
      ],
      "metadata": {
        "id": "SDzOYO0tWGDQ"
      },
      "id": "SDzOYO0tWGDQ"
    },
    {
      "cell_type": "code",
      "source": [
        "lagrange_7=distanciaMin\n",
        "for i in range(1,N+1):\n",
        "    for j in range(1,N+1):\n",
        "        for q in lis_q:\n",
        "            for r in [0,1,3]:\n",
        "                coef[(f\"x_{i}_{j}_{r}_{q}\",f\"a_{i}_{j}\")] +=  -2*lagrange_7*Q\n",
        "\n",
        "for i in range(1,N+1):\n",
        "    for j in range(1,N+1):\n",
        "        for q1 in lis_q:\n",
        "            for q2 in lis_q:\n",
        "                for r1 in [0,1,3]:\n",
        "                    for r2 in [0,1,3]:\n",
        "                        coef[(f\"x_{i}_{j}_{r1}_{q1}\",f\"x_{i}_{j}_{r2}_{q2}\")] +=  lagrange_7\n",
        "\n",
        "for i in range(1,N+1):\n",
        "    for j in range(1,N+1):\n",
        "        coef[(f\"a_{i}_{j}\",f\"a_{i}_{j}\")] +=  lagrange_7*Q**2"
      ],
      "metadata": {
        "id": "xve6dcvFWToQ"
      },
      "execution_count": null,
      "outputs": [],
      "id": "xve6dcvFWToQ"
    },
    {
      "cell_type": "markdown",
      "source": [
        "### Restricción 8:\n",
        "Función de penalización:\n",
        "\\begin{equation}\n",
        "        \\sum_{i=0}^{N}\\sum_{j=1}^{N}\\sum_{q=1}^{Q}(\\lambda_8x_{i,j,1,q}- \\sum_{k=1}^{N+1}\\lambda_8x_{i,j,1,q}x_{j,k,1,q})\n",
        "    \\end{equation}\n",
        "Coeficiente de Lagrange:\n",
        "\\begin{equation*}\n",
        "        \\lambda_8 > d_{j,N+1}\n",
        "        \\end{equation*}"
      ],
      "metadata": {
        "id": "STSo1WV3WGXn"
      },
      "id": "STSo1WV3WGXn"
    },
    {
      "cell_type": "code",
      "source": [
        "lagrange_8=distanciaMin\n",
        "for i in range(N+1):\n",
        "    for j in range(1,N+1):\n",
        "        for q in lis_q:\n",
        "            coef[(f\"x_{i}_{j}_{1}_{q}\",)] +=  lagrange_8\n",
        "            coef[(f\"x_{i}_{j}_{1}_{q}\",f\"aux1_{j}_{q}\")] +=  -lagrange_8"
      ],
      "metadata": {
        "id": "PaKaNDC3WUA_"
      },
      "execution_count": null,
      "outputs": [],
      "id": "PaKaNDC3WUA_"
    },
    {
      "cell_type": "markdown",
      "source": [
        "### Restricción 9:\n",
        "Función de penalización:\n",
        "\\begin{equation}\n",
        "        \\sum_{i=0}^{N}\\sum_{j=1}^{N}\\sum_{q=1}^{Q}\\lambda_9((x_{i,j,0,q}+x_{i,j,1,q}+x_{i,j,3,q})(x_{j,i,0,q}+x_{j,i,1,q}+x_{j,i,3,q})\n",
        "    \\end{equation}\n",
        "Coeficiente de Lagrange:\n",
        "\\begin{equation*}\n",
        "        \\lambda_9 > D\n",
        "    \\end{equation*}"
      ],
      "metadata": {
        "id": "PxiN4AcnWGkh"
      },
      "id": "PxiN4AcnWGkh"
    },
    {
      "cell_type": "code",
      "source": [
        "lagrange_9=distanciaMin\n",
        "for i in range(1,N+1):\n",
        "    for j in range(1,N+1):\n",
        "        for q in lis_q:\n",
        "            for r1 in [0,1,3]:\n",
        "                for r2 in [0,1,3]:\n",
        "                    coef[(f\"x_{i}_{j}_{r1}_{q}\",f\"x_{j}_{i}_{r2}_{q}\")] +=  lagrange_9"
      ],
      "metadata": {
        "id": "mKWQH1leWUR_"
      },
      "execution_count": null,
      "outputs": [],
      "id": "mKWQH1leWUR_"
    },
    {
      "cell_type": "markdown",
      "source": [
        "### Restricción 10:\n",
        "Función de penalización:\n",
        "\\begin{equation}\n",
        "        \\sum_{i=1}^{N}\\sum_{j=1}^{N}\\sum_{k=1}^{N}\\sum_{q=1}^{q} (\\lambda_{10}x_{j,i,2,q}x_{k,j,2,q})-(\\lambda_{10}x_{j,i,2,q}x_{k,i,2,q})-(\\lambda_{10}x_{k,j,2,q}x_{k,i,2,q})+\\lambda_{10}x_{k,i,2,q}\n",
        "\\end{equation}\n",
        "Coeficiente de Lagrange:\n",
        "\\begin{equation*}\n",
        "        \\lambda_10 > D\n",
        "    \\end{equation*}"
      ],
      "metadata": {
        "id": "WVbd9hjXWGwH"
      },
      "id": "WVbd9hjXWGwH"
    },
    {
      "cell_type": "code",
      "source": [
        "lagrange_10=distanciaMin\n",
        "for i in range(1,N+1):\n",
        "    for j in range(1,N+1):\n",
        "        for k in range(1,N+1):\n",
        "            if i!=j and j!=k and i!=k:\n",
        "                coef[(f\"aux2_{i}_{j}\",f\"aux2_{j}_{k}\")] += lagrange_10\n",
        "                coef[(f\"aux2_{i}_{j}\",f\"aux2_{i}_{k}\")] -= lagrange_10\n",
        "                coef[(f\"aux2_{j}_{k}\",f\"aux2_{i}_{k}\")] -= lagrange_10\n",
        "                coef[(f\"aux2_{i}_{k}\",f\"aux2_{i}_{k}\")] +=  lagrange_10"
      ],
      "metadata": {
        "id": "TdzF1DqUWUjC"
      },
      "execution_count": null,
      "outputs": [],
      "id": "TdzF1DqUWUjC"
    },
    {
      "cell_type": "markdown",
      "source": [
        "### Restricción 11:\n",
        "Función de penalización:\n",
        "\\begin{equation}\n",
        "            \\begin{gathered}\n",
        "                \\sum_{i_1=0}^{N+1}\\sum_{i_2=0}^{N+1}\\sum_{j_1=0}^{N+1}\\sum_{j_2=0}^{N+1} dist_{i_1,j_1}dist_{i_2,j_2}x_{i_1,j_1,1,q}x_{i_2,j_2,1,q} \\\\\n",
        "                + \\sum_{i=0}^{N+1}\\sum_{j=0}^{N+1}\\sum_{h=0}^{h_{\\text{max}}}2^{h+1}dist_{i,j}x_{i,j,1,q}b_{h,q} \\\\\n",
        "                + \\sum_{h_1=0}^{h_{\\text{max}}}\\sum_{h_2=0}^{h_{\\text{max}}}2^{h_1}2^{h_2}b_{h_2,1}b_{h_1,1} \\\\\n",
        "                + \\sum_{i_1=0}^{N+1}\\sum_{i_2=0}^{N+1}\\sum_{j_1=0}^{N+1}\\sum_{j_2=0}^{N+1} dist_{i_1,j_1}dist_{i_2,j_2}x_{i_1,j_1,1,1}x_{i_2,j_2,1,1} \\\\\n",
        "                - \\sum_{h=0}^{h_{\\text{max}}}\\sum_{i=0}^{N+1}\\sum_{j=0}^{N+1}2^{h+1}dist_{i,j}x_{i,j,1,1}b_{h,q} \\\\\n",
        "                - \\sum_{i_1=0}^{N+1}\\sum_{i_2=0}^{N+1}\\sum_{j_1=0}^{N+1}\\sum_{j_2=0}^{N+1}2  dist_{i_1,j_1}dist_{i_2,j_2}x_{i_1,j_1,1,q}x_{i_2,j_2,1,q}\n",
        "            \\end{gathered}\n",
        "        \\end{equation}\n",
        "Coeficiente de Lagrange:\n",
        "\\begin{equation*}\n",
        "        \\lambda_{11}=1/1000\n",
        "    \\end{equation*}"
      ],
      "metadata": {
        "id": "3c8DuiGHWHFz"
      },
      "id": "3c8DuiGHWHFz"
    },
    {
      "cell_type": "code",
      "source": [
        "lagrange_11=0.001\n",
        "for q in range(2,Q+1):\n",
        "    for i1 in lis_n:\n",
        "        for j1 in lis_n:\n",
        "            for i2 in lis_n:\n",
        "                for j2 in lis_n:\n",
        "                    coef[(f\"x_{i1}_{j1}_{1}_{q}\",f\"x_{i2}_{j2}_{1}_{q}\")] += lagrange_11*distancia[i1,j1]*distancia[i2,j2]\n",
        "    for i in lis_n:\n",
        "        for j in lis_n:\n",
        "            for h in lis_h:\n",
        "                coef[(f\"x_{i}_{j}_{1}_{q}\",f\"b_{h}_{q}\")] += lagrange_11*2**(h+1)*distancia[i,j]\n",
        "    for h1 in lis_h:\n",
        "        for h2 in lis_h:\n",
        "            coef[(f\"b_{h1}_{q}\",f\"b_{h2}_{q}\")] += lagrange_11*2**h1*2**h2\n",
        "    for i1 in lis_n:\n",
        "        for j1 in lis_n:\n",
        "            for i2 in lis_n:\n",
        "                for j2 in lis_n:\n",
        "                    coef[(f\"x_{i1}_{j1}_{1}_{1}\",f\"x_{i2}_{j2}_{1}_{1}\")] += lagrange_11*distancia[i1,j1]*distancia[i2,j2]\n",
        "    for i in lis_n:\n",
        "        for j in lis_n:\n",
        "            for h in lis_h:\n",
        "                coef[(f\"x_{i}_{j}_{1}_{1}\",f\"b_{h}_{q}\")] += -lagrange_11*2*2**h*distancia[i,j]\n",
        "    for i1 in lis_n:\n",
        "        for j1 in lis_n:\n",
        "            for i2 in lis_n:\n",
        "                for j2 in lis_n:\n",
        "                    coef[(f\"x_{i1}_{j1}_{1}_{1}\",f\"x_{i2}_{j2}_{1}_{q}\")] += -2*lagrange_11*distancia[i1,j1]*distancia[i2,j2]\n"
      ],
      "metadata": {
        "id": "XOfDGEhZb96F"
      },
      "execution_count": null,
      "outputs": [],
      "id": "XOfDGEhZb96F"
    },
    {
      "cell_type": "markdown",
      "source": [
        "Función objetivo:\n",
        "\\begin{equation}\n",
        "    \\sum_{i=0}^{N+1} \\sum_{j=0}^{N+1} d_{i,j} x_{i,j,1,1}\n",
        "\\end{equation}\n"
      ],
      "metadata": {
        "id": "B20n0wOVWuWS"
      },
      "id": "B20n0wOVWuWS"
    },
    {
      "cell_type": "code",
      "source": [
        "lagrange_objetivo=1\n",
        "for i in lis_n:\n",
        "    for j in lis_n:\n",
        "        coef[(f\"x_{i}_{j}_{1}_{1}\",)] += lagrange_objetivo * distancia[i,j]"
      ],
      "metadata": {
        "id": "HlYFSxdsWzFa"
      },
      "execution_count": null,
      "outputs": [],
      "id": "HlYFSxdsWzFa"
    },
    {
      "cell_type": "markdown",
      "source": [
        "## Ejecución\n",
        "\n",
        "Para la ejecución del problema, debemos crear primero de todo el modelo cuadrático vinario (BQM) que le pasaremos al *sampler* de *D-Wave*. Este modelo es un diccionario que tiene como claves cada par de variables y como valores, el valor calculado en el paso anterior."
      ],
      "metadata": {
        "id": "lOTXUahWC0P4"
      },
      "id": "lOTXUahWC0P4"
    },
    {
      "cell_type": "code",
      "source": [
        "dwaveDic = {}\n",
        "for i in coef:\n",
        "    if len(i) == 1:\n",
        "        dwaveDic[(i[0],i[0])] = coef[i]\n",
        "    else:\n",
        "\n",
        "        dwaveDic[i] = coef[i]"
      ],
      "metadata": {
        "id": "lKuGaEQXYTVj"
      },
      "id": "lKuGaEQXYTVj",
      "execution_count": null,
      "outputs": []
    },
    {
      "cell_type": "markdown",
      "source": [
        "### Simulated Annealing\n",
        "El ***Simulated Annealing*** de D-Wave es una opción de software que emula el comportamiento del *annealing simulado* en un ordenador clásico.\n",
        "\n",
        "Es importante destacar que el ***Simulated Annealing*** de *D-Wave* es una simulación clásica del comportamiento del *annealing simulado* y no aprovecha las propiedades cuánticas.\n",
        "\n",
        "Los parámetros que se pueden utilizar en la clase ***SimulatedAnnealingSampler()*** son los siguientes:\n",
        "\n",
        "*   **bqm**: El modelo cuadrático binario que se va a muestrear.\n",
        "*   **beta_range**: Un rango de 2 elementos o una lista que define el inicio y fin de β.\n",
        "\n",
        "*   **beta_schedule_type**: Tipo de programación β, o cómo se interpolan los valores entre los valores dados en beta_range. Los valores admitidos son: \"linear\", \"geometric\", \"custom\".\n",
        "\n",
        "*   **num_reads**: Número de lecturas o muestras. Cada lectura se genera mediante una ejecución del algoritmo de Simulated Annealing.\n",
        "\n",
        "*   **num_sweeps**: Número de barridos pasos en el Simulated Annealing. Controla cuántas veces se ejecuta el proceso de Simulated Annealing. Cuanto mayor sea el número de barridos, más oportunidades tendrá el algoritmo para explorar diferentes regiones del espacio de soluciones.\n",
        "*   **num_sweeps_per_beta**: Número de pasos que se realizan en cada β.\n",
        "\n",
        "*   **beta_schedule**: Secuencia de valores barridos. El formato debe ser compatible con beta_schedule_type. Los valores deben ser no negativos y se espera un array de NumPy.\n",
        "\n",
        "*   **seed**: Semilla que se utilizada para el generador de números pseudoaleatorios.\n",
        "\n",
        "*   **initial_states**: Una o más muestras, cada una definiendo un estado inicial para todas las variables del problema. Se da un estado inicial por lectura, pero si se especifican menos estados iniciales, se generan valores adicionales según lo especificado por *initial_states_generator*.\n",
        "*   **initial_states_generator**: Define cómo se completan los estados iniciales en el caso de que no se especifiquen todos. Los posibles valores son \"none\", \"tile\" o \"random\"  \n",
        "\n",
        "*   **interrupt_function**: se llama a esta función entre cada muestra sin ningun parámetro. Si devuelve *true*,  el algoritmo Simulated Annealing se terminará y devolverá todas las muestras y energías encontradas hasta ese momento.\n",
        "\n",
        "\n",
        "\n",
        "\n",
        "**Nota:**En el contexto del algoritmo Simulated Annealing, β se refiere a cada paso del algoritmo. Representa la temperatura en cada paso de Simulated Annealing.\n",
        "\n",
        "[D-Wave Ocean](https://docs.ocean.dwavesys.com/en/stable/docs_samplers/generated/dwave.samplers.SimulatedAnnealingSampler.sample.html)"
      ],
      "metadata": {
        "id": "pG-J5tPilqgh"
      },
      "id": "pG-J5tPilqgh"
    },
    {
      "cell_type": "code",
      "source": [
        "sampler = SimulatedAnnealingSampler()\n",
        "sampleset = sampler.sample_qubo(dwaveDic, num_sweeps=3000, num_sweeps_per_beta=100, num_reads =20000)"
      ],
      "metadata": {
        "id": "m55Qb0rUdNbL"
      },
      "id": "m55Qb0rUdNbL",
      "execution_count": null,
      "outputs": []
    },
    {
      "cell_type": "code",
      "source": [
        "solucion=sampleset.first.sample"
      ],
      "metadata": {
        "id": "mVCuk0m2pdqV"
      },
      "id": "mVCuk0m2pdqV",
      "execution_count": null,
      "outputs": []
    },
    {
      "cell_type": "markdown",
      "source": [
        "##Solución\n",
        "A continuación, mostraremos la solución obtenida tras utilizar Quantum Annealing.\n",
        "Por un lado, vemos las rutas que recorren cada uno de los vehículos individualmente. Tras ello, se muestra la solución en la que sí aparecen los dos vehículos juntos. En esta solución, el color azul representa el primer vehículo y el color verde al segundo."
      ],
      "metadata": {
        "id": "vK1K2YGmcQDK"
      },
      "id": "vK1K2YGmcQDK"
    },
    {
      "cell_type": "code",
      "source": [
        "for q in lis_q:\n",
        "    matSol = np.zeros((N+2,N+2))\n",
        "    for i in  range(N+2):\n",
        "        for j in range(N+2):\n",
        "            if solucion[f\"x_{i}_{j}_{1}_{q}\"] == 1:\n",
        "                matSol[i,j] = 1\n",
        "\n",
        "    ## Pintamos el camino propuesto\n",
        "    plt.plot(puntos[:,0],puntos[:,1],'o')\n",
        "    vaux = np.array(list(range(N+2)))\n",
        "    suma_ruta = 0\n",
        "    for i in range(N+1):\n",
        "        sig_aux = matSol[i,:]==1\n",
        "        if np.sum(sig_aux) > 0:\n",
        "            sig = (int(vaux[sig_aux][0]))%(N+1)\n",
        "            plt.plot(puntos[(i,sig),0],puntos[(i,sig),1])\n",
        "            suma_ruta += np.floor(1000*toNumpy(puntos[i,:]-puntos[sig,:]))\n",
        "    plt.show()\n",
        "    print(\"El vehículo \",q,\" viaja una distancia \",suma_ruta)"
      ],
      "metadata": {
        "id": "cmf-ougrCQjD",
        "colab": {
          "base_uri": "https://localhost:8080/",
          "height": 878
        },
        "outputId": "91c5d756-fffd-4268-f244-65d2239a8b32"
      },
      "id": "cmf-ougrCQjD",
      "execution_count": null,
      "outputs": [
        {
          "output_type": "display_data",
          "data": {
            "text/plain": [
              "<Figure size 640x480 with 1 Axes>"
            ],
            "image/png": "[encoded data removed]"
          },
          "metadata": {}
        },
        {
          "output_type": "stream",
          "name": "stdout",
          "text": [
            "El vehículo  1  viaja una distancia  2148.0\n"
          ]
        },
        {
          "output_type": "display_data",
          "data": {
            "text/plain": [
              "<Figure size 640x480 with 1 Axes>"
            ],
            "image/png": "[encoded data removed]"
          },
          "metadata": {}
        },
        {
          "output_type": "stream",
          "name": "stdout",
          "text": [
            "El vehículo  2  viaja una distancia  1196.0\n"
          ]
        }
      ]
    },
    {
      "cell_type": "code",
      "source": [
        "colores = [\"blue\",\"green\",\"red\"]\n",
        "sol = np.zeros((N+2,N+2))\n",
        "sol2 = np.zeros((N+2,N+2))\n",
        "for q in lis_q:\n",
        "    mat_sol = np.zeros((N+2,N+2))\n",
        "    for i in  range(N+2):\n",
        "        for j in range(N+2):\n",
        "            if solucion[f\"x_{i}_{j}_{1}_{q}\"] == 1:\n",
        "                mat_sol[i%len(puntos),j%len(puntos)] = 1\n",
        "\n",
        "    sol += mat_sol\n",
        "    sol2 += mat_sol * (q-1)\n",
        "\n",
        "    plt.plot(puntos[:,0],puntos[:,1],'o')\n",
        "    vaux = np.array(list(range(N+2)))\n",
        "    suma_ruta = 0\n",
        "    for i in range(N+1):\n",
        "        sig_aux = mat_sol[i,:]==1\n",
        "        if np.sum(sig_aux) > 0:\n",
        "            sig = (int(vaux[sig_aux][0]))%(N+1)\n",
        "            plt.plot(puntos[(i,sig),0],puntos[(i,sig),1],colores[q-1])\n",
        "            suma_ruta += np.floor(1000*toNumpy(puntos[i,:]-puntos[sig,:]))\n",
        "    #plt.show()\n",
        "    print(\"El vehículo \",q,\" viaja una distancia de: \",suma_ruta)\n"
      ],
      "metadata": {
        "colab": {
          "base_uri": "https://localhost:8080/",
          "height": 465
        },
        "id": "_1EjiD4Vkylp",
        "outputId": "003cde4f-5d6d-4765-d482-ea1259c805e8"
      },
      "id": "_1EjiD4Vkylp",
      "execution_count": null,
      "outputs": [
        {
          "output_type": "stream",
          "name": "stdout",
          "text": [
            "El vehículo  1  viaja una distancia de:  2148.0\n",
            "El vehículo  2  viaja una distancia de:  1196.0\n"
          ]
        },
        {
          "output_type": "display_data",
          "data": {
            "text/plain": [
              "<Figure size 640x480 with 1 Axes>"
            ],
            "image/png": "[encoded data removed]"
          },
          "metadata": {}
        }
      ]
    },
    {
      "cell_type": "markdown",
      "source": [
        "Dibujaremos la solución en forma de grafo dirigido para ver el orden en el que se recorre cada ciudad. De nuevo, el color azul representa el primer vehículo y el color verde al segundo."
      ],
      "metadata": {
        "id": "_1A0ZP6mcgqG"
      },
      "id": "_1A0ZP6mcgqG"
    },
    {
      "cell_type": "code",
      "source": [
        "import numpy as np\n",
        "import networkx as nx\n",
        "\n",
        "colores = [\"blue\",\"green\",\"red\"]\n",
        "\n",
        "G = nx.DiGraph()\n",
        "rows, cols = np.where(sol == 1)\n",
        "edges = list(zip(rows.tolist(), cols.tolist()))\n",
        "edges2 = [(x[0], x[1]%len(puntos)) for x in edges]\n",
        "\n",
        "G.add_edges_from(edges2)\n",
        "pos2 = nx.spring_layout(G)\n",
        "nx.draw_networkx_labels(G, pos2)\n",
        "values = [colores[int(sol2[x[0], x[1]])] for x in G.edges]\n",
        "\n",
        "nx.draw_networkx_edges(G, pos2, edge_color = values)\n",
        "\n",
        "node_colors = [\"lightblue\" for _ in range(len(G.nodes))]\n",
        "node_colors[0] = \"lightgreen\"\n",
        "\n",
        "nx.draw(G, pos2, edge_color=values, node_color = node_colors)\n",
        "plt.show()"
      ],
      "metadata": {
        "id": "JKD65WwvpcMd",
        "colab": {
          "base_uri": "https://localhost:8080/",
          "height": 406
        },
        "outputId": "ba3c6e27-09eb-44af-f163-b4091cf7f67f"
      },
      "id": "JKD65WwvpcMd",
      "execution_count": null,
      "outputs": [
        {
          "output_type": "display_data",
          "data": {
            "text/plain": [
              "<Figure size 640x480 with 1 Axes>"
            ],
            "image/png": "[encoded data removed]"
          },
          "metadata": {}
        }
      ]
    },
    {
      "cell_type": "code",
      "source": [],
      "metadata": {
        "id": "Riy06q5Dj8Hb"
      },
      "id": "Riy06q5Dj8Hb",
      "execution_count": null,
      "outputs": []
    }
  ],
  "metadata": {
    "colab": {
      "provenance": []
    },
    "gpuClass": "standard",
    "kernelspec": {
      "display_name": "Python 3 (ipykernel)",
      "language": "python",
      "name": "python3"
    },
    "language_info": {
      "codemirror_mode": {
        "name": "ipython",
        "version": 3
      },
      "file_extension": ".py",
      "mimetype": "text/x-python",
      "name": "python",
      "nbconvert_exporter": "python",
      "pygments_lexer": "ipython3",
      "version": "3.9.12"
    }
  },
  "nbformat": 4,
  "nbformat_minor": 5
}