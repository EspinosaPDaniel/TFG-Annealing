{
  "cells": [
    {
      "cell_type": "markdown",
      "source": [
        "# Resolución del problema VRP\n",
        "En esta libreta se resuelve el problema VRP para así comparar soluciones con las obtenidas mediante *Simulated Annealing* y *Quantum Annealing*\n",
        "\n",
        "El código se ha obtenido del siguiente [enlace](https://developers.google.com/optimization/routing/vrp?hl=es-419)"
      ],
      "metadata": {
        "id": "SbZHERy7hfF1"
      },
      "id": "SbZHERy7hfF1"
    },
    {
      "cell_type": "code",
      "execution_count": null,
      "id": "487c3c0c-7c11-4267-b1e4-29e80d67a84a",
      "metadata": {
        "id": "487c3c0c-7c11-4267-b1e4-29e80d67a84a",
        "outputId": "d816412e-d345-482a-a7bc-df4b7b9bd4df"
      },
      "outputs": [
        {
          "name": "stdout",
          "output_type": "stream",
          "text": [
            "Objective: 210949\n",
            "Ruta del vehículo 1:\n",
            " 0 ->  1 ->  2 ->  6 -> 0\n",
            "Distancia recorrida: 1778m\n",
            "\n",
            "Ruta del vehículo 2:\n",
            " 0 ->  5 ->  4 ->  3 -> 0\n",
            "Distancia recorrida: 2071m\n",
            "\n"
          ]
        }
      ],
      "source": [
        "from ortools.constraint_solver import routing_enums_pb2\n",
        "from ortools.constraint_solver import pywrapcp\n",
        "\n",
        "\n",
        "def create_data_model():\n",
        "    \"\"\"Stores the data for the problem.\"\"\"\n",
        "    data = {}\n",
        "    data['distance_matrix'] = [[   0,  320,  245,  591,  463,  512,  612,],\n",
        " [ 320,    0,  407,  905,  630,  555,  846,],\n",
        " [ 245,  407,    0,  576,  703,  756,  439,],\n",
        " [ 591,  905,  576,    0,  747,  932,  391,],\n",
        " [ 463,  630,  703,  747,    0,  221,  965,],\n",
        " [ 512,  555,  756,  932,  221,    0, 1093,],\n",
        " [ 612,  846,  439,  391,  965, 1093,    0,]]\n",
        "    data['num_vehicles'] = 2\n",
        "    data['depot'] = 0\n",
        "    return data\n",
        "\n",
        "\n",
        "def print_solution(data, manager, routing, solution):\n",
        "    \"\"\"Prints solution on console.\"\"\"\n",
        "    print(f'Objective: {solution.ObjectiveValue()}')\n",
        "    max_route_distance = 0\n",
        "    for vehicle_id in range(data['num_vehicles']):\n",
        "        index = routing.Start(vehicle_id)\n",
        "        plan_output = 'Ruta del vehículo {}:\\n'.format(vehicle_id+1)\n",
        "        route_distance = 0\n",
        "        while not routing.IsEnd(index):\n",
        "            plan_output += ' {} -> '.format(manager.IndexToNode(index))\n",
        "            previous_index = index\n",
        "            index = solution.Value(routing.NextVar(index))\n",
        "            route_distance += routing.GetArcCostForVehicle(\n",
        "                previous_index, index, vehicle_id)\n",
        "        plan_output += '{}\\n'.format(manager.IndexToNode(index))\n",
        "        plan_output += 'Distancia recorrida: {}m\\n'.format(route_distance)\n",
        "        print(plan_output)\n",
        "        max_route_distance = max(route_distance, max_route_distance)\n",
        "\n",
        "\n",
        "def main():\n",
        "    \"\"\"Entry point of the program.\"\"\"\n",
        "    # Instantiate the data problem.\n",
        "    data = create_data_model()\n",
        "\n",
        "    # Create the routing index manager.\n",
        "    manager = pywrapcp.RoutingIndexManager(len(data['distance_matrix']),\n",
        "                                           data['num_vehicles'], data['depot'])\n",
        "\n",
        "    # Create Routing Model.\n",
        "    routing = pywrapcp.RoutingModel(manager)\n",
        "\n",
        "\n",
        "    # Create and register a transit callback.\n",
        "    def distance_callback(from_index, to_index):\n",
        "        \"\"\"Returns the distance between the two nodes.\"\"\"\n",
        "        # Convert from routing variable Index to distance matrix NodeIndex.\n",
        "        from_node = manager.IndexToNode(from_index)\n",
        "        to_node = manager.IndexToNode(to_index)\n",
        "        return data['distance_matrix'][from_node][to_node]\n",
        "\n",
        "    transit_callback_index = routing.RegisterTransitCallback(distance_callback)\n",
        "\n",
        "    # Define cost of each arc.\n",
        "    routing.SetArcCostEvaluatorOfAllVehicles(transit_callback_index)\n",
        "\n",
        "    # Add Distance constraint.\n",
        "    dimension_name = 'Distance'\n",
        "    routing.AddDimension(\n",
        "        transit_callback_index,\n",
        "        0,  # no slack\n",
        "        3000,  # vehicle maximum travel distance\n",
        "        True,  # start cumul to zero\n",
        "        dimension_name)\n",
        "    distance_dimension = routing.GetDimensionOrDie(dimension_name)\n",
        "    distance_dimension.SetGlobalSpanCostCoefficient(100)\n",
        "\n",
        "    # Setting first solution heuristic.\n",
        "    search_parameters = pywrapcp.DefaultRoutingSearchParameters()\n",
        "    search_parameters.first_solution_strategy = (\n",
        "        routing_enums_pb2.FirstSolutionStrategy.PATH_CHEAPEST_ARC)\n",
        "\n",
        "    # Solve the problem.\n",
        "    solution = routing.SolveWithParameters(search_parameters)\n",
        "\n",
        "    # Print solution on console.\n",
        "    if solution:\n",
        "        print_solution(data, manager, routing, solution)\n",
        "    else:\n",
        "        print('No solution found !')\n",
        "\n",
        "\n",
        "if __name__ == '__main__':\n",
        "    main()"
      ]
    },
    {
      "cell_type": "code",
      "execution_count": null,
      "id": "dc813dec-c511-4094-be4f-a5875fdb8c33",
      "metadata": {
        "id": "dc813dec-c511-4094-be4f-a5875fdb8c33"
      },
      "outputs": [],
      "source": []
    }
  ],
  "metadata": {
    "kernelspec": {
      "display_name": "Python 3 (ipykernel)",
      "language": "python",
      "name": "python3"
    },
    "language_info": {
      "codemirror_mode": {
        "name": "ipython",
        "version": 3
      },
      "file_extension": ".py",
      "mimetype": "text/x-python",
      "name": "python",
      "nbconvert_exporter": "python",
      "pygments_lexer": "ipython3",
      "version": "3.10.8"
    },
    "colab": {
      "provenance": []
    }
  },
  "nbformat": 4,
  "nbformat_minor": 5
}