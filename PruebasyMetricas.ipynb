{
  "cells": [
    {
      "cell_type": "markdown",
      "id": "OugojSgJoW-Y",
      "metadata": {
        "id": "OugojSgJoW-Y"
      },
      "source": [
        "#Instalaciones Previas"
      ]
    },
    {
      "cell_type": "code",
      "execution_count": null,
      "id": "3CetbTfTYMzt",
      "metadata": {
        "colab": {
          "base_uri": "https://localhost:8080/"
        },
        "id": "3CetbTfTYMzt",
        "outputId": "98f7a3cd-eec0-4f3c-db11-1f3b3f616b44"
      },
      "outputs": [
        {
          "output_type": "stream",
          "name": "stdout",
          "text": [
            "Requirement already satisfied: dwave-neal in /usr/local/lib/python3.10/dist-packages (0.6.0)\n",
            "Requirement already satisfied: dwave-samplers<2.0.0,>=1.0.0 in /usr/local/lib/python3.10/dist-packages (from dwave-neal) (1.0.0)\n",
            "Requirement already satisfied: numpy<2.0.0,>=1.19.0 in /usr/local/lib/python3.10/dist-packages (from dwave-samplers<2.0.0,>=1.0.0->dwave-neal) (1.22.4)\n",
            "Requirement already satisfied: dimod<0.13.0,>=0.12.0 in /usr/local/lib/python3.10/dist-packages (from dwave-samplers<2.0.0,>=1.0.0->dwave-neal) (0.12.10)\n",
            "Requirement already satisfied: networkx>=2.4.0 in /usr/local/lib/python3.10/dist-packages (from dwave-samplers<2.0.0,>=1.0.0->dwave-neal) (2.8.8)\n",
            "Requirement already satisfied: qubovert in /usr/local/lib/python3.10/dist-packages (1.2.5)\n",
            "Requirement already satisfied: numpy in /usr/local/lib/python3.10/dist-packages (from qubovert) (1.22.4)\n",
            "Requirement already satisfied: dwave-system in /usr/local/lib/python3.10/dist-packages (1.20.0)\n",
            "Requirement already satisfied: dimod<0.14.0,>=0.12.7 in /usr/local/lib/python3.10/dist-packages (from dwave-system) (0.12.10)\n",
            "Requirement already satisfied: dwave-cloud-client<0.11.0,>=0.9.1 in /usr/local/lib/python3.10/dist-packages (from dwave-system) (0.10.6)\n",
            "Requirement already satisfied: dwave-networkx>=0.8.10 in /usr/local/lib/python3.10/dist-packages (from dwave-system) (0.8.14)\n",
            "Requirement already satisfied: dwave-preprocessing>=0.5.0 in /usr/local/lib/python3.10/dist-packages (from dwave-system) (0.6.2)\n",
            "Requirement already satisfied: networkx<3.0,>=2.0 in /usr/local/lib/python3.10/dist-packages (from dwave-system) (2.8.8)\n",
            "Requirement already satisfied: homebase<2.0.0,>=1.0.0 in /usr/local/lib/python3.10/dist-packages (from dwave-system) (1.0.1)\n",
            "Requirement already satisfied: minorminer<0.3.0,>=0.2.8 in /usr/local/lib/python3.10/dist-packages (from dwave-system) (0.2.11)\n",
            "Requirement already satisfied: numpy>=1.20.0 in /usr/local/lib/python3.10/dist-packages (from dwave-system) (1.22.4)\n",
            "Requirement already satisfied: dwave-samplers>=1.0.0 in /usr/local/lib/python3.10/dist-packages (from dwave-system) (1.0.0)\n",
            "Requirement already satisfied: scipy>=1.7.3 in /usr/local/lib/python3.10/dist-packages (from dwave-system) (1.10.1)\n",
            "Requirement already satisfied: requests[socks]>=2.18 in /usr/local/lib/python3.10/dist-packages (from dwave-cloud-client<0.11.0,>=0.9.1->dwave-system) (2.27.1)\n",
            "Requirement already satisfied: pydantic<2,>=1.7.3 in /usr/local/lib/python3.10/dist-packages (from dwave-cloud-client<0.11.0,>=0.9.1->dwave-system) (1.10.9)\n",
            "Requirement already satisfied: click>=7.0 in /usr/local/lib/python3.10/dist-packages (from dwave-cloud-client<0.11.0,>=0.9.1->dwave-system) (8.1.3)\n",
            "Requirement already satisfied: python-dateutil>=2.7 in /usr/local/lib/python3.10/dist-packages (from dwave-cloud-client<0.11.0,>=0.9.1->dwave-system) (2.8.2)\n",
            "Requirement already satisfied: plucky>=0.4.3 in /usr/local/lib/python3.10/dist-packages (from dwave-cloud-client<0.11.0,>=0.9.1->dwave-system) (0.4.3)\n",
            "Requirement already satisfied: diskcache>=5.2.1 in /usr/local/lib/python3.10/dist-packages (from dwave-cloud-client<0.11.0,>=0.9.1->dwave-system) (5.6.1)\n",
            "Requirement already satisfied: packaging>=19 in /usr/local/lib/python3.10/dist-packages (from dwave-cloud-client<0.11.0,>=0.9.1->dwave-system) (23.1)\n",
            "Requirement already satisfied: werkzeug>=2.2 in /usr/local/lib/python3.10/dist-packages (from dwave-cloud-client<0.11.0,>=0.9.1->dwave-system) (2.3.6)\n",
            "Requirement already satisfied: fasteners in /usr/local/lib/python3.10/dist-packages (from minorminer<0.3.0,>=0.2.8->dwave-system) (0.18)\n",
            "Requirement already satisfied: rectangle-packer>=2.0.1 in /usr/local/lib/python3.10/dist-packages (from minorminer<0.3.0,>=0.2.8->dwave-system) (2.0.1)\n",
            "Requirement already satisfied: typing-extensions>=4.2.0 in /usr/local/lib/python3.10/dist-packages (from pydantic<2,>=1.7.3->dwave-cloud-client<0.11.0,>=0.9.1->dwave-system) (4.6.3)\n",
            "Requirement already satisfied: six>=1.5 in /usr/local/lib/python3.10/dist-packages (from python-dateutil>=2.7->dwave-cloud-client<0.11.0,>=0.9.1->dwave-system) (1.16.0)\n",
            "Requirement already satisfied: urllib3<1.27,>=1.21.1 in /usr/local/lib/python3.10/dist-packages (from requests[socks]>=2.18->dwave-cloud-client<0.11.0,>=0.9.1->dwave-system) (1.26.16)\n",
            "Requirement already satisfied: certifi>=2017.4.17 in /usr/local/lib/python3.10/dist-packages (from requests[socks]>=2.18->dwave-cloud-client<0.11.0,>=0.9.1->dwave-system) (2023.5.7)\n",
            "Requirement already satisfied: charset-normalizer~=2.0.0 in /usr/local/lib/python3.10/dist-packages (from requests[socks]>=2.18->dwave-cloud-client<0.11.0,>=0.9.1->dwave-system) (2.0.12)\n",
            "Requirement already satisfied: idna<4,>=2.5 in /usr/local/lib/python3.10/dist-packages (from requests[socks]>=2.18->dwave-cloud-client<0.11.0,>=0.9.1->dwave-system) (3.4)\n",
            "Requirement already satisfied: PySocks!=1.5.7,>=1.5.6 in /usr/local/lib/python3.10/dist-packages (from requests[socks]>=2.18->dwave-cloud-client<0.11.0,>=0.9.1->dwave-system) (1.7.1)\n",
            "Requirement already satisfied: MarkupSafe>=2.1.1 in /usr/local/lib/python3.10/dist-packages (from werkzeug>=2.2->dwave-cloud-client<0.11.0,>=0.9.1->dwave-system) (2.1.3)\n",
            "Requirement already satisfied: tabulate in /usr/local/lib/python3.10/dist-packages (0.8.10)\n"
          ]
        }
      ],
      "source": [
        "!pip3 install dwave-neal\n",
        "!pip3 install qubovert\n",
        "!pip3 install dwave-system\n",
        "!pip install tabulate"
      ]
    },
    {
      "cell_type": "code",
      "execution_count": null,
      "id": "gA8cKLWQYNgv",
      "metadata": {
        "id": "gA8cKLWQYNgv"
      },
      "outputs": [],
      "source": [
        "from neal import SimulatedAnnealingSampler\n",
        "from dwave.system import DWaveSampler, EmbeddingComposite\n",
        "import numpy as np\n",
        "import matplotlib.pyplot as plt\n",
        "from time import time\n",
        "import pandas as pd\n",
        "from tabulate import tabulate\n",
        "from dwave.cloud import Client\n",
        "import time as time\n",
        "import dimod\n",
        "import neal\n",
        "import minorminer\n",
        "import dwave_networkx as dnx\n",
        "from dwave.cloud import Client\n",
        "from dwave.embedding import embed_qubo, unembed_sampleset\n",
        "from dwave.embedding.utils import edgelist_to_adjacency\n",
        "from dwave.system.samplers import DWaveSampler\n",
        "from dwave.embedding.chain_breaks import majority_vote\n",
        "import numpy as np\n",
        "import matplotlib.pyplot as plt"
      ]
    },
    {
      "cell_type": "markdown",
      "id": "8G3o_ywrc8Sa",
      "metadata": {
        "id": "8G3o_ywrc8Sa"
      },
      "source": [
        "## Parámetros\n",
        "\n",
        "\n",
        "*   **R**: valor que toma *R* para el problema TSP. En este caso *R=3*.\n",
        "*   **lis_r**: lista con los valores de *r* para facilitar operaciones.\n",
        "*   **TOKEN**: token para el acceso a los computadores de D-Wave.\n",
        "*   **sampler_qpu**: *sampler* o computador de D-Wave que usaremos para nuestras métricas.\n",
        "\n"
      ]
    },
    {
      "cell_type": "code",
      "execution_count": null,
      "id": "YwQVQKA3Zj-m",
      "metadata": {
        "id": "YwQVQKA3Zj-m"
      },
      "outputs": [],
      "source": [
        "R=3\n",
        "lis_r = range(R)\n",
        "TOKEN=\"DEV-512e056dfd01980d70f3c29a9e1207e80f34783b\"\n",
        "sampler_qpu = DWaveSampler(token=TOKEN, solver={'name': 'Advantage_system6.2'})"
      ]
    },
    {
      "cell_type": "markdown",
      "source": [
        "## Grafos de las distintas topologías\n",
        "Haciendo uso de la libreria *dwave_network* podemos crear grafos asociados a cada topología."
      ],
      "metadata": {
        "id": "HLdX6Bl0WmQ7"
      },
      "id": "HLdX6Bl0WmQ7"
    },
    {
      "cell_type": "code",
      "source": [
        "#Pegasus\n",
        "pegasus_graph = dnx.pegasus_graph(15)\n",
        "\n",
        "#Chimera\n",
        "chimera_graph = dnx.chimera_graph(16,16)"
      ],
      "metadata": {
        "id": "Nu8kXIcxWs4D"
      },
      "id": "Nu8kXIcxWs4D",
      "execution_count": null,
      "outputs": []
    },
    {
      "cell_type": "markdown",
      "source": [
        "## Listas para guardar las métricas"
      ],
      "metadata": {
        "id": "YhvpzLLBW2O_"
      },
      "id": "YhvpzLLBW2O_"
    },
    {
      "cell_type": "code",
      "source": [
        "num_var=[]\n",
        "num_qubits=[]\n",
        "tiempos_ej=[]\n",
        "tiempos_em=[]\n",
        "chain_length=[]\n",
        "num=[1,2,3,4,5,6,7,8]"
      ],
      "metadata": {
        "colab": {
          "base_uri": "https://localhost:8080/"
        },
        "id": "UwrjOFxGcFVI",
        "outputId": "c4625ea9-4e1c-4925-ccb4-01fbe047161e"
      },
      "id": "UwrjOFxGcFVI",
      "execution_count": null,
      "outputs": [
        {
          "output_type": "execute_result",
          "data": {
            "text/plain": [
              "[]"
            ]
          },
          "metadata": {},
          "execution_count": 12
        }
      ]
    },
    {
      "cell_type": "markdown",
      "source": [
        "## Proceso de embedding o mapeo\n",
        "Recordemos que el  proceso de *embedding* intenta traducir el problema lógico en un conjunto de operaciones y conexiones entre los qubits físicos, teniendo en cuenta las restricciones de conectividad y la topología del procesador.\n",
        "Para ello llamaremos a la sentencia:\n",
        "\n",
        "*embedding = minorminer.find_embedding(problem_graph, pegasus_graph)*\n",
        "\n",
        "La variable *embedding* tendrá el resultado del mapeo en el caso de que se haya podido realizar y None en caso contrario.\n",
        "\n",
        "Una vez tenemos el proceso realizado podemos calcular el número de qubits físicos que se están usando. Debemos tener en cuenta que realizar este proceso no nos devuelve siempre la misma solución."
      ],
      "metadata": {
        "id": "rdapBnxuYB4_"
      },
      "id": "rdapBnxuYB4_"
    },
    {
      "cell_type": "code",
      "source": [
        "for n in num:\n",
        "  max = 0\n",
        "  lis_n = range(0,n+1)\n",
        "  numVariables = len(lis_n)*len(lis_n)*len(lis_r)\n",
        "  num_var.append(numVariables)\n",
        "  problem_graph = nx.complete_graph(numVariables)\n",
        "  t=time.time()\n",
        "  embedding = minorminer.find_embedding(problem_graph, pegasus_graph)\n",
        "  t=time.time()-t\n",
        "  tiempos_em.append(t)\n",
        "\n",
        "\n",
        "  if embedding !={}:\n",
        "    num_qubits.append(sum(len(chain) for chain in embedding.values()))\n",
        "    for i in embedding.values():\n",
        "      if len(i) >max:\n",
        "        max=len(i)\n",
        "    chain_length.append(max)\n",
        "  else:\n",
        "    num_qubits.append(0)\n",
        "    chain_length.append(0)\n",
        "\n"
      ],
      "metadata": {
        "id": "2RhTVSDpBDfL"
      },
      "id": "2RhTVSDpBDfL",
      "execution_count": null,
      "outputs": []
    },
    {
      "cell_type": "markdown",
      "source": [
        "## Cálculo del tiempo de ejecución de un problema\n",
        "Utilizando el *sampler* que hemos escogido anteriormente, llamamos a la función para estimar el timepo.\n",
        "\n"
      ],
      "metadata": {
        "id": "kXiUgn0mY_Eb"
      },
      "id": "kXiUgn0mY_Eb"
    },
    {
      "cell_type": "code",
      "source": [
        "for q in num_qubits:\n",
        "  if q!=0:\n",
        "    estimated_runtime = sampler_qpu.solver.estimate_qpu_access_time(q, num_reads=200, annealing_time=500000)\n",
        "    tiempos_ej.append(estimated_runtime)\n",
        "  else:\n",
        "    tiempos_ej.append(0)"
      ],
      "metadata": {
        "id": "MCZtgiGRDVlk"
      },
      "id": "MCZtgiGRDVlk",
      "execution_count": null,
      "outputs": []
    },
    {
      "cell_type": "markdown",
      "source": [
        "Pasamos el tiempo"
      ],
      "metadata": {
        "id": "fzOX9kGWfhp9"
      },
      "id": "fzOX9kGWfhp9"
    },
    {
      "cell_type": "code",
      "source": [
        "for i in range(8):\n",
        "  tiempos_ej[i]=tiempos_ej[i]/1000000"
      ],
      "metadata": {
        "id": "dQdigqMMJGji"
      },
      "id": "dQdigqMMJGji",
      "execution_count": null,
      "outputs": []
    },
    {
      "cell_type": "markdown",
      "source": [
        "## Tabla con los resultados"
      ],
      "metadata": {
        "id": "bc8Xa-HZZSx_"
      },
      "id": "bc8Xa-HZZSx_"
    },
    {
      "cell_type": "code",
      "source": [
        "df = pd.DataFrame({'Valores de N': num,'Número de variables':num_var,'Número de qubits':num_qubits,'Longitud de cadena máxima':chain_length,'Tiempo de embedding':tiempos_em,'Tiempo de ejecución':tiempos_ej} )\n",
        "print(tabulate(df, headers='keys', tablefmt='pretty', showindex=False))"
      ],
      "metadata": {
        "colab": {
          "base_uri": "https://localhost:8080/"
        },
        "id": "vkOyDgDVKQEl",
        "outputId": "fdc5b151-a52c-440d-eb23-982b8201d34a"
      },
      "id": "vkOyDgDVKQEl",
      "execution_count": null,
      "outputs": [
        {
          "output_type": "stream",
          "name": "stdout",
          "text": [
            "+--------------+---------------------+------------------+---------------------------+---------------------+---------------------+\n",
            "| Valores de N | Número de variables | Número de qubits | Longitud de cadena máxima | Tiempo de embedding | Tiempo de ejecución |\n",
            "+--------------+---------------------+------------------+---------------------------+---------------------+---------------------+\n",
            "|     1.0      |        12.0         |       22.0       |            2.0            | 0.29783129692077637 | 100.01722905443252  |\n",
            "|     2.0      |        27.0         |       75.0       |            3.0            | 2.6735756397247314  | 100.01774109329901  |\n",
            "|     3.0      |        48.0         |      248.0       |            7.0            |  23.36939787864685  | 100.01852042843622  |\n",
            "|     4.0      |        75.0         |      560.0       |           11.0            | 114.41360378265381  | 100.01896002603199  |\n",
            "|     5.0      |        108.0        |      1230.0      |           16.0            | 326.14884781837463  | 100.01896004000001  |\n",
            "|     6.0      |        147.0        |      2486.0      |           27.0            |  996.0646846294403  | 100.01896004000001  |\n",
            "|     7.0      |        192.0        |      4810.0      |           39.0            | 1001.3863725662231  | 100.01896004000001  |\n",
            "|     8.0      |        243.0        |       0.0        |            0.0            | 1074.0601615905762  |         0.0         |\n",
            "+--------------+---------------------+------------------+---------------------------+---------------------+---------------------+\n"
          ]
        }
      ]
    },
    {
      "cell_type": "markdown",
      "source": [
        "## *Solvers* disponibles\n",
        "\n",
        "Con este fragmenteo de código podemos ver los distintos *solvers* que están disponibles para nuestro usuario."
      ],
      "metadata": {
        "id": "qnOPr8d8ZfzO"
      },
      "id": "qnOPr8d8ZfzO"
    },
    {
      "cell_type": "code",
      "source": [
        "# Crear una instancia del cliente de D-Wave\n",
        "client = Client(token=TOKEN)\n",
        "\n",
        "# Obtener la lista de solvers disponibles\n",
        "solver_list = client.get_solvers()\n",
        "for solver in solver_list:\n",
        "    print(solver)"
      ],
      "metadata": {
        "colab": {
          "base_uri": "https://localhost:8080/"
        },
        "id": "vp0X2V_GaV42",
        "outputId": "56068068-68c7-4f6f-9cb1-79595a7bdbae"
      },
      "id": "vp0X2V_GaV42",
      "execution_count": null,
      "outputs": [
        {
          "output_type": "stream",
          "name": "stdout",
          "text": [
            "BQMSolver(id='hybrid_binary_quadratic_model_version2')\n",
            "DQMSolver(id='hybrid_discrete_quadratic_model_version1')\n",
            "CQMSolver(id='hybrid_constrained_quadratic_model_version1')\n",
            "StructuredSolver(id='Advantage2_prototype1.1')\n",
            "StructuredSolver(id='Advantage_system6.2')\n",
            "StructuredSolver(id='Advantage_system4.1')\n"
          ]
        }
      ]
    },
    {
      "cell_type": "code",
      "source": [],
      "metadata": {
        "id": "cHQAZkedBN2q"
      },
      "id": "cHQAZkedBN2q",
      "execution_count": null,
      "outputs": []
    }
  ],
  "metadata": {
    "colab": {
      "provenance": []
    },
    "gpuClass": "standard",
    "kernelspec": {
      "display_name": "Python 3 (ipykernel)",
      "language": "python",
      "name": "python3"
    },
    "language_info": {
      "codemirror_mode": {
        "name": "ipython",
        "version": 3
      },
      "file_extension": ".py",
      "mimetype": "text/x-python",
      "name": "python",
      "nbconvert_exporter": "python",
      "pygments_lexer": "ipython3",
      "version": "3.9.12"
    }
  },
  "nbformat": 4,
  "nbformat_minor": 5
}