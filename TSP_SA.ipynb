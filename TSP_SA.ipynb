{
  "cells": [
    {
      "cell_type": "markdown",
      "id": "OugojSgJoW-Y",
      "metadata": {
        "id": "OugojSgJoW-Y"
      },
      "source": [
        "#Instalaciones Previas"
      ]
    },
    {
      "cell_type": "code",
      "execution_count": null,
      "id": "3CetbTfTYMzt",
      "metadata": {
        "id": "3CetbTfTYMzt"
      },
      "outputs": [],
      "source": [
        "!pip3 install dwave-neal\n",
        "!pip3 install qubovert\n",
        "!pip3 install dwave-system"
      ]
    },
    {
      "cell_type": "code",
      "execution_count": null,
      "id": "gA8cKLWQYNgv",
      "metadata": {
        "id": "gA8cKLWQYNgv"
      },
      "outputs": [],
      "source": [
        "\n",
        "import qubovert\n",
        "import math\n",
        "from neal import SimulatedAnnealingSampler\n",
        "from dwave.system import DWaveSampler, EmbeddingComposite\n",
        "import networkx as nx\n",
        "import numpy as np\n",
        "import matplotlib.pyplot as plt\n",
        "from time import time\n",
        "import math as math\n"
      ]
    },
    {
      "cell_type": "markdown",
      "id": "8G3o_ywrc8Sa",
      "metadata": {
        "id": "8G3o_ywrc8Sa"
      },
      "source": [
        "#Funciones auxiliares y Parámetros\n"
      ]
    },
    {
      "cell_type": "markdown",
      "source": [
        "En este apartado definimos diferentes funciones auxiliares que usaremos a lo largo de la implementación, así como los parámetros para la ejecución del problema."
      ],
      "metadata": {
        "id": "8HA1cWL07C8D"
      },
      "id": "8HA1cWL07C8D"
    },
    {
      "cell_type": "markdown",
      "id": "5tWjXOeTom_b",
      "metadata": {
        "id": "5tWjXOeTom_b"
      },
      "source": [
        "###Funciones auxiliares"
      ]
    },
    {
      "cell_type": "markdown",
      "source": [
        "*toNumpy*: setrata de una función a la que dado un valor lo transformará a un array de Numpy"
      ],
      "metadata": {
        "id": "BFnM2kzM7Se4"
      },
      "id": "BFnM2kzM7Se4"
    },
    {
      "cell_type": "code",
      "execution_count": null,
      "id": "-SbcuZtpc8BR",
      "metadata": {
        "id": "-SbcuZtpc8BR"
      },
      "outputs": [],
      "source": [
        "#Pasamos a np\n",
        "def toNumpy(v):\n",
        "    return np.sqrt(np.sum(v**2))"
      ]
    },
    {
      "cell_type": "markdown",
      "id": "RF-MbZ5Wotoy",
      "metadata": {
        "id": "RF-MbZ5Wotoy"
      },
      "source": [
        "###Definición de parámetros\n"
      ]
    },
    {
      "cell_type": "markdown",
      "source": [
        "***-N***: número de nodos que tendrá el problema.\n",
        "\n",
        "***-R***: como hemos visto en la modelización del problema en la memoria, las variables pueden tener 3 valores diferentes (0,1,2). Por ello establecemos R=3.\n",
        "\n",
        "***-penalización***: es el valor por el que multiplicamos los distintos coeficientes de Lagrange, y que así tomen valores grandes, con el fin de conseguir resultados correctos en la ejecución del problema.\n",
        "\n",
        "***-lis_r***: se trata de una lista de dimensión R (3) que nos facilitará la imprementación a la hora de establecer las restricciones del problema.\n",
        "\n",
        "***-lis_n***: al igual que en el caso anterior, una lista que usaremos como índices en los sumatorios de las distintas restricciones."
      ],
      "metadata": {
        "id": "w18SxXNG7l-O"
      },
      "id": "w18SxXNG7l-O"
    },
    {
      "cell_type": "code",
      "execution_count": null,
      "id": "YwQVQKA3Zj-m",
      "metadata": {
        "id": "YwQVQKA3Zj-m"
      },
      "outputs": [],
      "source": [
        "N = 8\n",
        "R=3\n",
        "penalizacion = 2\n",
        "lis_r = range(R)\n",
        "lis_n = range(0,N+1)\n"
      ]
    },
    {
      "cell_type": "markdown",
      "source": [
        "#Representación del problema"
      ],
      "metadata": {
        "id": "85NzC6No9H7w"
      },
      "id": "85NzC6No9H7w"
    },
    {
      "cell_type": "markdown",
      "source": [
        "Para la creación del problema, creamos los distintos puntos que representan los distintos nodos o ciudades que nuestro problema debe recorrer. La última ciudad que se debe visitar se corresponde con la inicial y por lo tanto, no está incluida en el valor $N$."
      ],
      "metadata": {
        "id": "h6mUiHD29SIe"
      },
      "id": "h6mUiHD29SIe"
    },
    {
      "cell_type": "code",
      "execution_count": null,
      "id": "LPP4y7sPZnwe",
      "metadata": {
        "colab": {
          "base_uri": "https://localhost:8080/",
          "height": 552
        },
        "id": "LPP4y7sPZnwe",
        "outputId": "0c5440fd-0f1d-4774-bf72-2ba479d72936"
      },
      "outputs": [
        {
          "output_type": "stream",
          "name": "stdout",
          "text": [
            "Los nodos del problema son:\n",
            "[[0.65894762 0.88281972]\n",
            " [0.56238378 0.65362786]\n",
            " [0.99197631 0.56036421]\n",
            " [0.71332297 0.86069822]\n",
            " [0.65894762 0.88281972]]\n"
          ]
        },
        {
          "output_type": "execute_result",
          "data": {
            "text/plain": [
              "[<matplotlib.lines.Line2D at 0x7fb0da682fb0>]"
            ]
          },
          "metadata": {},
          "execution_count": 69
        },
        {
          "output_type": "display_data",
          "data": {
            "text/plain": [
              "<Figure size 640x480 with 1 Axes>"
            ],
            "image/png": "[encoded data removed]"
          },
          "metadata": {}
        }
      ],
      "source": [
        "puntos = np.random.rand(N+1,2)\n",
        "puntos[N]=puntos[0]\n",
        "\n",
        "print(\"Los nodos del problema son:\")\n",
        "print(puntos)\n",
        "plt.plot(puntos[:,0],puntos[:,1],'o')\n"
      ]
    },
    {
      "cell_type": "code",
      "source": [
        "plt.plot(puntos[:,0],puntos[:,1],'o')\n",
        "distancia = np.zeros((N+2,N+2))\n",
        "for i in range(N):\n",
        "    for j in range(i+1,N+1):\n",
        "        aux  =  toNumpy(puntos[i,:]-puntos[j,:])\n",
        "        distancia[i,j],distancia[j,i] = aux,aux\n",
        "\n",
        "for j in range(0,N+1):\n",
        "    i = N+1\n",
        "    aux  =  toNumpy(puntos[0,:]-puntos[j,:])\n",
        "    distancia[i,j],distancia[j,i] = aux,aux\n",
        "distancia = np.floor(distancia*1000)\n",
        "print(distancia)"
      ],
      "metadata": {
        "colab": {
          "base_uri": "https://localhost:8080/",
          "height": 604
        },
        "id": "eToRV-77qy5a",
        "outputId": "59a00736-a3bc-4c54-9801-260ca5c474f3"
      },
      "id": "eToRV-77qy5a",
      "execution_count": null,
      "outputs": [
        {
          "output_type": "stream",
          "name": "stdout",
          "text": [
            "[[   0.  363.  343.  489.  428.  456.  262.  690.    0.    0.]\n",
            " [ 363.    0.  399.  829.  714.   93.  312. 1052.  363.  363.]\n",
            " [ 343.  399.    0.  782.  763.  457.  541.  903.  343.  343.]\n",
            " [ 489.  829.  782.    0.  198.  920.  576.  292.  489.  489.]\n",
            " [ 428.  714.  763.  198.    0.  800.  426.  490.  428.  428.]\n",
            " [ 456.   93.  457.  920.  800.    0.  386. 1145.  456.  456.]\n",
            " [ 262.  312.  541.  576.  426.  386.    0.  841.  262.  262.]\n",
            " [ 690. 1052.  903.  292.  490. 1145.  841.    0.  690.  690.]\n",
            " [   0.  363.  343.  489.  428.  456.  262.  690.    0.    0.]\n",
            " [   0.  363.  343.  489.  428.  456.  262.  690.    0.    0.]]\n"
          ]
        },
        {
          "output_type": "display_data",
          "data": {
            "text/plain": [
              "<Figure size 640x480 with 1 Axes>"
            ],
            "image/png": "[encoded data removed]"
          },
          "metadata": {}
        }
      ]
    },
    {
      "cell_type": "markdown",
      "source": [
        "### Matriz distancia.\n",
        "Se trata de una matriz que guarda las distancia desde una ciudad a todas las demás. De este modo, podremos usar esta matriz para obtener el camíno mínimo a recorrer entre todos los puntos. Para una mejor lectura, normalizamos la distancia."
      ],
      "metadata": {
        "id": "SwM3ZTBi-YB6"
      },
      "id": "SwM3ZTBi-YB6"
    },
    {
      "cell_type": "code",
      "execution_count": null,
      "id": "SdEsrg5SZq7p",
      "metadata": {
        "colab": {
          "base_uri": "https://localhost:8080/"
        },
        "id": "SdEsrg5SZq7p",
        "outputId": "62463fdf-32ff-46fc-aefa-131ac0a6406a"
      },
      "outputs": [
        {
          "output_type": "stream",
          "name": "stdout",
          "text": [
            "[[   0.  363.  343.  489.  428.  456.  262.  690.    0.]\n",
            " [ 363.    0.  399.  829.  714.   93.  312. 1052.  363.]\n",
            " [ 343.  399.    0.  782.  763.  457.  541.  903.  343.]\n",
            " [ 489.  829.  782.    0.  198.  920.  576.  292.  489.]\n",
            " [ 428.  714.  763.  198.    0.  800.  426.  490.  428.]\n",
            " [ 456.   93.  457.  920.  800.    0.  386. 1145.  456.]\n",
            " [ 262.  312.  541.  576.  426.  386.    0.  841.  262.]\n",
            " [ 690. 1052.  903.  292.  490. 1145.  841.    0.  690.]\n",
            " [   0.  363.  343.  489.  428.  456.  262.  690.    0.]]\n"
          ]
        }
      ],
      "source": [
        "distancia = np.zeros((N+1,N+1))\n",
        "for i in range(N):\n",
        "    for j in range(i+1,N+1):\n",
        "        aux  =  toNumpy(puntos[i,:]-puntos[j,:])\n",
        "        distancia[i,j],distancia[j,i] = aux,aux\n",
        "distancia = np.floor(distancia*1000)\n",
        "print(distancia)\n"
      ]
    },
    {
      "cell_type": "markdown",
      "id": "Ecs6KIJYl7P-",
      "metadata": {
        "id": "Ecs6KIJYl7P-"
      },
      "source": [
        "Según la tabla de distancias obtenida anteriormente, obtenemos el camino más corto entre los vecinos cercanos y calculamos la distancia de dicho camino. Es decir tras visitar un nodo $i$, el siguiente nodo a visitar será el $j$ que esté mas cerca de ese primero.\n",
        "\n",
        "El valor de la distancia de este camino, representa una primera solución a nuestro problema."
      ]
    },
    {
      "cell_type": "code",
      "execution_count": null,
      "id": "xr-sohLwlyIB",
      "metadata": {
        "colab": {
          "base_uri": "https://localhost:8080/"
        },
        "id": "xr-sohLwlyIB",
        "outputId": "ced38520-3149-441b-9c88-ba97cc1d2972"
      },
      "outputs": [
        {
          "output_type": "stream",
          "name": "stdout",
          "text": [
            "El orden recorrido es: [0, 6, 1, 5, 2, 4, 3, 7, 0]\n",
            "La distancia recorrida es: 3067.0\n"
          ]
        }
      ],
      "source": [
        "distanciaAux  = np.copy(distancia)\n",
        "for i in lis_n:\n",
        "    distanciaAux[i,i] = np.inf\n",
        "distanciaAux = np.copy(distanciaAux[:-1,:-1])\n",
        "i = 0\n",
        "distanciaMin = 0\n",
        "ordenRecorrido = [i]\n",
        "for j in range(N):\n",
        "    distanciaAux[j,0] = np.inf\n",
        "for cont in range(N-1):\n",
        "    siguienteDistancia = np.min(distanciaAux[i,:])\n",
        "    distanciaMin += siguienteDistancia\n",
        "    sig = np.where(distanciaAux[i,:] == siguienteDistancia)[0][0]\n",
        "    for j in range(N):\n",
        "        distanciaAux[j,sig] = np.inf #Actualizamos distancia para que no vuelva a ese nodo\n",
        "    i = sig\n",
        "    ordenRecorrido.append(i)\n",
        "distanciaMin += distancia[ordenRecorrido[-1],0]\n",
        "#El último nodo es el mismo que el primero.\n",
        "ordenRecorrido.append(0)\n",
        "\n",
        "print(\"El orden recorrido es:\", ordenRecorrido)\n",
        "print(\"La distancia recorrida es:\", distanciaMin)"
      ]
    },
    {
      "cell_type": "code",
      "execution_count": null,
      "id": "hBR0RWZkl0GU",
      "metadata": {
        "colab": {
          "base_uri": "https://localhost:8080/",
          "height": 465
        },
        "id": "hBR0RWZkl0GU",
        "outputId": "a283cc16-81ea-404c-d6fe-93eddba61319"
      },
      "outputs": [
        {
          "output_type": "display_data",
          "data": {
            "text/plain": [
              "<Figure size 640x480 with 1 Axes>"
            ],
            "image/png": "[encoded data removed]"
          },
          "metadata": {}
        },
        {
          "output_type": "stream",
          "name": "stdout",
          "text": [
            "El orden recorrido es: [0, 6, 1, 5, 2, 4, 3, 7, 0]\n",
            "La distancia recorrida es: 3067.0\n"
          ]
        }
      ],
      "source": [
        "plt.plot(puntos[:,0],puntos[:,1],'o')\n",
        "for i in range(N):\n",
        "    plt.plot(puntos[(ordenRecorrido[i],ordenRecorrido[i+1]),0],puntos[(ordenRecorrido[i],ordenRecorrido[i+1]),1])\n",
        "plt.show()\n",
        "print(\"El orden recorrido es:\", ordenRecorrido)\n",
        "print(\"La distancia recorrida es:\", distanciaMin)"
      ]
    },
    {
      "cell_type": "markdown",
      "id": "tIv4PbL1iY3y",
      "metadata": {
        "id": "tIv4PbL1iY3y"
      },
      "source": [
        "#Modelo\n"
      ]
    },
    {
      "cell_type": "markdown",
      "source": [
        "## Variables del modelo\n",
        "La clase ***qubovert.QUBO()*** es una implementación de QUBO en Python que proporciona una interfaz conveniente para definir y manipular problemas de optimización en forma de QUBO. Esta clase permite construir la matriz QUBO y realizar diversas operaciones sobre ella.\n",
        "\n",
        "Como sabemos, nuestras variables son de la forma ***f x_{i,j,r}***, usaremos el método **create_var()** para crear las variablesde nuestro problema."
      ],
      "metadata": {
        "id": "LHJr35kD_rao"
      },
      "id": "LHJr35kD_rao"
    },
    {
      "cell_type": "code",
      "execution_count": null,
      "id": "84qg5hkcjFIp",
      "metadata": {
        "colab": {
          "base_uri": "https://localhost:8080/"
        },
        "id": "84qg5hkcjFIp",
        "outputId": "f3768d4e-d36f-4193-aada-77a49c381093"
      },
      "outputs": [
        {
          "output_type": "stream",
          "name": "stdout",
          "text": [
            "Usaremos: 243 variables\n"
          ]
        }
      ],
      "source": [
        "# Creamos las variables del modelo\n",
        "coef = qubovert.QUBO()\n",
        "\n",
        "## Variables x_{i,j,r}\n",
        "for i in lis_n:\n",
        "    for j in lis_n:\n",
        "        if not i==j:\n",
        "            for r in lis_r:\n",
        "                coef.create_var(f\"x_{i}_{j}_{r}\")\n",
        "\n",
        "numVariables = len(lis_n)*len(lis_n)*len(lis_r)\n",
        "print(\"Usaremos:\", numVariables,\"variables\")"
      ]
    },
    {
      "cell_type": "markdown",
      "id": "bY9kOXualiy2",
      "metadata": {
        "id": "bY9kOXualiy2"
      },
      "source": [
        "## Añadimos las restricciones\n",
        "De acuerdo a las distintas restricciones que hemos definido en la memoria, calculamos los valores que tendrán cada una de nuestras variables de acuerdo a los distintos coeficientes de Lagrnage (también definidos en la memoria).\n"
      ]
    },
    {
      "cell_type": "markdown",
      "source": [
        "### Restricción 1:\n",
        "Función de penalización:\n",
        "\\begin{equation*}\n",
        "            \\sum_{i=0}^{N+1}\\sum_{j=0}^{N+1}( \\sum_{r_1=0}^{2}\\sum_{r_2=0}^{2}\\lambda_1 x_{i,j,r_1}x_{i,j,r_2}+\\sum_{r=0}^{2}-2\\lambda_1 x_{i,j,r})\n",
        "\\end{equation*}\n",
        "Coeficiente de Lagrange:\n",
        "\\begin{equation*}\n",
        "        \\lambda_1 > D\n",
        "        \\end{equation*}"
      ],
      "metadata": {
        "id": "lpexIpsFalNb"
      },
      "id": "lpexIpsFalNb"
    },
    {
      "cell_type": "code",
      "source": [
        "lagrange_1 = distanciaMin*penalizacion\n",
        "for i in lis_n:\n",
        "    for j in lis_n:\n",
        "        if not i==j:\n",
        "            for r1 in lis_r:\n",
        "                for r2 in lis_r:\n",
        "                    coef[(f\"x_{i}_{j}_{r1}\",f\"x_{i}_{j}_{r2}\")] += (lagrange_1)\n",
        "            for r in lis_r:\n",
        "                    coef[(f\"x_{i}_{j}_{r}\",)] += -2*(lagrange_1)"
      ],
      "metadata": {
        "id": "C8OEr8eyarP9"
      },
      "id": "C8OEr8eyarP9",
      "execution_count": null,
      "outputs": []
    },
    {
      "cell_type": "markdown",
      "source": [
        "### Restricción 2:\n",
        "Función de penalización:\n",
        "\\begin{equation*}\n",
        "            \\sum_{i=0}^{N}(\\sum_{j_1=0}^{N+1}\\sum_{j_2=0}^{N+1}\\lambda_2 x_{i,j_1,1}x_{i,j_2,1}+\\sum_{j=0}^{N}-2\\lambda_2 x_{i,j,1})\n",
        "        \\end{equation*}\n",
        "Coeficiente de Lagrange:\n",
        "        \\begin{equation*}\n",
        "        \\textrm{Para todo } j \\epsilon [1,\\dots,N] \\textrm{ }\n",
        "        \\lambda_2 > max\\textrm{ }d_{i,j}\n",
        "        \\end{equation*}"
      ],
      "metadata": {
        "id": "VJ2N58o_awLj"
      },
      "id": "VJ2N58o_awLj"
    },
    {
      "cell_type": "code",
      "source": [
        "for i in range(N+1):\n",
        "    lagrange_2 =penalizacion*np.max(distancia[i,])\n",
        "    for j in lis_n:\n",
        "        if not i == j:\n",
        "            coef[(f\"x_{i}_{j}_{1}\",)] += -2*lagrange_2\n",
        "    for j1 in  lis_n:\n",
        "        if j1 != i:\n",
        "            for j2 in lis_n:\n",
        "                if j2!=i:\n",
        "                    coef[(f\"x_{i}_{j1}_{1}\",f\"x_{i}_{j2}_{1}\")]+= lagrange_2"
      ],
      "metadata": {
        "id": "PBUyAOeDaur2"
      },
      "id": "PBUyAOeDaur2",
      "execution_count": null,
      "outputs": []
    },
    {
      "cell_type": "markdown",
      "source": [
        "### Restricción 3:\n",
        "Función de penalización:\n",
        "\\begin{equation*}\n",
        "            \\sum_{j=1}^{N+1}(\\sum_{i_1=1}^{N}\\sum_{i_2=1}^{N}\\lambda_3 x_{i_1,j,1}x_{i_2,j,1}+\\sum_{i=1}^{N}-2\\lambda_3 x_{i,j,1})\n",
        "        \\end{equation*}\n",
        "Coeficiente de Lagrange:\n",
        "        \\begin{equation*}\n",
        "        \\textrm{Para todo } i \\epsilon [0,\\dots,N+1] \\textrm{ }\n",
        "        \\lambda_3 > max\\textrm{ }d_{i,j}\n",
        "        \\end{equation*}"
      ],
      "metadata": {
        "id": "DKI2YErIa0Cz"
      },
      "id": "DKI2YErIa0Cz"
    },
    {
      "cell_type": "code",
      "source": [
        "for j in range(1,N+1):\n",
        "    lagrange_3 = penalizacion*np.max(distancia[:,j])\n",
        "    for i1 in  lis_n:\n",
        "        if i1!=j:\n",
        "            for i2 in lis_n:\n",
        "                if i2!=j:\n",
        "                    coef[(f\"x_{i1}_{j}_{1}\",f\"x_{i2}_{j}_{1}\")]+= lagrange_3\n",
        "    for i in range(N+1):\n",
        "        if i!=j:\n",
        "            coef[(f\"x_{i}_{j}_{1}\",)] += -2*lagrange_3"
      ],
      "metadata": {
        "id": "UgKBVYWia0bX"
      },
      "id": "UgKBVYWia0bX",
      "execution_count": null,
      "outputs": []
    },
    {
      "cell_type": "markdown",
      "source": [
        "### Restricción 4:\n",
        "Función de penalización:\n",
        "\\begin{equation*}\n",
        "            \\sum_{j=0}^{N+1} \\lambda_4x_{0,j,2}\n",
        "        \\end{equation*}\n",
        "Coeficiente de Lagrange:\n",
        "        \\begin{equation*}\n",
        "        \\textrm{Para todo } j \\epsilon [0,\\dots,N+1] \\textrm{ }\n",
        "        \\lambda_5 > max\\textrm{ }d_{0,j}\n",
        "        \\end{equation*}"
      ],
      "metadata": {
        "id": "V7GDfOmVa7jh"
      },
      "id": "V7GDfOmVa7jh"
    },
    {
      "cell_type": "code",
      "source": [
        "for j in lis_n:\n",
        "  lagrange_4 = penalizacion*np.max(distancia[0,j])\n",
        "  coef[(f\"x_{0}_{j}_{2}\",)] += lagrange_4"
      ],
      "metadata": {
        "id": "NCVQidfHbDtY"
      },
      "id": "NCVQidfHbDtY",
      "execution_count": null,
      "outputs": []
    },
    {
      "cell_type": "markdown",
      "source": [
        "### Restricción 5:\n",
        "Función de penalización:\n",
        "\\begin{equation*}\n",
        "            \\sum_{i=0}^{N+1} \\lambda_5x_{i,N+1,2}\n",
        "        \\end{equation*}\n",
        "Coeficiente de Lagrange:\n",
        "        \\begin{equation*}\n",
        "        \\textrm{Para todo } j \\epsilon [1,\\dots,N] \\textrm{ }\n",
        "        \\lambda_5 > max\\textrm{ }d_{j,N+1}\n",
        "        \\end{equation*}"
      ],
      "metadata": {
        "id": "gyO_6RF0a-Um"
      },
      "id": "gyO_6RF0a-Um"
    },
    {
      "cell_type": "code",
      "source": [
        "for i in lis_n:\n",
        "  lagrange_5 = penalizacion*np.max(distancia[i,0])\n",
        "  coef[(f\"x_{i}_{N+1}_{2}\",)] += lagrange_5"
      ],
      "metadata": {
        "id": "0zVC6KJrbEJX"
      },
      "id": "0zVC6KJrbEJX",
      "execution_count": null,
      "outputs": []
    },
    {
      "cell_type": "markdown",
      "source": [
        "### Restricción 6:\n",
        "Función de penalización:\n",
        "\\begin{equation*}\n",
        "            \\sum_{i=0}^{N+1} \\lambda_6x_{i,i}\n",
        "        \\end{equation*}\n",
        "Coeficiente de Lagrange:\n",
        "        \\begin{equation*}\n",
        "        \\textrm{Para todo } j \\epsilon [0,\\dots,N+1]\\textrm{ }\n",
        "        \\lambda_6 > max\\textrm{ }(max\\textrm{ } d_{i,j}, max\\textrm{ } d_{j,i})\n",
        "        \\end{equation*}"
      ],
      "metadata": {
        "id": "NpfQrH44a_hX"
      },
      "id": "NpfQrH44a_hX"
    },
    {
      "cell_type": "code",
      "source": [
        "for i in lis_n:\n",
        "  lagrange_6 = penalizacion*max(np.max(distancia[i,j]),np.max(distancia[j,i]))\n",
        "  coef[(f\"x_{i}_{i}_{1}\",)] += lagrange_6"
      ],
      "metadata": {
        "id": "m9crAwMzbEe3"
      },
      "id": "m9crAwMzbEe3",
      "execution_count": null,
      "outputs": []
    },
    {
      "cell_type": "markdown",
      "source": [
        "###Restrcción 7:\n",
        "Función de penalización:\n",
        "\\begin{equation*}\n",
        "            \\sum_{i\\neq j} (2\\lambda_7 x_{i,j,2}x_{j,i,2}-\\lambda_7 x_{i,j,2}-\\lambda_7x_{j,i,2})\n",
        "        \\end{equation*}\n",
        "Coeficiente de Lagrange:\n",
        "        \\begin{equation*}\n",
        "        \\lambda_7 > D\n",
        "        \\end{equation*}"
      ],
      "metadata": {
        "id": "L7406Mm5bAyX"
      },
      "id": "L7406Mm5bAyX"
    },
    {
      "cell_type": "code",
      "source": [
        "lagrange_7 = distanciaMin*penalizacion\n",
        "for i in lis_n:\n",
        "    for j in lis_n:\n",
        "        if i!=j:\n",
        "            coef[(f\"x_{i}_{j}_{2}\",f\"x_{j}_{i}_{2}\")] += 2*lagrange_7\n",
        "            coef[(f\"x_{i}_{j}_{2}\",)] -= lagrange_7\n",
        "            coef[(f\"x_{j}_{i}_{2}\",)] -= lagrange_7"
      ],
      "metadata": {
        "id": "X6V3XEZebE_I"
      },
      "id": "X6V3XEZebE_I",
      "execution_count": null,
      "outputs": []
    },
    {
      "cell_type": "markdown",
      "source": [
        "###Restrcción 8\n",
        "Función de penalización:\n",
        "\\begin{equation*}\n",
        "        \\sum_{i=1}^{N}\\sum_{j=1}^{N}\\sum_{k=1}^{N} (\\lambda_8x_{j,i,2}x_{k,j,2})-(\\lambda_8x_{j,i,2}x_{k,i,2})-(\\lambda_8x_{k,j,2}x_{k,i,2})+\\lambda_8x_{k,i,2}\n",
        "    \\end{equation*}\n",
        "    \\begin{equation*}\n",
        "Coeficiente de Lagrange:\n",
        "        \\lambda_8 > D\n",
        "        \\end{equation*}"
      ],
      "metadata": {
        "id": "yA3GWhN0bCMr"
      },
      "id": "yA3GWhN0bCMr"
    },
    {
      "cell_type": "code",
      "execution_count": null,
      "id": "bG_r8brejnEQ",
      "metadata": {
        "id": "bG_r8brejnEQ"
      },
      "outputs": [],
      "source": [
        "lagrange_8 = distanciaMin*penalizacion\n",
        "for i in range(1,N+1):\n",
        "    for j in range(1,N+1):\n",
        "        for k in range(1,N+1):\n",
        "            if i!=j and j!=k and i!=k:\n",
        "                coef[(f\"x_{j}_{i}_{2}\",f\"x_{k}_{j}_{2}\")] += lagrange_8\n",
        "                coef[(f\"x_{j}_{i}_{2}\",f\"x_{k}_{i}_{2}\")] -= lagrange_8\n",
        "                coef[(f\"x_{k}_{j}_{2}\",f\"x_{k}_{i}_{2}\")] -= lagrange_8\n",
        "                coef[(f\"x_{k}_{i}_{2}\",)] += lagrange_8\n",
        "\n"
      ]
    },
    {
      "cell_type": "markdown",
      "source": [
        "Función objetivo:\n",
        "\\begin{equation}\n",
        "    \\sum_{i=0}^{N+1}\\sum_{j=0}^{N+1} \\lambda_{obj} x_{i,j,1} d_{i,j}\n",
        "\\end{equation}"
      ],
      "metadata": {
        "id": "XlSscVghbQ2g"
      },
      "id": "XlSscVghbQ2g"
    },
    {
      "cell_type": "code",
      "source": [
        "lagrange_obj = 1\n",
        "for i in lis_n:\n",
        "    for j in lis_n:\n",
        "        if i!=j:\n",
        "            coef[(f\"x_{i}_{j}_{1}\",)] += lagrange_obj*distancia[i,j]"
      ],
      "metadata": {
        "id": "5g3x7JxmbTNv"
      },
      "id": "5g3x7JxmbTNv",
      "execution_count": null,
      "outputs": []
    },
    {
      "cell_type": "markdown",
      "source": [
        "## Ejecución\n",
        "\n",
        "Para la ejecución del problema, debemos crear primero de todo el modelo cuadrático vinario (BQM) que le pasaremos al *sampler* de *D-Wave*. Este modelo es un diccionario que tiene como claves cada par de variables y como valores, el valor calculado en el paso anterior."
      ],
      "metadata": {
        "id": "lOTXUahWC0P4"
      },
      "id": "lOTXUahWC0P4"
    },
    {
      "cell_type": "code",
      "source": [
        "dwaveDic = {}\n",
        "for i in coef:\n",
        "    if len(i) == 1:\n",
        "        dwaveDic[(i[0],i[0])] = coef[i]\n",
        "    else:\n",
        "        dwaveDic[i] = coef[i]"
      ],
      "metadata": {
        "id": "lKuGaEQXYTVj"
      },
      "id": "lKuGaEQXYTVj",
      "execution_count": null,
      "outputs": []
    },
    {
      "cell_type": "markdown",
      "source": [
        "### Simulated Annealing\n",
        "El ***Simulated Annealing*** de D-Wave es una opción de software que emula el comportamiento del *annealing simulado* en un ordenador clásico.\n",
        "\n",
        "Es importante destacar que el ***Simulated Annealing*** de *D-Wave* es una simulación clásica del comportamiento del *annealing simulado* y no aprovecha las propiedades cuánticas.\n",
        "\n",
        "Los parámetros que se pueden utilizar en la clase ***SimulatedAnnealingSampler()*** son los siguientes:\n",
        "\n",
        "*   **bqm**: El modelo cuadrático binario que se va a muestrear.\n",
        "*   **beta_range**: Un rango de 2 elementos o una lista que define el inicio y fin de β.\n",
        "\n",
        "*   **beta_schedule_type**: Tipo de programación β, o cómo se interpolan los valores entre los valores dados en beta_range. Los valores admitidos son: \"linear\", \"geometric\", \"custom\".\n",
        "\n",
        "*   **num_reads**: Número de lecturas o muestras. Cada lectura se genera mediante una ejecución del algoritmo de Simulated Annealing.\n",
        "\n",
        "*   **num_sweeps**: Número de barridos pasos en el Simulated Annealing. Controla cuántas veces se ejecuta el proceso de Simulated Annealing. Cuanto mayor sea el número de barridos, más oportunidades tendrá el algoritmo para explorar diferentes regiones del espacio de soluciones.\n",
        "*   **num_sweeps_per_beta**: Número de pasos que se realizan en cada β.\n",
        "\n",
        "*   **beta_schedule**: Secuencia de valores barridos. El formato debe ser compatible con beta_schedule_type. Los valores deben ser no negativos y se espera un array de NumPy.\n",
        "\n",
        "*   **seed**: Semilla que se utilizada para el generador de números pseudoaleatorios.\n",
        "\n",
        "*   **initial_states**: Una o más muestras, cada una definiendo un estado inicial para todas las variables del problema. Se da un estado inicial por lectura, pero si se especifican menos estados iniciales, se generan valores adicionales según lo especificado por *initial_states_generator*.\n",
        "*   **initial_states_generator**: Define cómo se completan los estados iniciales en el caso de que no se especifiquen todos. Los posibles valores son \"none\", \"tile\" o \"random\"  \n",
        "\n",
        "*   **interrupt_function**: se llama a esta función entre cada muestra sin ningun parámetro. Si devuelve *true*,  el algoritmo Simulated Annealing se terminará y devolverá todas las muestras y energías encontradas hasta ese momento.\n",
        "\n",
        "\n",
        "\n",
        "\n",
        "**Nota:**En el contexto del algoritmo Simulated Annealing, β se refiere a cada paso del algoritmo. Representa la temperatura en cada paso de Simulated Annealing.\n",
        "\n",
        "[D-Wave Ocean](https://docs.ocean.dwavesys.com/en/stable/docs_samplers/generated/dwave.samplers.SimulatedAnnealingSampler.sample.html)\n"
      ],
      "metadata": {
        "id": "sTvYbaP-KRaF"
      },
      "id": "sTvYbaP-KRaF"
    },
    {
      "cell_type": "code",
      "source": [
        "import time\n",
        "t=time.time()\n",
        "sampler = SimulatedAnnealingSampler()\n",
        "sampleset = sampler.sample_qubo(dwaveDic, num_sweeps=2000, num_sweeps_per_beta=100, num_reads = 15000)\n",
        "time=time.time()-t"
      ],
      "metadata": {
        "id": "zsDs3kzbamnW"
      },
      "id": "zsDs3kzbamnW",
      "execution_count": null,
      "outputs": []
    },
    {
      "cell_type": "code",
      "source": [
        "solution=sampleset.first.sample"
      ],
      "metadata": {
        "id": "KOMQk9M7LmDM"
      },
      "id": "KOMQk9M7LmDM",
      "execution_count": null,
      "outputs": []
    },
    {
      "cell_type": "markdown",
      "source": [
        "Una vez obtenida la solución, la transformaremos a una matriz para representar las aristas de nuestro problema. Es decir en aquellos casos en los que *f x_{i,j,1}=1* (existe una arista entre *i* y *j* y se visita antes *i* que *j*), la matriz tendra valor 1."
      ],
      "metadata": {
        "id": "4W0TlSbWIrJy"
      },
      "id": "4W0TlSbWIrJy"
    },
    {
      "cell_type": "code",
      "execution_count": null,
      "id": "_0JZG04ore2u",
      "metadata": {
        "colab": {
          "base_uri": "https://localhost:8080/"
        },
        "id": "_0JZG04ore2u",
        "outputId": "6af62e3f-bf88-4b3d-8001-6e39de13a774"
      },
      "outputs": [
        {
          "output_type": "stream",
          "name": "stdout",
          "text": [
            "[[0. 0. 0. 0. 0. 1. 0. 0. 0.]\n",
            " [0. 0. 1. 0. 0. 0. 0. 0. 0.]\n",
            " [1. 0. 0. 0. 0. 0. 0. 0. 0.]\n",
            " [0. 0. 0. 0. 0. 0. 0. 1. 0.]\n",
            " [1. 0. 0. 0. 0. 0. 0. 0. 0.]\n",
            " [0. 0. 0. 0. 0. 0. 1. 0. 0.]\n",
            " [0. 0. 0. 0. 1. 0. 0. 0. 0.]\n",
            " [0. 1. 0. 0. 0. 0. 0. 0. 0.]\n",
            " [0. 0. 0. 1. 0. 0. 0. 0. 0.]]\n"
          ]
        }
      ],
      "source": [
        "matSol = np.zeros((N+1,N+1))\n",
        "for i in range(N+1):\n",
        "    for j in range(N+1):\n",
        "        if i!=j:\n",
        "            if solution[f\"x_{i}_{j}_{1}\"] == 1:\n",
        "                matSol[i,j] = 1\n",
        "print(matSol)"
      ]
    },
    {
      "cell_type": "markdown",
      "source": [
        "Con la matriz creada dibujaremos el camino de nuestra solución y apoyándonos de la matriz de distancias, calculamos la distancia recorrida por nuestro problema."
      ],
      "metadata": {
        "id": "L5ul1ATtJsSX"
      },
      "id": "L5ul1ATtJsSX"
    },
    {
      "cell_type": "code",
      "source": [
        "\n",
        "## Calculamos la distancia que se recorre\n",
        "distanciaSol = 0\n",
        "for i in lis_n:\n",
        "    for j in lis_n:\n",
        "        if matSol[i][j]==1:\n",
        "            distanciaSol+=distancia[i][j]\n",
        "print(\"La distancia recorrida por el camino es: \", distanciaSol)"
      ],
      "metadata": {
        "colab": {
          "base_uri": "https://localhost:8080/"
        },
        "id": "sTRKn3wMcCAc",
        "outputId": "258b0b5a-3ab6-4695-a4ae-bb44ea65ec95"
      },
      "id": "sTRKn3wMcCAc",
      "execution_count": null,
      "outputs": [
        {
          "output_type": "stream",
          "name": "stdout",
          "text": [
            "La distancia recorrida por el camino es:  3067.0\n"
          ]
        }
      ]
    },
    {
      "cell_type": "markdown",
      "source": [
        "Finalmente dibujamos la solución obtenida."
      ],
      "metadata": {
        "id": "PGHQmWBrb3J0"
      },
      "id": "PGHQmWBrb3J0"
    },
    {
      "cell_type": "code",
      "execution_count": null,
      "id": "jbn1iDaduBXo",
      "metadata": {
        "colab": {
          "base_uri": "https://localhost:8080/",
          "height": 482
        },
        "id": "jbn1iDaduBXo",
        "outputId": "8a2811fe-6c61-4239-e2c6-d3a932ff066c"
      },
      "outputs": [
        {
          "output_type": "stream",
          "name": "stdout",
          "text": [
            "Grafo solución\n"
          ]
        },
        {
          "output_type": "display_data",
          "data": {
            "text/plain": [
              "<Figure size 640x480 with 1 Axes>"
            ],
            "image/png": "[encoded data removed]"
          },
          "metadata": {}
        },
        {
          "output_type": "stream",
          "name": "stdout",
          "text": [
            "La distancia recorrida por el camino es:  3067.0\n",
            "El tiempo de la ejecución es de:  174.0248532295227 segundos\n"
          ]
        }
      ],
      "source": [
        "# Dibujamos el camino de la solución\n",
        "print(\"Grafo solución\")\n",
        "plt.plot(puntos[:,0],puntos[:,1],'o')\n",
        "vaux = np.array(list(range(N+1)))\n",
        "for i in range(N+1):\n",
        "    sigAux = matSol[i,:]==1\n",
        "    if np.sum(sigAux) > 0:\n",
        "        sig = (int(vaux[sigAux][0]))%(N)\n",
        "        plt.plot(puntos[(i,sig),0],puntos[(i,sig),1])\n",
        "plt.show()\n",
        "print(\"La distancia recorrida por el camino es: \", distanciaSol)\n",
        "print(\"El tiempo de la ejecución es de: \", time, \"segundos\")"
      ]
    },
    {
      "cell_type": "markdown",
      "source": [
        "A continuación mostraremos la solución en forma de grafo dirigido para así ver el orden en el que se recorren las ciudades. Para ello, creamos esta matriz auxiliar para mostrar el camino en forma de grafo."
      ],
      "metadata": {
        "id": "_56y1RuO7_eS"
      },
      "id": "_56y1RuO7_eS"
    },
    {
      "cell_type": "code",
      "source": [
        "matSol2=matSol\n",
        "for i in range (N+1):\n",
        "  if(matSol2[i,N]==1):\n",
        "    matSol2[i,0]=1\n",
        "    matSol2[i,N]=0\n",
        "matSol2=matSol2[:-1,:-1]\n",
        "matSol2"
      ],
      "metadata": {
        "colab": {
          "base_uri": "https://localhost:8080/"
        },
        "id": "4WruttGE6P_f",
        "outputId": "dc14ba8f-4f4a-40b8-aa7a-66f72fada707"
      },
      "id": "4WruttGE6P_f",
      "execution_count": null,
      "outputs": [
        {
          "output_type": "execute_result",
          "data": {
            "text/plain": [
              "array([[0., 0., 0., 0., 0., 0., 1., 0.],\n",
              "       [0., 0., 0., 0., 0., 1., 0., 0.],\n",
              "       [0., 0., 0., 0., 1., 0., 0., 0.],\n",
              "       [0., 0., 0., 0., 0., 0., 0., 1.],\n",
              "       [0., 0., 0., 1., 0., 0., 0., 0.],\n",
              "       [0., 0., 1., 0., 0., 0., 0., 0.],\n",
              "       [0., 1., 0., 0., 0., 0., 0., 0.],\n",
              "       [1., 0., 0., 0., 0., 0., 0., 0.]])"
            ]
          },
          "metadata": {},
          "execution_count": 213
        }
      ]
    },
    {
      "cell_type": "code",
      "execution_count": null,
      "id": "3_REwxIWnwsh",
      "metadata": {
        "colab": {
          "base_uri": "https://localhost:8080/",
          "height": 423
        },
        "id": "3_REwxIWnwsh",
        "outputId": "c4c64404-9abc-48f8-e6d9-929b0214d444"
      },
      "outputs": [
        {
          "output_type": "stream",
          "name": "stdout",
          "text": [
            "[(0, 6), (1, 5), (2, 4), (3, 7), (4, 3), (5, 2), (6, 1), (7, 0)]\n"
          ]
        },
        {
          "output_type": "display_data",
          "data": {
            "text/plain": [
              "<Figure size 640x480 with 1 Axes>"
            ],
            "image/png": "[encoded data removed]"
          },
          "metadata": {}
        }
      ],
      "source": [
        "G = nx.DiGraph()\n",
        "rows, cols = np.where(matSol2 == 1)\n",
        "edges = list(zip(rows.tolist(), cols.tolist()))\n",
        "print(edges)\n",
        "edges2 = [(x[0], x[1]%len(puntos)) for x in edges]\n",
        "\n",
        "G.add_edges_from(edges2)\n",
        "pos2 = nx.spring_layout(G)\n",
        "nx.draw_networkx_labels(G, pos2)\n",
        "\n",
        "\n",
        "nx.draw_networkx_edges(G, pos2)\n",
        "\n",
        "node_colors = [\"lightblue\" for _ in range(len(G.nodes))]\n",
        "node_colors[0] = \"lightgreen\"\n",
        "\n",
        "nx.draw(G, pos2, node_color = node_colors)\n",
        "plt.show()"
      ]
    },
    {
      "cell_type": "code",
      "execution_count": null,
      "id": "MASyn3FgumM-",
      "metadata": {
        "id": "MASyn3FgumM-"
      },
      "outputs": [],
      "source": []
    }
  ],
  "metadata": {
    "colab": {
      "provenance": []
    },
    "gpuClass": "standard",
    "kernelspec": {
      "display_name": "Python 3 (ipykernel)",
      "language": "python",
      "name": "python3"
    },
    "language_info": {
      "codemirror_mode": {
        "name": "ipython",
        "version": 3
      },
      "file_extension": ".py",
      "mimetype": "text/x-python",
      "name": "python",
      "nbconvert_exporter": "python",
      "pygments_lexer": "ipython3",
      "version": "3.9.12"
    }
  },
  "nbformat": 4,
  "nbformat_minor": 5
}