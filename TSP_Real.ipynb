{
  "cells": [
    {
      "cell_type": "markdown",
      "id": "OugojSgJoW-Y",
      "metadata": {
        "id": "OugojSgJoW-Y"
      },
      "source": [
        "#Instalaciones Previas"
      ]
    },
    {
      "cell_type": "code",
      "execution_count": 1,
      "id": "3CetbTfTYMzt",
      "metadata": {
        "colab": {
          "base_uri": "https://localhost:8080/"
        },
        "id": "3CetbTfTYMzt",
        "outputId": "d779a47c-d10f-411c-de8a-9f4c75a22231"
      },
      "outputs": [
        {
          "output_type": "stream",
          "name": "stdout",
          "text": [
            "Looking in indexes: https://pypi.org/simple, https://us-python.pkg.dev/colab-wheels/public/simple/\n",
            "Collecting dwave-neal\n",
            "  Downloading dwave_neal-0.6.0-py3-none-any.whl (8.7 kB)\n",
            "Collecting dwave-samplers<2.0.0,>=1.0.0 (from dwave-neal)\n",
            "  Downloading dwave_samplers-1.0.0-cp310-cp310-manylinux_2_17_x86_64.manylinux2014_x86_64.whl (6.0 MB)\n",
            "\u001b[2K     \u001b[90m━━━━━━━━━━━━━━━━━━━━━━━━━━━━━━━━━━━━━━━━\u001b[0m \u001b[32m6.0/6.0 MB\u001b[0m \u001b[31m46.4 MB/s\u001b[0m eta \u001b[36m0:00:00\u001b[0m\n",
            "\u001b[?25hRequirement already satisfied: numpy<2.0.0,>=1.19.0 in /usr/local/lib/python3.10/dist-packages (from dwave-samplers<2.0.0,>=1.0.0->dwave-neal) (1.22.4)\n",
            "Collecting dimod<0.13.0,>=0.12.0 (from dwave-samplers<2.0.0,>=1.0.0->dwave-neal)\n",
            "  Downloading dimod-0.12.7-cp310-cp310-manylinux_2_17_x86_64.manylinux2014_x86_64.whl (15.7 MB)\n",
            "\u001b[2K     \u001b[90m━━━━━━━━━━━━━━━━━━━━━━━━━━━━━━━━━━━━━━━━\u001b[0m \u001b[32m15.7/15.7 MB\u001b[0m \u001b[31m80.5 MB/s\u001b[0m eta \u001b[36m0:00:00\u001b[0m\n",
            "\u001b[?25hRequirement already satisfied: networkx>=2.4.0 in /usr/local/lib/python3.10/dist-packages (from dwave-samplers<2.0.0,>=1.0.0->dwave-neal) (3.1)\n",
            "Installing collected packages: dimod, dwave-samplers, dwave-neal\n",
            "Successfully installed dimod-0.12.7 dwave-neal-0.6.0 dwave-samplers-1.0.0\n",
            "Looking in indexes: https://pypi.org/simple, https://us-python.pkg.dev/colab-wheels/public/simple/\n",
            "Collecting qubovert\n",
            "  Downloading qubovert-1.2.5.tar.gz (97 kB)\n",
            "\u001b[2K     \u001b[90m━━━━━━━━━━━━━━━━━━━━━━━━━━━━━━━━━━━━━━━━\u001b[0m \u001b[32m97.7/97.7 kB\u001b[0m \u001b[31m3.5 MB/s\u001b[0m eta \u001b[36m0:00:00\u001b[0m\n",
            "\u001b[?25h  Preparing metadata (setup.py) ... \u001b[?25l\u001b[?25hdone\n",
            "Requirement already satisfied: numpy in /usr/local/lib/python3.10/dist-packages (from qubovert) (1.22.4)\n",
            "Building wheels for collected packages: qubovert\n",
            "  Building wheel for qubovert (setup.py) ... \u001b[?25l\u001b[?25hdone\n",
            "  Created wheel for qubovert: filename=qubovert-1.2.5-cp310-cp310-linux_x86_64.whl size=184451 sha256=5295b85825548ce64ce02a4b3d288c64f7a99fc50539b27a767babc03c622190\n",
            "  Stored in directory: /root/.cache/pip/wheels/ec/78/12/11b3c0c4de9eaa7daa9a91691eca85056f5b3c3ba7fd1bcee2\n",
            "Successfully built qubovert\n",
            "Installing collected packages: qubovert\n",
            "Successfully installed qubovert-1.2.5\n",
            "Looking in indexes: https://pypi.org/simple, https://us-python.pkg.dev/colab-wheels/public/simple/\n",
            "Collecting dwave-system\n",
            "  Downloading dwave_system-1.20.0-py3-none-any.whl (103 kB)\n",
            "\u001b[2K     \u001b[90m━━━━━━━━━━━━━━━━━━━━━━━━━━━━━━━━━━━━━━━\u001b[0m \u001b[32m103.4/103.4 kB\u001b[0m \u001b[31m4.1 MB/s\u001b[0m eta \u001b[36m0:00:00\u001b[0m\n",
            "\u001b[?25hRequirement already satisfied: dimod<0.14.0,>=0.12.7 in /usr/local/lib/python3.10/dist-packages (from dwave-system) (0.12.7)\n",
            "Collecting dwave-cloud-client<0.11.0,>=0.9.1 (from dwave-system)\n",
            "  Downloading dwave_cloud_client-0.10.5-py3-none-any.whl (112 kB)\n",
            "\u001b[2K     \u001b[90m━━━━━━━━━━━━━━━━━━━━━━━━━━━━━━━━━━━━━━\u001b[0m \u001b[32m112.6/112.6 kB\u001b[0m \u001b[31m12.0 MB/s\u001b[0m eta \u001b[36m0:00:00\u001b[0m\n",
            "\u001b[?25hCollecting dwave-networkx>=0.8.10 (from dwave-system)\n",
            "  Downloading dwave_networkx-0.8.14-py3-none-any.whl (102 kB)\n",
            "\u001b[2K     \u001b[90m━━━━━━━━━━━━━━━━━━━━━━━━━━━━━━━━━━━━━━\u001b[0m \u001b[32m102.4/102.4 kB\u001b[0m \u001b[31m12.2 MB/s\u001b[0m eta \u001b[36m0:00:00\u001b[0m\n",
            "\u001b[?25hCollecting dwave-preprocessing>=0.5.0 (from dwave-system)\n",
            "  Downloading dwave_preprocessing-0.5.4-cp310-cp310-manylinux_2_17_x86_64.manylinux2014_x86_64.whl (3.6 MB)\n",
            "\u001b[2K     \u001b[90m━━━━━━━━━━━━━━━━━━━━━━━━━━━━━━━━━━━━━━━━\u001b[0m \u001b[32m3.6/3.6 MB\u001b[0m \u001b[31m47.7 MB/s\u001b[0m eta \u001b[36m0:00:00\u001b[0m\n",
            "\u001b[?25hCollecting networkx<3.0,>=2.0 (from dwave-system)\n",
            "  Downloading networkx-2.8.8-py3-none-any.whl (2.0 MB)\n",
            "\u001b[2K     \u001b[90m━━━━━━━━━━━━━━━━━━━━━━━━━━━━━━━━━━━━━━━━\u001b[0m \u001b[32m2.0/2.0 MB\u001b[0m \u001b[31m82.3 MB/s\u001b[0m eta \u001b[36m0:00:00\u001b[0m\n",
            "\u001b[?25hCollecting homebase<2.0.0,>=1.0.0 (from dwave-system)\n",
            "  Downloading homebase-1.0.1-py2.py3-none-any.whl (11 kB)\n",
            "Collecting minorminer<0.3.0,>=0.2.8 (from dwave-system)\n",
            "  Downloading minorminer-0.2.11-cp310-cp310-manylinux_2_17_x86_64.manylinux2014_x86_64.whl (10.1 MB)\n",
            "\u001b[2K     \u001b[90m━━━━━━━━━━━━━━━━━━━━━━━━━━━━━━━━━━━━━━━━\u001b[0m \u001b[32m10.1/10.1 MB\u001b[0m \u001b[31m89.6 MB/s\u001b[0m eta \u001b[36m0:00:00\u001b[0m\n",
            "\u001b[?25hRequirement already satisfied: numpy>=1.20.0 in /usr/local/lib/python3.10/dist-packages (from dwave-system) (1.22.4)\n",
            "Requirement already satisfied: dwave-samplers>=1.0.0 in /usr/local/lib/python3.10/dist-packages (from dwave-system) (1.0.0)\n",
            "Requirement already satisfied: scipy>=1.7.3 in /usr/local/lib/python3.10/dist-packages (from dwave-system) (1.10.1)\n",
            "Requirement already satisfied: requests[socks]>=2.18 in /usr/local/lib/python3.10/dist-packages (from dwave-cloud-client<0.11.0,>=0.9.1->dwave-system) (2.27.1)\n",
            "Requirement already satisfied: pydantic>=1.7.3 in /usr/local/lib/python3.10/dist-packages (from dwave-cloud-client<0.11.0,>=0.9.1->dwave-system) (1.10.9)\n",
            "Requirement already satisfied: click>=7.0 in /usr/local/lib/python3.10/dist-packages (from dwave-cloud-client<0.11.0,>=0.9.1->dwave-system) (8.1.3)\n",
            "Requirement already satisfied: python-dateutil>=2.7 in /usr/local/lib/python3.10/dist-packages (from dwave-cloud-client<0.11.0,>=0.9.1->dwave-system) (2.8.2)\n",
            "Collecting plucky>=0.4.3 (from dwave-cloud-client<0.11.0,>=0.9.1->dwave-system)\n",
            "  Downloading plucky-0.4.3-py2.py3-none-any.whl (10 kB)\n",
            "Collecting diskcache>=5.2.1 (from dwave-cloud-client<0.11.0,>=0.9.1->dwave-system)\n",
            "  Downloading diskcache-5.6.1-py3-none-any.whl (45 kB)\n",
            "\u001b[2K     \u001b[90m━━━━━━━━━━━━━━━━━━━━━━━━━━━━━━━━━━━━━━━━\u001b[0m \u001b[32m45.6/45.6 kB\u001b[0m \u001b[31m4.9 MB/s\u001b[0m eta \u001b[36m0:00:00\u001b[0m\n",
            "\u001b[?25hRequirement already satisfied: packaging>=19 in /usr/local/lib/python3.10/dist-packages (from dwave-cloud-client<0.11.0,>=0.9.1->dwave-system) (23.1)\n",
            "Requirement already satisfied: werkzeug>=2.2 in /usr/local/lib/python3.10/dist-packages (from dwave-cloud-client<0.11.0,>=0.9.1->dwave-system) (2.3.6)\n",
            "Collecting fasteners (from minorminer<0.3.0,>=0.2.8->dwave-system)\n",
            "  Downloading fasteners-0.18-py3-none-any.whl (18 kB)\n",
            "Collecting rectangle-packer>=2.0.1 (from minorminer<0.3.0,>=0.2.8->dwave-system)\n",
            "  Downloading rectangle_packer-2.0.1-cp310-cp310-manylinux_2_5_x86_64.manylinux1_x86_64.manylinux_2_17_x86_64.manylinux2014_x86_64.whl (300 kB)\n",
            "\u001b[2K     \u001b[90m━━━━━━━━━━━━━━━━━━━━━━━━━━━━━━━━━━━━━━\u001b[0m \u001b[32m300.8/300.8 kB\u001b[0m \u001b[31m30.5 MB/s\u001b[0m eta \u001b[36m0:00:00\u001b[0m\n",
            "\u001b[?25hRequirement already satisfied: typing-extensions>=4.2.0 in /usr/local/lib/python3.10/dist-packages (from pydantic>=1.7.3->dwave-cloud-client<0.11.0,>=0.9.1->dwave-system) (4.6.3)\n",
            "Requirement already satisfied: six>=1.5 in /usr/local/lib/python3.10/dist-packages (from python-dateutil>=2.7->dwave-cloud-client<0.11.0,>=0.9.1->dwave-system) (1.16.0)\n",
            "Requirement already satisfied: urllib3<1.27,>=1.21.1 in /usr/local/lib/python3.10/dist-packages (from requests[socks]>=2.18->dwave-cloud-client<0.11.0,>=0.9.1->dwave-system) (1.26.16)\n",
            "Requirement already satisfied: certifi>=2017.4.17 in /usr/local/lib/python3.10/dist-packages (from requests[socks]>=2.18->dwave-cloud-client<0.11.0,>=0.9.1->dwave-system) (2023.5.7)\n",
            "Requirement already satisfied: charset-normalizer~=2.0.0 in /usr/local/lib/python3.10/dist-packages (from requests[socks]>=2.18->dwave-cloud-client<0.11.0,>=0.9.1->dwave-system) (2.0.12)\n",
            "Requirement already satisfied: idna<4,>=2.5 in /usr/local/lib/python3.10/dist-packages (from requests[socks]>=2.18->dwave-cloud-client<0.11.0,>=0.9.1->dwave-system) (3.4)\n",
            "Requirement already satisfied: PySocks!=1.5.7,>=1.5.6 in /usr/local/lib/python3.10/dist-packages (from requests[socks]>=2.18->dwave-cloud-client<0.11.0,>=0.9.1->dwave-system) (1.7.1)\n",
            "Requirement already satisfied: MarkupSafe>=2.1.1 in /usr/local/lib/python3.10/dist-packages (from werkzeug>=2.2->dwave-cloud-client<0.11.0,>=0.9.1->dwave-system) (2.1.3)\n",
            "Installing collected packages: rectangle-packer, plucky, homebase, networkx, fasteners, diskcache, dwave-preprocessing, dwave-networkx, minorminer, dwave-cloud-client, dwave-system\n",
            "  Attempting uninstall: networkx\n",
            "    Found existing installation: networkx 3.1\n",
            "    Uninstalling networkx-3.1:\n",
            "      Successfully uninstalled networkx-3.1\n",
            "Successfully installed diskcache-5.6.1 dwave-cloud-client-0.10.5 dwave-networkx-0.8.14 dwave-preprocessing-0.5.4 dwave-system-1.20.0 fasteners-0.18 homebase-1.0.1 minorminer-0.2.11 networkx-2.8.8 plucky-0.4.3 rectangle-packer-2.0.1\n"
          ]
        }
      ],
      "source": [
        "!pip3 install dwave-neal\n",
        "!pip3 install qubovert\n",
        "!pip3 install dwave-system"
      ]
    },
    {
      "cell_type": "code",
      "execution_count": 2,
      "id": "gA8cKLWQYNgv",
      "metadata": {
        "id": "gA8cKLWQYNgv"
      },
      "outputs": [],
      "source": [
        "\n",
        "import qubovert\n",
        "import math\n",
        "from neal import SimulatedAnnealingSampler\n",
        "from dwave.system import DWaveSampler, EmbeddingComposite\n",
        "\n",
        "import numpy as np\n",
        "import matplotlib.pyplot as plt\n",
        "from time import time\n",
        "import math as math\n"
      ]
    },
    {
      "cell_type": "markdown",
      "id": "8G3o_ywrc8Sa",
      "metadata": {
        "id": "8G3o_ywrc8Sa"
      },
      "source": [
        "#Funciones auxiliares y Parámetros\n"
      ]
    },
    {
      "cell_type": "markdown",
      "source": [
        "En este apartado definimos diferéntes funciones auxiliares que usaremos a lo largo de la implementación, así como los parámetros para la ejecución del problema"
      ],
      "metadata": {
        "id": "8HA1cWL07C8D"
      },
      "id": "8HA1cWL07C8D"
    },
    {
      "cell_type": "markdown",
      "id": "5tWjXOeTom_b",
      "metadata": {
        "id": "5tWjXOeTom_b"
      },
      "source": [
        "###Funciones auxiliares"
      ]
    },
    {
      "cell_type": "markdown",
      "source": [
        "*toNumpy*: setrata de una función a la que dado un valor lo transformará a un array de Numpy"
      ],
      "metadata": {
        "id": "BFnM2kzM7Se4"
      },
      "id": "BFnM2kzM7Se4"
    },
    {
      "cell_type": "code",
      "execution_count": 3,
      "id": "-SbcuZtpc8BR",
      "metadata": {
        "id": "-SbcuZtpc8BR"
      },
      "outputs": [],
      "source": [
        "#Pasamos a np\n",
        "def toNumpy(v):\n",
        "    return np.sqrt(np.sum(v**2))"
      ]
    },
    {
      "cell_type": "markdown",
      "id": "RF-MbZ5Wotoy",
      "metadata": {
        "id": "RF-MbZ5Wotoy"
      },
      "source": [
        "###Definición de parámetros\n"
      ]
    },
    {
      "cell_type": "markdown",
      "source": [
        "***-N***: número de nodos que tendrá el problema.\n",
        "\n",
        "***-R***: como hemos visto en la modelización del problema en la memoria, las variables pueden tener 3 valores diferentes (0,1,2). Por ello establecemos R=3.\n",
        "\n",
        "***-Penalización***: es el valor por el que multiplicamos los distintos coeficientes de Lagrange, y que así tomen valores grandes, con el fin de conseguir resultados correctos en la ejecución del problema.\n",
        "\n",
        "***-lis_r***: se trata de una lista de dimensión R (3) que nos facilitará la imprementación a la hora de establecer las restricciones del problema.\n",
        "\n",
        "***-lis_n***: al igual que en el caso anterior, una lista que usaremos como índices en los sumatorios de las distintas restricciones."
      ],
      "metadata": {
        "id": "w18SxXNG7l-O"
      },
      "id": "w18SxXNG7l-O"
    },
    {
      "cell_type": "code",
      "execution_count": 202,
      "id": "YwQVQKA3Zj-m",
      "metadata": {
        "id": "YwQVQKA3Zj-m"
      },
      "outputs": [],
      "source": [
        "N = 5\n",
        "R=3\n",
        "penalizacion = 2\n",
        "lis_r = range(R)\n",
        "lis_n = range(0,N+1)\n"
      ]
    },
    {
      "cell_type": "markdown",
      "source": [
        "#Representación del problema"
      ],
      "metadata": {
        "id": "85NzC6No9H7w"
      },
      "id": "85NzC6No9H7w"
    },
    {
      "cell_type": "markdown",
      "source": [
        "Para crear la creación del problema, creamos distintos puntos que representan los distintos nodos o ciudades que nuestro problema debe recorrer. Como el problema ha de acabar en el punto de salida, igualaremos el último punto al primero."
      ],
      "metadata": {
        "id": "h6mUiHD29SIe"
      },
      "id": "h6mUiHD29SIe"
    },
    {
      "cell_type": "code",
      "execution_count": 203,
      "id": "LPP4y7sPZnwe",
      "metadata": {
        "colab": {
          "base_uri": "https://localhost:8080/",
          "height": 569
        },
        "id": "LPP4y7sPZnwe",
        "outputId": "72ed078c-6bf3-418a-8a0e-23e22e2d31e8"
      },
      "outputs": [
        {
          "output_type": "stream",
          "name": "stdout",
          "text": [
            "Los nodos del problema son:\n",
            "[[0.56102796 0.33801857]\n",
            " [0.26347438 0.16601819]\n",
            " [0.92718479 0.99925721]\n",
            " [0.58969028 0.04777155]\n",
            " [0.35941725 0.75452968]\n",
            " [0.56102796 0.33801857]]\n"
          ]
        },
        {
          "output_type": "execute_result",
          "data": {
            "text/plain": [
              "[<matplotlib.lines.Line2D at 0x7fa9eb7eeda0>]"
            ]
          },
          "metadata": {},
          "execution_count": 203
        },
        {
          "output_type": "display_data",
          "data": {
            "text/plain": [
              "<Figure size 640x480 with 1 Axes>"
            ],
            "image/png": "[encoded data removed]"
          },
          "metadata": {}
        }
      ],
      "source": [
        "puntos = np.random.rand(N+1,2)\n",
        "puntos[N]=puntos[0]\n",
        "\n",
        "print(\"Los nodos del problema son:\")\n",
        "print(puntos)\n",
        "plt.plot(puntos[:,0],puntos[:,1],'o')\n"
      ]
    },
    {
      "cell_type": "code",
      "source": [
        "plt.plot(puntos[:,0],puntos[:,1],'o')\n",
        "distancia = np.zeros((N+2,N+2))\n",
        "for i in range(N):\n",
        "    for j in range(i+1,N+1):\n",
        "        aux  =  toNumpy(puntos[i,:]-puntos[j,:])\n",
        "        distancia[i,j],distancia[j,i] = aux,aux\n",
        "\n",
        "for j in range(0,N+1):\n",
        "    i = N+1\n",
        "    aux  =  toNumpy(puntos[0,:]-puntos[j,:])\n",
        "    distancia[i,j],distancia[j,i] = aux,aux\n",
        "distancia = np.floor(distancia*1000)\n",
        "print(distancia)"
      ],
      "metadata": {
        "colab": {
          "base_uri": "https://localhost:8080/",
          "height": 552
        },
        "id": "eToRV-77qy5a",
        "outputId": "9f5485f5-a2de-4dce-c7fd-4ff2af218579"
      },
      "id": "eToRV-77qy5a",
      "execution_count": 204,
      "outputs": [
        {
          "output_type": "stream",
          "name": "stdout",
          "text": [
            "[[   0.  343.  755.  291.  462.    0.    0.]\n",
            " [ 343.    0. 1065.  346.  596.  343.  343.]\n",
            " [ 755. 1065.    0. 1009.  618.  755.  755.]\n",
            " [ 291.  346. 1009.    0.  743.  291.  291.]\n",
            " [ 462.  596.  618.  743.    0.  462.  462.]\n",
            " [   0.  343.  755.  291.  462.    0.    0.]\n",
            " [   0.  343.  755.  291.  462.    0.    0.]]\n"
          ]
        },
        {
          "output_type": "display_data",
          "data": {
            "text/plain": [
              "<Figure size 640x480 with 1 Axes>"
            ],
            "image/png": "[encoded data removed]"
          },
          "metadata": {}
        }
      ]
    },
    {
      "cell_type": "markdown",
      "source": [
        "### Matriz distancia.\n",
        "Se trata de una matriz que guarda las distancia desde un nodo a todos los demás. De este modo, podremos usar esta matriz para obtener el camíno mínimo a recorrer entre todos los puntos. Para una mejor lectura, normalizamos la distancia."
      ],
      "metadata": {
        "id": "SwM3ZTBi-YB6"
      },
      "id": "SwM3ZTBi-YB6"
    },
    {
      "cell_type": "code",
      "execution_count": 205,
      "id": "SdEsrg5SZq7p",
      "metadata": {
        "colab": {
          "base_uri": "https://localhost:8080/"
        },
        "id": "SdEsrg5SZq7p",
        "outputId": "e2e09051-18ea-4978-9ef6-510b7fa8f8a0"
      },
      "outputs": [
        {
          "output_type": "stream",
          "name": "stdout",
          "text": [
            "[[   0.  343.  755.  291.  462.    0.]\n",
            " [ 343.    0. 1065.  346.  596.  343.]\n",
            " [ 755. 1065.    0. 1009.  618.  755.]\n",
            " [ 291.  346. 1009.    0.  743.  291.]\n",
            " [ 462.  596.  618.  743.    0.  462.]\n",
            " [   0.  343.  755.  291.  462.    0.]]\n"
          ]
        }
      ],
      "source": [
        "distancia = np.zeros((N+1,N+1))\n",
        "for i in range(N):\n",
        "    for j in range(i+1,N+1):\n",
        "        aux  =  toNumpy(puntos[i,:]-puntos[j,:])\n",
        "        distancia[i,j],distancia[j,i] = aux,aux\n",
        "distancia = np.floor(distancia*1000)\n",
        "print(distancia)\n"
      ]
    },
    {
      "cell_type": "markdown",
      "id": "Ecs6KIJYl7P-",
      "metadata": {
        "id": "Ecs6KIJYl7P-"
      },
      "source": [
        "Según la tabla de distancias obtenida anteriormente, obtenemos el camino más corto entre los vecinos cercanos y calculamos la distancia de dicho camino. Es decir tras visitar un nodo $i$, el siguiente nodo a visitar será el $j$ que esté mas cerca de ese primero."
      ]
    },
    {
      "cell_type": "code",
      "execution_count": 206,
      "id": "xr-sohLwlyIB",
      "metadata": {
        "colab": {
          "base_uri": "https://localhost:8080/"
        },
        "id": "xr-sohLwlyIB",
        "outputId": "a360217b-649e-45a9-ab4b-b0747c637386"
      },
      "outputs": [
        {
          "output_type": "stream",
          "name": "stdout",
          "text": [
            "El orden recorrido es: [0, 3, 1, 4, 2, 0]\n",
            "La distancia recorrida es: 2606.0\n"
          ]
        }
      ],
      "source": [
        "distanciaAux  = np.copy(distancia)\n",
        "for i in lis_n:\n",
        "    distanciaAux[i,i] = np.inf\n",
        "distanciaAux = np.copy(distanciaAux[:-1,:-1])\n",
        "i = 0\n",
        "distanciaMin = 0\n",
        "ordenRecorrido = [i]\n",
        "for j in range(N):\n",
        "    distanciaAux[j,0] = np.inf\n",
        "for cont in range(N-1):\n",
        "    siguienteDistancia = np.min(distanciaAux[i,:])\n",
        "    distanciaMin += siguienteDistancia\n",
        "    sig = np.where(distanciaAux[i,:] == siguienteDistancia)[0][0]\n",
        "    for j in range(N):\n",
        "        distanciaAux[j,sig] = np.inf #Actualizamos distancia para que no vuelva a ese nodo\n",
        "    i = sig\n",
        "    ordenRecorrido.append(i)\n",
        "distanciaMin += distancia[ordenRecorrido[-1],0]\n",
        "#El último nodo es el mismo que el primero.\n",
        "ordenRecorrido.append(0)\n",
        "\n",
        "print(\"El orden recorrido es:\", ordenRecorrido)\n",
        "print(\"La distancia recorrida es:\", distanciaMin)"
      ]
    },
    {
      "cell_type": "code",
      "execution_count": 207,
      "id": "hBR0RWZkl0GU",
      "metadata": {
        "colab": {
          "base_uri": "https://localhost:8080/",
          "height": 465
        },
        "id": "hBR0RWZkl0GU",
        "outputId": "2d66c1e2-ec9b-4477-8ca6-bfc9dbeb49fa"
      },
      "outputs": [
        {
          "output_type": "display_data",
          "data": {
            "text/plain": [
              "<Figure size 640x480 with 1 Axes>"
            ],
            "image/png": "[encoded data removed]"
          },
          "metadata": {}
        },
        {
          "output_type": "stream",
          "name": "stdout",
          "text": [
            "El orden recorrido es: [0, 3, 1, 4, 2, 0]\n",
            "La distancia recorrida es: 2606.0\n"
          ]
        }
      ],
      "source": [
        "plt.plot(puntos[:,0],puntos[:,1],'o')\n",
        "for i in range(N):\n",
        "    plt.plot(puntos[(ordenRecorrido[i],ordenRecorrido[i+1]),0],puntos[(ordenRecorrido[i],ordenRecorrido[i+1]),1])\n",
        "plt.show()\n",
        "print(\"El orden recorrido es:\", ordenRecorrido)\n",
        "print(\"La distancia recorrida es:\", distanciaMin)"
      ]
    },
    {
      "cell_type": "markdown",
      "id": "tIv4PbL1iY3y",
      "metadata": {
        "id": "tIv4PbL1iY3y"
      },
      "source": [
        "#Modelo\n"
      ]
    },
    {
      "cell_type": "markdown",
      "source": [
        "## Variables del modelo\n",
        "La clase ***qubovert.QUBO()*** es una implementación de QUBO en Python que proporciona una interfaz conveniente para definir y manipular problemas de optimización en forma de QUBO. Esta clase permite construir la matriz QUBO y realizar diversas operaciones sobre ella.\n",
        "\n",
        "Como sabemos, nuestras variables son de la forma *f x_{i,j,r}*, entonces usaremos el método **create_var()** para crear las variablesde nuestro problema."
      ],
      "metadata": {
        "id": "LHJr35kD_rao"
      },
      "id": "LHJr35kD_rao"
    },
    {
      "cell_type": "code",
      "execution_count": 208,
      "id": "84qg5hkcjFIp",
      "metadata": {
        "colab": {
          "base_uri": "https://localhost:8080/"
        },
        "id": "84qg5hkcjFIp",
        "outputId": "4527cfff-3716-45bd-a1a1-05735d9e73f2"
      },
      "outputs": [
        {
          "output_type": "stream",
          "name": "stdout",
          "text": [
            "Usaremos: 108 variables\n"
          ]
        }
      ],
      "source": [
        "# Creamos las variables del modelo\n",
        "coef = qubovert.QUBO()\n",
        "\n",
        "## Variables x_{i,j,r}\n",
        "for i in lis_n:\n",
        "    for j in lis_n:\n",
        "        if not i==j:\n",
        "            for r in lis_r:\n",
        "                coef.create_var(f\"x_{i}_{j}_{r}\")\n",
        "\n",
        "numVariables = len(lis_n)*len(lis_n)*len(lis_r)\n",
        "print(\"Usaremos:\", numVariables,\"variables\")"
      ]
    },
    {
      "cell_type": "markdown",
      "id": "bY9kOXualiy2",
      "metadata": {
        "id": "bY9kOXualiy2"
      },
      "source": [
        "## Añadimos las restricciones\n",
        "De acuerdo a las distintas restricciones que hemos definido en la memoria, calculamos los valores que tendrán cada una de nuestras variables de acuerdo a los distintos coeficientes de Lagrnage (también definidos en la memoria).\n"
      ]
    },
    {
      "cell_type": "markdown",
      "source": [
        "Restricción 1:\n",
        "\\begin{equation*}\n",
        "            \\sum_{i=0}^{N+1}\\sum_{j=0}^{N+1}( \\sum_{r_1=0}^{2}\\sum_{r_2=0}^{2}\\lambda_1 x_{i,j,r_1}x_{i,j,r_2}+\\sum_{r=0}^{2}-2\\lambda_1 x_{i,j,r})\n",
        "\\end{equation*}"
      ],
      "metadata": {
        "id": "lpexIpsFalNb"
      },
      "id": "lpexIpsFalNb"
    },
    {
      "cell_type": "code",
      "source": [
        "lagrange_1 = distanciaMin*penalizacion\n",
        "for i in lis_n:\n",
        "    for j in lis_n:\n",
        "        if not i==j:\n",
        "            for r1 in lis_r:\n",
        "                for r2 in lis_r:\n",
        "                    coef[(f\"x_{i}_{j}_{r1}\",f\"x_{i}_{j}_{r2}\")] += (lagrange_1)\n",
        "            for r in lis_r:\n",
        "                    coef[(f\"x_{i}_{j}_{r}\",)] += -2*(lagrange_1)"
      ],
      "metadata": {
        "id": "C8OEr8eyarP9"
      },
      "id": "C8OEr8eyarP9",
      "execution_count": 209,
      "outputs": []
    },
    {
      "cell_type": "markdown",
      "source": [
        "Restricción 2:\n",
        "\\begin{equation*}\n",
        "            \\sum_{i=0}^{N}(\\sum_{j_1=0}^{N+1}\\sum_{j_2=0}^{N+1}\\lambda_2 x_{i,j_1,1}x_{i,j_2,1}+\\sum_{j=0}^{N}-2\\lambda_2 x_{i,j,1})\n",
        "        \\end{equation*}"
      ],
      "metadata": {
        "id": "VJ2N58o_awLj"
      },
      "id": "VJ2N58o_awLj"
    },
    {
      "cell_type": "code",
      "source": [
        "for i in range(N+1):\n",
        "    lagrange_2 =penalizacion*np.max(distancia[i,])\n",
        "    for j in lis_n:\n",
        "        if not i == j:\n",
        "            coef[(f\"x_{i}_{j}_{1}\",)] += -2*lagrange_2\n",
        "    for j1 in  lis_n:\n",
        "        if j1 != i:\n",
        "            for j2 in lis_n:\n",
        "                if j2!=i:\n",
        "                    coef[(f\"x_{i}_{j1}_{1}\",f\"x_{i}_{j2}_{1}\")]+= lagrange_2"
      ],
      "metadata": {
        "id": "PBUyAOeDaur2"
      },
      "id": "PBUyAOeDaur2",
      "execution_count": 210,
      "outputs": []
    },
    {
      "cell_type": "markdown",
      "source": [
        "Restricción 3:\n",
        "\\begin{equation*}\n",
        "            \\sum_{j=1}^{N+1}(\\sum_{i_1=1}^{N}\\sum_{i_2=1}^{N}\\lambda_3 x_{i_1,j,1}x_{i_2,j,1}+\\sum_{i=1}^{N}-2\\lambda_3 x_{i,j,1})\n",
        "        \\end{equation*}"
      ],
      "metadata": {
        "id": "DKI2YErIa0Cz"
      },
      "id": "DKI2YErIa0Cz"
    },
    {
      "cell_type": "code",
      "source": [
        "for j in range(1,N+1):\n",
        "    lagrange_3 = penalizacion*np.max(distancia[:,j])\n",
        "    for i1 in  lis_n:\n",
        "        if i1!=j:\n",
        "            for i2 in lis_n:\n",
        "                if i2!=j:\n",
        "                    coef[(f\"x_{i1}_{j}_{1}\",f\"x_{i2}_{j}_{1}\")]+= lagrange_3\n",
        "    for i in range(N+1):\n",
        "        if i!=j:\n",
        "            coef[(f\"x_{i}_{j}_{1}\",)] += -2*lagrange_3"
      ],
      "metadata": {
        "id": "UgKBVYWia0bX"
      },
      "id": "UgKBVYWia0bX",
      "execution_count": 211,
      "outputs": []
    },
    {
      "cell_type": "markdown",
      "source": [
        "Restrcción 4:\n",
        "\\begin{equation*}\n",
        "            \\sum_{j=0}^{N+1} \\lambda_4x_{0,j,2}\n",
        "        \\end{equation*}"
      ],
      "metadata": {
        "id": "V7GDfOmVa7jh"
      },
      "id": "V7GDfOmVa7jh"
    },
    {
      "cell_type": "code",
      "source": [
        "lagrange_4 = penalizacion*np.max(distancia[0,j])\n",
        "for j in lis_n:\n",
        "    coef[(f\"x_{0}_{j}_{2}\",)] += lagrange_4"
      ],
      "metadata": {
        "id": "NCVQidfHbDtY"
      },
      "id": "NCVQidfHbDtY",
      "execution_count": 212,
      "outputs": []
    },
    {
      "cell_type": "markdown",
      "source": [
        "Restrcción 5:\n",
        "\\begin{equation*}\n",
        "            \\sum_{i=0}^{N+1} \\lambda_5x_{i,N+1,2}\n",
        "        \\end{equation*}"
      ],
      "metadata": {
        "id": "gyO_6RF0a-Um"
      },
      "id": "gyO_6RF0a-Um"
    },
    {
      "cell_type": "code",
      "source": [
        "lagrange_5 = penalizacion*np.max(distancia[i,0])\n",
        "for i in lis_n:\n",
        "    coef[(f\"x_{i}_{N+1}_{2}\",)] += lagrange_5"
      ],
      "metadata": {
        "id": "0zVC6KJrbEJX"
      },
      "id": "0zVC6KJrbEJX",
      "execution_count": 213,
      "outputs": []
    },
    {
      "cell_type": "markdown",
      "source": [
        "Restrcción 6:\n",
        "\\begin{equation*}\n",
        "            \\sum_{i=0}^{N+1} \\lambda_6x_{i,i}\n",
        "        \\end{equation*}"
      ],
      "metadata": {
        "id": "NpfQrH44a_hX"
      },
      "id": "NpfQrH44a_hX"
    },
    {
      "cell_type": "code",
      "source": [
        "lagrange_6 = penalizacion*max(np.max(distancia[i,j]),np.max(distancia[j,i]))\n",
        "for i in lis_n:\n",
        "    coef[(f\"x_{i}_{i}_{1}\",)] += lagrange_6"
      ],
      "metadata": {
        "id": "m9crAwMzbEe3"
      },
      "id": "m9crAwMzbEe3",
      "execution_count": 214,
      "outputs": []
    },
    {
      "cell_type": "markdown",
      "source": [
        "Restrcción 7:\n",
        "\\begin{equation*}\n",
        "            \\sum_{i\\neq j} (2\\lambda_7 x_{i,j,2}x_{j,i,2}-\\lambda_7 x_{i,j,2}-\\lambda_7x_{j,i,2})\n",
        "        \\end{equation*}"
      ],
      "metadata": {
        "id": "L7406Mm5bAyX"
      },
      "id": "L7406Mm5bAyX"
    },
    {
      "cell_type": "code",
      "source": [
        "lagrange_7 = distanciaMin*penalizacion\n",
        "for i in lis_n:\n",
        "    for j in lis_n:\n",
        "        if i!=j:\n",
        "            coef[(f\"x_{i}_{j}_{2}\",f\"x_{j}_{i}_{2}\")] += 2*lagrange_7\n",
        "            coef[(f\"x_{i}_{j}_{2}\",)] -= lagrange_7\n",
        "            coef[(f\"x_{j}_{i}_{2}\",)] -= lagrange_7"
      ],
      "metadata": {
        "id": "X6V3XEZebE_I"
      },
      "id": "X6V3XEZebE_I",
      "execution_count": 215,
      "outputs": []
    },
    {
      "cell_type": "markdown",
      "source": [
        "Restrcción 8\n",
        "\n",
        "\\begin{equation*}\n",
        "        \\sum_{i=1}^{N}\\sum_{j=1}^{N}\\sum_{k=1}^{N} (\\lambda_8x_{j,i,2}x_{k,j,2})-(\\lambda_8x_{j,i,2}x_{k,i,2})-(\\lambda_8x_{k,j,2}x_{k,i,2})+\\lambda_8x_{k,i,2}\n",
        "    \\end{equation*}"
      ],
      "metadata": {
        "id": "yA3GWhN0bCMr"
      },
      "id": "yA3GWhN0bCMr"
    },
    {
      "cell_type": "code",
      "execution_count": 216,
      "id": "bG_r8brejnEQ",
      "metadata": {
        "id": "bG_r8brejnEQ"
      },
      "outputs": [],
      "source": [
        "\n",
        "lagrange_8 = distanciaMin*penalizacion\n",
        "for i in range(1,N+1):\n",
        "    for j in range(1,N+1):\n",
        "        for k in range(1,N+1):\n",
        "            if i!=j and j!=k and i!=k:\n",
        "                coef[(f\"x_{j}_{i}_{2}\",f\"x_{k}_{j}_{2}\")] += lagrange_8\n",
        "                coef[(f\"x_{j}_{i}_{2}\",f\"x_{k}_{i}_{2}\")] -= lagrange_8\n",
        "                coef[(f\"x_{k}_{j}_{2}\",f\"x_{k}_{i}_{2}\")] -= lagrange_8\n",
        "                coef[(f\"x_{k}_{i}_{2}\",)] += lagrange_8\n",
        "\n"
      ]
    },
    {
      "cell_type": "markdown",
      "source": [
        "Función objetivo:\n",
        "\\begin{equation}\n",
        "    \\sum_{i=0}^{N+1}\\sum_{j=0}^{N+1} \\lambda_{obj} x_{i,j,1} d_{i,j}\n",
        "\\end{equation}"
      ],
      "metadata": {
        "id": "XlSscVghbQ2g"
      },
      "id": "XlSscVghbQ2g"
    },
    {
      "cell_type": "code",
      "source": [
        "lagrange_obj = 1\n",
        "for i in lis_n:\n",
        "    for j in lis_n:\n",
        "        if i!=j:\n",
        "            coef[(f\"x_{i}_{j}_{1}\",)] += lagrange_obj*distancia[i,j]"
      ],
      "metadata": {
        "id": "5g3x7JxmbTNv"
      },
      "id": "5g3x7JxmbTNv",
      "execution_count": 217,
      "outputs": []
    },
    {
      "cell_type": "markdown",
      "source": [
        "## Ejecución\n",
        "\n",
        "Para la ejecución del problema, debemos crear primero de todo el modelo cuadrático vinario (BQM) que le pasaremos al *sampler* de *D-Wave*. Este modelo es diccionario tiene como claves cada par de variables y como valores, el valor calculado en el paso anterior."
      ],
      "metadata": {
        "id": "lOTXUahWC0P4"
      },
      "id": "lOTXUahWC0P4"
    },
    {
      "cell_type": "code",
      "source": [
        "dwaveDic = {}\n",
        "for i in coef:\n",
        "    if len(i) == 1:\n",
        "        dwaveDic[(i[0],i[0])] = coef[i]\n",
        "    else:\n",
        "        dwaveDic[i] = coef[i]"
      ],
      "metadata": {
        "id": "lKuGaEQXYTVj"
      },
      "id": "lKuGaEQXYTVj",
      "execution_count": 218,
      "outputs": []
    },
    {
      "cell_type": "markdown",
      "source": [
        "### Annealing Real\n",
        "En la siguiente ejecución, a diferencia de la anterior, ejecutaremos nuestro problema en un *quantum annealer* físico y no mediante una simulación ( ***DWaveSampler()***). Para poder llevar a cabo esta ejecución necesitamos abstraer elproblema de forma de que el *quantum annealer* sea capaz de manejar.\n",
        "\n",
        "Un *quantum annealer* tiene una arquitectura de conectividad limitada, lo que significa que solo ciertos pares de qubits están directamente conectados entre sí. Sin embargo, para resolver un problema de optimización general, se requiere una conectividad más amplia entre los qubits.\n",
        "\n",
        "***EmbeddingComposite*** se encarga de mapear o embeber el problema de optimización en el hardware específico del quantum annealer. Utiliza técnicas de mapeo y enrutamiento para transformar el problema de optimización de un grafo general a un grafo compatible con la conectividad del hardware.\n",
        "\n",
        "En resumen, al utilizar ***EmbeddingComposite(DWaveSampler())***, estás creando un objeto *sampler* que toma un quantum annealer físico (***DWaveSampler()***) y lo envuelve en ***EmbeddingComposite*** para manejar el mapeo y enrutamiento del problema de optimización en el hardware del *quantum annealer*.\n",
        "\n",
        "Los parámetros que permite ***EmbeddingComposite()*** son:\n",
        "\n",
        "\n",
        "*   **-bqm**: El modelo cuadrático binario que se va a muestrear.\n",
        "\n",
        "*   **-chain_strength**: Establece la fuerza de acoplamiento entre los qubits que representan variables.  Un valor bajo de **chain_strength** puede favorecer la exploración del espacio de soluciones, ya que las cadenas más débiles permiten una mayor flexibilidad para explorar diferentes configuraciones de qubits. Por otro lado, un valor alto de chain_strength puede favorecer la explotación, permitiendo una búsqueda más intensiva de mínimos locales y soluciones óptimas.\n",
        "\n",
        "*   **-chain_break_method**: Especifica el método o métodos utilizados para resolver las rupturas de cadena. El método por defecto es voto por la mayoría por lo que dejaremos ese.\n",
        "\n",
        "*   **-chain_break_fraction**: Proporciona información sobre cuántas cadenas se han roto durante el proceso de muestreo antes de obtener las soluciones finales.\n",
        "\n",
        "*   **-embedding_parameters**: Si se proporciona, estos parámetros se pasan al método de *embedding* como argumentos de palabra clave.\n",
        "\n",
        "*   **-return_embedding**: Si se establece en *True*, se agrega información sobre el *embedding*, fuerza de acoplamiento de las cadenas, método de resolución de rupturas de cadena y los parámetros de *embedding* al campo ***dimod.SampleSet.info*** del conjunto de muestras devuelto.\n",
        "\n",
        "*   **-warnings**: Define, si la hay, qué acción de advertencia realizar.\n",
        "\n",
        "[D-Wave Ocean](https://docs.ocean.dwavesys.com/en/stable/docs_system/reference/generated/dwave.system.composites.EmbeddingComposite.sample.html)\n",
        "\n"
      ],
      "metadata": {
        "id": "b0j_hH62Q3Nu"
      },
      "id": "b0j_hH62Q3Nu"
    },
    {
      "cell_type": "code",
      "source": [
        "TOKEN=\"DEV-512e056dfd01980d70f3c29a9e1207e80f34783b\""
      ],
      "metadata": {
        "id": "ebsgirdjagyZ"
      },
      "id": "ebsgirdjagyZ",
      "execution_count": 219,
      "outputs": []
    },
    {
      "cell_type": "code",
      "execution_count": 257,
      "id": "wzv_IHfoqgbU",
      "metadata": {
        "colab": {
          "base_uri": "https://localhost:8080/"
        },
        "id": "wzv_IHfoqgbU",
        "outputId": "cdf74079-ae00-4f72-bcda-f14771370278"
      },
      "outputs": [
        {
          "output_type": "stream",
          "name": "stdout",
          "text": [
            "La solución es:  {'x_0_1_0': 1, 'x_0_1_1': 0, 'x_0_1_2': 0, 'x_0_2_0': 0, 'x_0_2_1': 0, 'x_0_2_2': 1, 'x_0_3_0': 0, 'x_0_3_1': 1, 'x_0_3_2': 0, 'x_0_4_0': 0, 'x_0_4_1': 0, 'x_0_4_2': 1, 'x_0_5_0': 0, 'x_0_5_1': 0, 'x_0_5_2': 1, 'x_1_0_0': 0, 'x_1_0_1': 0, 'x_1_0_2': 1, 'x_1_2_0': 1, 'x_1_2_1': 0, 'x_1_2_2': 0, 'x_1_3_0': 0, 'x_1_3_1': 0, 'x_1_3_2': 1, 'x_1_4_0': 0, 'x_1_4_1': 1, 'x_1_4_2': 0, 'x_1_5_0': 1, 'x_1_5_1': 0, 'x_1_5_2': 0, 'x_2_0_0': 1, 'x_2_0_1': 0, 'x_2_0_2': 0, 'x_2_1_0': 0, 'x_2_1_1': 0, 'x_2_1_2': 1, 'x_2_3_0': 0, 'x_2_3_1': 0, 'x_2_3_2': 1, 'x_2_4_0': 0, 'x_2_4_1': 0, 'x_2_4_2': 1, 'x_2_5_0': 0, 'x_2_5_1': 1, 'x_2_5_2': 0, 'x_3_0_0': 0, 'x_3_0_1': 0, 'x_3_0_2': 1, 'x_3_1_0': 0, 'x_3_1_1': 1, 'x_3_1_2': 0, 'x_3_2_0': 1, 'x_3_2_1': 0, 'x_3_2_2': 0, 'x_3_4_0': 1, 'x_3_4_1': 0, 'x_3_4_2': 0, 'x_3_5_0': 1, 'x_3_5_1': 0, 'x_3_5_2': 0, 'x_4_0_0': 1, 'x_4_0_1': 0, 'x_4_0_2': 0, 'x_4_1_0': 0, 'x_4_1_1': 0, 'x_4_1_2': 1, 'x_4_2_0': 0, 'x_4_2_1': 1, 'x_4_2_2': 0, 'x_4_3_0': 0, 'x_4_3_1': 0, 'x_4_3_2': 1, 'x_4_5_0': 1, 'x_4_5_1': 0, 'x_4_5_2': 0, 'x_5_0_0': 0, 'x_5_0_1': 1, 'x_5_0_2': 0, 'x_5_1_0': 0, 'x_5_1_1': 0, 'x_5_1_2': 1, 'x_5_2_0': 0, 'x_5_2_1': 0, 'x_5_2_2': 1, 'x_5_3_0': 0, 'x_5_3_1': 0, 'x_5_3_2': 1, 'x_5_4_0': 0, 'x_5_4_1': 0, 'x_5_4_2': 1} -330172.0\n"
          ]
        }
      ],
      "source": [
        "import time\n",
        "t=time.time()\n",
        "sampler = EmbeddingComposite(DWaveSampler(token=TOKEN, solver=dict(topology__type='pegasus')))\n",
        "sampleset = sampler.sample_qubo(dwaveDic, num_reads=5500, return_embedding=True, chain_strength=5000)\n",
        "\n",
        "print(\"La solución es: \", (sampleset.first.sample), sampleset.first.energy)\n",
        "time=time.time()-t"
      ]
    },
    {
      "cell_type": "code",
      "source": [
        "sampleset.info"
      ],
      "metadata": {
        "colab": {
          "base_uri": "https://localhost:8080/"
        },
        "id": "Z0ZszpGtgAR9",
        "outputId": "efcc7328-5985-4fc4-d848-9567682369b6"
      },
      "id": "Z0ZszpGtgAR9",
      "execution_count": 258,
      "outputs": [
        {
          "output_type": "execute_result",
          "data": {
            "text/plain": [
              "{'timing': {'qpu_sampling_time': 590370.0,\n",
              "  'qpu_anneal_time_per_sample': 20.0,\n",
              "  'qpu_readout_time_per_sample': 66.8,\n",
              "  'qpu_access_time': 606299.17,\n",
              "  'qpu_access_overhead_time': 2354.83,\n",
              "  'qpu_programming_time': 15929.17,\n",
              "  'qpu_delay_time_per_sample': 20.54,\n",
              "  'post_processing_overhead_time': 1276.0,\n",
              "  'total_post_processing_time': 4294.0},\n",
              " 'problem_id': '4eab3ba2-4f7d-4d34-962c-a607aaef939e',\n",
              " 'embedding_context': {'embedding': {'x_0_1_1': (3427, 1413, 1412),\n",
              "   'x_0_1_0': (1487,),\n",
              "   'x_0_1_2': (3412,),\n",
              "   'x_0_2_1': (3591, 3592),\n",
              "   'x_0_2_0': (1518,),\n",
              "   'x_0_2_2': (1503,),\n",
              "   'x_0_3_1': (1548, 1353, 3576, 3577),\n",
              "   'x_0_3_0': (3653,),\n",
              "   'x_0_3_2': (3638,),\n",
              "   'x_0_4_1': (1428, 3667),\n",
              "   'x_0_4_0': (1309,),\n",
              "   'x_0_4_2': (1294,),\n",
              "   'x_0_5_1': (3652, 1397, 1398),\n",
              "   'x_0_5_0': (1489,),\n",
              "   'x_0_5_2': (1474,),\n",
              "   'x_1_0_1': (1459, 1458),\n",
              "   'x_1_0_0': (1457,),\n",
              "   'x_1_0_2': (1443, 1442),\n",
              "   'x_1_2_1': (3607, 3740, 3741, 1368),\n",
              "   'x_1_2_0': (1084,),\n",
              "   'x_1_2_2': (1097, 1099, 1098),\n",
              "   'x_1_3_1': (3682, 3681, 1142, 1143),\n",
              "   'x_1_3_0': (3425,),\n",
              "   'x_1_3_2': (1127, 3440),\n",
              "   'x_1_4_1': (3635, 3637, 3636),\n",
              "   'x_1_4_0': (1023,),\n",
              "   'x_1_4_2': (1066, 1067, 3680, 1068),\n",
              "   'x_1_5_1': (1366, 1367, 1383, 3532),\n",
              "   'x_1_5_0': (3307,),\n",
              "   'x_1_5_2': (3322, 3320, 3321),\n",
              "   'x_2_0_1': (3488, 1293, 3487),\n",
              "   'x_2_0_0': (3503,),\n",
              "   'x_2_0_2': (1502,),\n",
              "   'x_2_1_1': (3457, 1172, 3456),\n",
              "   'x_2_1_0': (3410,),\n",
              "   'x_2_1_2': (932, 3394, 1112, 3395),\n",
              "   'x_2_3_1': (3485, 1278, 3486),\n",
              "   'x_2_3_0': (1157,),\n",
              "   'x_2_3_2': (991, 3455, 992),\n",
              "   'x_2_4_1': (1248, 3516, 3517),\n",
              "   'x_2_4_0': (1128,),\n",
              "   'x_2_4_2': (3531, 3530, 961, 962),\n",
              "   'x_2_5_1': (3472, 1246, 1247, 3471),\n",
              "   'x_2_5_0': (1231,),\n",
              "   'x_2_5_2': (3306, 3305),\n",
              "   'x_3_0_1': (3562, 1488),\n",
              "   'x_3_0_0': (3563,),\n",
              "   'x_3_0_2': (3533, 1593),\n",
              "   'x_3_1_1': (3561, 3411, 1352),\n",
              "   'x_3_1_0': (3396,),\n",
              "   'x_3_1_2': (3275, 1171, 1292, 3276),\n",
              "   'x_3_2_1': (3620, 1308, 3622, 3621),\n",
              "   'x_3_2_0': (3605,),\n",
              "   'x_3_2_2': (1082, 1083),\n",
              "   'x_3_4_1': (1264, 1262, 3547, 3546, 1263),\n",
              "   'x_3_4_0': (1277,),\n",
              "   'x_3_4_2': (3335, 3336),\n",
              "   'x_3_5_1': (1473, 3442, 1472),\n",
              "   'x_3_5_0': (3277,),\n",
              "   'x_3_5_2': (3291, 3292, 1141, 3290),\n",
              "   'x_4_0_1': (1322, 1323),\n",
              "   'x_4_0_0': (3712,),\n",
              "   'x_4_0_2': (3697,),\n",
              "   'x_4_1_1': (1217, 1307, 3426),\n",
              "   'x_4_1_0': (3366,),\n",
              "   'x_4_1_2': (3364, 1186, 3365),\n",
              "   'x_4_2_1': (1338, 1218, 3651),\n",
              "   'x_4_2_0': (1203,),\n",
              "   'x_4_2_2': (3545, 976, 977, 3544),\n",
              "   'x_4_3_1': (1233, 3441, 1232),\n",
              "   'x_4_3_0': (1202,),\n",
              "   'x_4_3_2': (3350, 3351),\n",
              "   'x_4_5_1': (3338, 1337, 3337, 1336),\n",
              "   'x_4_5_0': (3231, 3230),\n",
              "   'x_4_5_2': (3381, 3379, 1156, 3380),\n",
              "   'x_5_0_1': (3725, 3727, 3726),\n",
              "   'x_5_0_0': (1579,),\n",
              "   'x_5_0_2': (3742,),\n",
              "   'x_5_1_1': (1114, 3502, 3501, 1113),\n",
              "   'x_5_1_0': (3470,),\n",
              "   'x_5_1_2': (1051, 3500, 1052),\n",
              "   'x_5_2_1': (3589, 1158, 3590),\n",
              "   'x_5_2_0': (3574,),\n",
              "   'x_5_2_2': (3289, 3515, 948, 947),\n",
              "   'x_5_3_1': (1187, 3575, 1188),\n",
              "   'x_5_3_0': (1053,),\n",
              "   'x_5_3_2': (3560, 3559, 1006, 1007),\n",
              "   'x_5_4_1': (3666, 1129),\n",
              "   'x_5_4_0': (3665,),\n",
              "   'x_5_4_2': (3650, 1036, 1037, 1038)},\n",
              "  'chain_break_method': 'majority_vote',\n",
              "  'embedding_parameters': {},\n",
              "  'chain_strength': 5000}}"
            ]
          },
          "metadata": {},
          "execution_count": 258
        }
      ]
    },
    {
      "cell_type": "code",
      "source": [
        "solution=sampleset.first.sample"
      ],
      "metadata": {
        "id": "KOMQk9M7LmDM"
      },
      "id": "KOMQk9M7LmDM",
      "execution_count": 259,
      "outputs": []
    },
    {
      "cell_type": "markdown",
      "source": [
        "Una vez obtenida la solución, la transformaremos a una matriz para representar las aristas de nuestro problema. Es decir en aquellos casos en los que *f x_{i,j,1}=1* (existe una arista entre *i* y *j* y se visita antes *i* que *j*), la matriz tendra valor 1."
      ],
      "metadata": {
        "id": "4W0TlSbWIrJy"
      },
      "id": "4W0TlSbWIrJy"
    },
    {
      "cell_type": "code",
      "execution_count": 260,
      "id": "_0JZG04ore2u",
      "metadata": {
        "colab": {
          "base_uri": "https://localhost:8080/"
        },
        "id": "_0JZG04ore2u",
        "outputId": "3ad45454-d1e0-47ad-daeb-fe93c7ab201e"
      },
      "outputs": [
        {
          "output_type": "stream",
          "name": "stdout",
          "text": [
            "[[0. 0. 0. 1. 0. 0.]\n",
            " [0. 0. 0. 0. 1. 0.]\n",
            " [0. 0. 0. 0. 0. 1.]\n",
            " [0. 1. 0. 0. 0. 0.]\n",
            " [0. 0. 1. 0. 0. 0.]\n",
            " [1. 0. 0. 0. 0. 0.]]\n"
          ]
        }
      ],
      "source": [
        "matSol = np.zeros((N+1,N+1))\n",
        "for i in range(N+1):\n",
        "    for j in range(N+1):\n",
        "        if i!=j:\n",
        "            if solution[f\"x_{i}_{j}_{1}\"] == 1:\n",
        "                matSol[i,j] = 1\n",
        "print(matSol)"
      ]
    },
    {
      "cell_type": "markdown",
      "source": [
        "Con la matriz creada dibujaremos el camino de nuestra solución y apoyándonos de la matriz de distancias, calculamos la distancia recorrida por nuestro problema."
      ],
      "metadata": {
        "id": "L5ul1ATtJsSX"
      },
      "id": "L5ul1ATtJsSX"
    },
    {
      "cell_type": "code",
      "source": [
        "## Calculamos la distancia que se recorre\n",
        "distanciaSol = 0\n",
        "for i in lis_n:\n",
        "    for j in lis_n:\n",
        "        if matSol[i][j]==1:\n",
        "            distanciaSol+=distancia[i][j]\n",
        "print(\"La distancia recorrida por el camino es: \", distanciaSol)"
      ],
      "metadata": {
        "colab": {
          "base_uri": "https://localhost:8080/"
        },
        "id": "sTRKn3wMcCAc",
        "outputId": "3efd1043-a5a1-4a9f-d5a7-086cbef6bcc8"
      },
      "id": "sTRKn3wMcCAc",
      "execution_count": 261,
      "outputs": [
        {
          "output_type": "stream",
          "name": "stdout",
          "text": [
            "La distancia recorrida por el camino es:  2606.0\n"
          ]
        }
      ]
    },
    {
      "cell_type": "code",
      "execution_count": 262,
      "id": "jbn1iDaduBXo",
      "metadata": {
        "colab": {
          "base_uri": "https://localhost:8080/",
          "height": 482
        },
        "id": "jbn1iDaduBXo",
        "outputId": "2807b57b-e3db-420c-b3b7-7813425388e6"
      },
      "outputs": [
        {
          "output_type": "stream",
          "name": "stdout",
          "text": [
            "Grafo solución\n"
          ]
        },
        {
          "output_type": "display_data",
          "data": {
            "text/plain": [
              "<Figure size 640x480 with 1 Axes>"
            ],
            "image/png": "[encoded data removed]"
          },
          "metadata": {}
        },
        {
          "output_type": "stream",
          "name": "stdout",
          "text": [
            "La distancia recorrida por el camino es:  2606.0\n",
            "el tiempo de ejecución es de:  8.308130979537964\n"
          ]
        }
      ],
      "source": [
        "# Dibujamos el camino de la solución\n",
        "print(\"Grafo solución\")\n",
        "plt.plot(puntos[:,0],puntos[:,1],'o')\n",
        "vaux = np.array(list(range(N+1)))\n",
        "for i in range(N+1):\n",
        "    sigAux = matSol[i,:]==1\n",
        "    if np.sum(sigAux) > 0:\n",
        "        sig = (int(vaux[sigAux][0]))%(N)\n",
        "        plt.plot(puntos[(i,sig),0],puntos[(i,sig),1])\n",
        "plt.show()\n",
        "print(\"La distancia recorrida por el camino es: \", distanciaSol)\n",
        "print(\"el tiempo de ejecución es de: \", time)"
      ]
    },
    {
      "cell_type": "code",
      "execution_count": 269,
      "id": "3_REwxIWnwsh",
      "metadata": {
        "colab": {
          "base_uri": "https://localhost:8080/",
          "height": 406
        },
        "id": "3_REwxIWnwsh",
        "outputId": "b6facbbf-302a-4ecc-e1bd-08b975382f9f"
      },
      "outputs": [
        {
          "output_type": "display_data",
          "data": {
            "text/plain": [
              "<Figure size 640x480 with 1 Axes>"
            ],
            "image/png": "[encoded data removed]"
          },
          "metadata": {}
        }
      ],
      "source": [
        "import numpy as np\n",
        "import networkx as nx\n",
        "\n",
        "G = nx.DiGraph()\n",
        "rows, cols = np.where(matSol == 1)\n",
        "edges = list(zip(rows.tolist(), cols.tolist()))\n",
        "edges2 = [(x[0], x[1]%len(puntos)) for x in edges]\n",
        "\n",
        "G.add_edges_from(edges2)\n",
        "pos2 = nx.spring_layout(G)\n",
        "nx.draw_networkx_labels(G, pos2)\n",
        "\n",
        "\n",
        "nx.draw_networkx_edges(G, pos2)\n",
        "\n",
        "node_colors = [\"lightblue\" for _ in range(len(G.nodes))]\n",
        "node_colors[0] = \"lightgreen\"\n",
        "\n",
        "nx.draw(G, pos2, node_color = node_colors)\n",
        "plt.show()"
      ]
    },
    {
      "cell_type": "code",
      "source": [],
      "metadata": {
        "id": "yW5uNjS-kbBu"
      },
      "id": "yW5uNjS-kbBu",
      "execution_count": null,
      "outputs": []
    }
  ],
  "metadata": {
    "colab": {
      "provenance": []
    },
    "gpuClass": "standard",
    "kernelspec": {
      "display_name": "Python 3 (ipykernel)",
      "language": "python",
      "name": "python3"
    },
    "language_info": {
      "codemirror_mode": {
        "name": "ipython",
        "version": 3
      },
      "file_extension": ".py",
      "mimetype": "text/x-python",
      "name": "python",
      "nbconvert_exporter": "python",
      "pygments_lexer": "ipython3",
      "version": "3.9.12"
    }
  },
  "nbformat": 4,
  "nbformat_minor": 5
}