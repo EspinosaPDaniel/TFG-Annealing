{
  "cells": [
    {
      "cell_type": "markdown",
      "id": "OugojSgJoW-Y",
      "metadata": {
        "id": "OugojSgJoW-Y"
      },
      "source": [
        "#Instalaciones Previas"
      ]
    },
    {
      "cell_type": "code",
      "execution_count": null,
      "id": "3CetbTfTYMzt",
      "metadata": {
        "id": "3CetbTfTYMzt"
      },
      "outputs": [],
      "source": [
        "!pip3 install dwave-neal\n",
        "!pip3 install qubovert\n",
        "!pip3 install dwave-system"
      ]
    },
    {
      "cell_type": "code",
      "execution_count": null,
      "id": "gA8cKLWQYNgv",
      "metadata": {
        "id": "gA8cKLWQYNgv"
      },
      "outputs": [],
      "source": [
        "import qubovert\n",
        "import math\n",
        "from neal import SimulatedAnnealingSampler\n",
        "from dwave.system import DWaveSampler, EmbeddingComposite\n",
        "\n",
        "import numpy as np\n",
        "import matplotlib.pyplot as plt\n",
        "from time import time\n",
        "import math as math\n"
      ]
    },
    {
      "cell_type": "markdown",
      "id": "8G3o_ywrc8Sa",
      "metadata": {
        "id": "8G3o_ywrc8Sa"
      },
      "source": [
        "#Funciones auxiliares y Parámetros\n"
      ]
    },
    {
      "cell_type": "markdown",
      "source": [
        "En este apartado definimos diferéntes funciones auxiliares que usaremos a lo largo de la implementación, así como los parámetros para la ejecución del problema"
      ],
      "metadata": {
        "id": "8HA1cWL07C8D"
      },
      "id": "8HA1cWL07C8D"
    },
    {
      "cell_type": "markdown",
      "id": "5tWjXOeTom_b",
      "metadata": {
        "id": "5tWjXOeTom_b"
      },
      "source": [
        "###Funciones auxiliares"
      ]
    },
    {
      "cell_type": "markdown",
      "source": [
        "*toNumpy*: setrata de una función a la que dado un valor lo transformará a un array de Numpy"
      ],
      "metadata": {
        "id": "BFnM2kzM7Se4"
      },
      "id": "BFnM2kzM7Se4"
    },
    {
      "cell_type": "code",
      "execution_count": null,
      "id": "-SbcuZtpc8BR",
      "metadata": {
        "id": "-SbcuZtpc8BR"
      },
      "outputs": [],
      "source": [
        "#Pasamos a np\n",
        "def toNumpy(v):\n",
        "    return np.sqrt(np.sum(v**2))"
      ]
    },
    {
      "cell_type": "markdown",
      "id": "RF-MbZ5Wotoy",
      "metadata": {
        "id": "RF-MbZ5Wotoy"
      },
      "source": [
        "###Definición de parámetros\n"
      ]
    },
    {
      "cell_type": "markdown",
      "source": [
        "***-N***: número de nodos que tendrá el problema.\n",
        "\n",
        "***-Q***: cantidad de vehículos que habrá en nuestro problema.\n",
        "\n",
        "***-R***: como hemos visto en la modelización del problema en la memoria, las variables pueden tener 3 valores diferentes (0,1,2). Por ello establecemos R=5.\n",
        "\n",
        "***-lis_n***: al igual que en el caso anterior, una lista que usaremos como índices en los sumatorios de las distintas restricciones.\n",
        "\n",
        "***-lis_q***: lista que usaremos como índices en los sumatorios de las distintas restricciones. Hace referencia al valor de $Q$.\n",
        "\n",
        "***-lis_r***: se trata de una lista de dimensión R (5) que nos facilitará la imprementación a la hora de establecer las restricciones del problema.\n",
        "\n",
        "***-lis_r_aux***: se trata de una lista de dimension 3 para facilitar la implementación."
      ],
      "metadata": {
        "id": "w18SxXNG7l-O"
      },
      "id": "w18SxXNG7l-O"
    },
    {
      "cell_type": "code",
      "execution_count": null,
      "id": "YwQVQKA3Zj-m",
      "metadata": {
        "id": "YwQVQKA3Zj-m"
      },
      "outputs": [],
      "source": [
        "N = 4\n",
        "Q = 2\n",
        "R = 5\n",
        "lis_n = range(0,N+1)\n",
        "lis_q = range(1,Q+1)\n",
        "lis_r = range(R)\n",
        "lis_r_aux  = [0,1,3]\n"
      ]
    },
    {
      "cell_type": "markdown",
      "source": [
        "#Representación del problema"
      ],
      "metadata": {
        "id": "85NzC6No9H7w"
      },
      "id": "85NzC6No9H7w"
    },
    {
      "cell_type": "markdown",
      "source": [
        "Para crear la creación del problema, creamos distintos puntos que representan los distintos nodos o ciudades que nuestro problema debe recorrer. En este caso, la ciudad de salida no está incluida en el tamaño de $N$ por lo que deberemos crear un punto más."
      ],
      "metadata": {
        "id": "h6mUiHD29SIe"
      },
      "id": "h6mUiHD29SIe"
    },
    {
      "cell_type": "code",
      "source": [
        "puntos = np.random.rand(N+1,2)\n",
        "\n",
        "print(puntos)"
      ],
      "metadata": {
        "colab": {
          "base_uri": "https://localhost:8080/"
        },
        "id": "Iyr21OEYqKSS",
        "outputId": "9815bfae-3596-4b43-cfa1-a9aecf7d7818"
      },
      "id": "Iyr21OEYqKSS",
      "execution_count": null,
      "outputs": [
        {
          "output_type": "stream",
          "name": "stdout",
          "text": [
            "[[0.60880879 0.1879853 ]\n",
            " [0.1418597  0.02633288]\n",
            " [0.06083203 0.00400973]\n",
            " [0.83215631 0.73621792]\n",
            " [0.39273166 0.17495712]]\n"
          ]
        }
      ]
    },
    {
      "cell_type": "code",
      "source": [
        "plt.plot(puntos[:,0],puntos[:,1],'o')\n",
        "distancia = np.zeros((N+2,N+2))\n",
        "for i in range(N):\n",
        "    for j in range(i+1,N+1):\n",
        "        aux  =  toNumpy(puntos[i,:]-puntos[j,:])\n",
        "        distancia[i,j],distancia[j,i] = aux,aux\n",
        "\n",
        "for j in range(0,N+1):\n",
        "    i = N+1\n",
        "    aux  =  toNumpy(puntos[0,:]-puntos[j,:])\n",
        "    distancia[i,j],distancia[j,i] = aux,aux\n",
        "distancia = np.floor(distancia*1000)\n",
        "\n",
        "puntos"
      ],
      "metadata": {
        "colab": {
          "base_uri": "https://localhost:8080/",
          "height": 517
        },
        "id": "eToRV-77qy5a",
        "outputId": "11475d46-42a0-4e16-c64f-4e7b84184ff6"
      },
      "id": "eToRV-77qy5a",
      "execution_count": null,
      "outputs": [
        {
          "output_type": "execute_result",
          "data": {
            "text/plain": [
              "array([[0.60880879, 0.1879853 ],\n",
              "       [0.1418597 , 0.02633288],\n",
              "       [0.06083203, 0.00400973],\n",
              "       [0.83215631, 0.73621792],\n",
              "       [0.39273166, 0.17495712]])"
            ]
          },
          "metadata": {},
          "execution_count": 426
        },
        {
          "output_type": "display_data",
          "data": {
            "text/plain": [
              "<Figure size 640x480 with 1 Axes>"
            ],
            "image/png": "[encoded data removed]"
          },
          "metadata": {}
        }
      ]
    },
    {
      "cell_type": "markdown",
      "source": [
        "### Matriz distancia.\n",
        "Se trata de una matriz que guarda las distancia desde una ciudad a todas las demás. De este modo, podremos usar esta matriz para obtener el camíno mínimo a recorrer entre todos los puntos. Para una mejor lectura, normalizamos la distancia."
      ],
      "metadata": {
        "id": "SwM3ZTBi-YB6"
      },
      "id": "SwM3ZTBi-YB6"
    },
    {
      "cell_type": "code",
      "execution_count": null,
      "id": "SdEsrg5SZq7p",
      "metadata": {
        "colab": {
          "base_uri": "https://localhost:8080/"
        },
        "id": "SdEsrg5SZq7p",
        "outputId": "ecc3974e-1e07-497e-f6ca-ae30f27e85ba"
      },
      "outputs": [
        {
          "output_type": "stream",
          "name": "stdout",
          "text": [
            "[[   0.  494.  578.  591.  216.]\n",
            " [ 494.    0.   84.  990.  291.]\n",
            " [ 578.   84.    0. 1063.  373.]\n",
            " [ 591.  990. 1063.    0.  712.]\n",
            " [ 216.  291.  373.  712.    0.]]\n"
          ]
        }
      ],
      "source": [
        "distancia = np.zeros((N+1,N+1))\n",
        "for i in range(N):\n",
        "    for j in range(i+1,N+1):\n",
        "        aux  =  toNumpy(puntos[i,:]-puntos[j,:])\n",
        "        distancia[i,j],distancia[j,i] = aux,aux\n",
        "distancia = np.floor(distancia*1000)\n",
        "print(distancia)\n"
      ]
    },
    {
      "cell_type": "markdown",
      "id": "Ecs6KIJYl7P-",
      "metadata": {
        "id": "Ecs6KIJYl7P-"
      },
      "source": [
        "Según la tabla de distancias obtenida anteriormente, obtenemos el camino más corto entre los vecinos cercanos y calculamos la distancia de dicho camino. Es decir tras visitar un nodo $i$, el siguiente nodo a visitar será el $j$ que esté mas cerca de ese primero. De esta forma, estamos calculando una primera solución para nuestro problema tomando un sólo vehículo, que vendría a ser el problema TSP."
      ]
    },
    {
      "cell_type": "code",
      "source": [
        "distanciaAux  = np.copy(distancia)\n",
        "for i in lis_n:\n",
        "    distanciaAux[i,i] = np.inf\n",
        "distanciaAux = np.copy(distanciaAux[:-1,:-1])\n",
        "i = 0\n",
        "distanciaMin = 0\n",
        "ordenRecorrido = [i]\n",
        "for j in range(N):\n",
        "    distanciaAux[j,0] = np.inf\n",
        "for cont in range(N-1):\n",
        "    siguienteDistancia = np.min(distanciaAux[i,:])\n",
        "    distanciaMin += siguienteDistancia\n",
        "    sig = np.where(distanciaAux[i,:] == siguienteDistancia)[0][0]\n",
        "    for j in range(N):\n",
        "        distanciaAux[j,sig] = np.inf #Actualizamos distancia para que no vuelva a ese nodo\n",
        "    i = sig\n",
        "    ordenRecorrido.append(i)\n",
        "distanciaMin += distancia[ordenRecorrido[-1],0]\n",
        "#El último nodo es el mismo que el primero.\n",
        "ordenRecorrido.append(0)\n",
        "print(\"La distancia recorrida es:\", distanciaMin)"
      ],
      "metadata": {
        "colab": {
          "base_uri": "https://localhost:8080/"
        },
        "id": "kOMFxXd3iO1E",
        "outputId": "a9917e66-61c7-431f-8c45-117c490eb870"
      },
      "id": "kOMFxXd3iO1E",
      "execution_count": null,
      "outputs": [
        {
          "output_type": "stream",
          "name": "stdout",
          "text": [
            "La distancia recorrida es: 2232.0\n"
          ]
        }
      ]
    },
    {
      "cell_type": "markdown",
      "source": [
        "Calculamos la distáncia máximaque se puede recorrer para así calcular el valor $h$, que es la variable de holgura utilizada en la restricción 11."
      ],
      "metadata": {
        "id": "-hhRxer7iVA4"
      },
      "id": "-hhRxer7iVA4"
    },
    {
      "cell_type": "code",
      "source": [
        "distanciaMaxima = 0\n",
        "for i in range(N+1):\n",
        "    distanciaMaxima = distanciaMaxima + np.max(distancia[i,:])\n",
        "h = int(np.log2(distanciaMaxima)) + 1\n",
        "lis_h = range(h+1)\n",
        "print(distanciaMaxima,h)"
      ],
      "metadata": {
        "id": "iB5UNOOYZCKb",
        "colab": {
          "base_uri": "https://localhost:8080/"
        },
        "outputId": "42f18355-c26c-42d8-a239-d33492b074ee"
      },
      "id": "iB5UNOOYZCKb",
      "execution_count": null,
      "outputs": [
        {
          "output_type": "stream",
          "name": "stdout",
          "text": [
            "4419.0 13\n"
          ]
        }
      ]
    },
    {
      "cell_type": "markdown",
      "id": "tIv4PbL1iY3y",
      "metadata": {
        "id": "tIv4PbL1iY3y"
      },
      "source": [
        "#Modelo\n"
      ]
    },
    {
      "cell_type": "markdown",
      "source": [
        "## Variables del modelo\n",
        "La clase ***qubovert.QUBO()*** es una implementación de QUBO en Python que proporciona una interfaz conveniente para definir y manipular problemas de optimización en forma de QUBO. Esta clase permite construir la matriz QUBO y realizar diversas operaciones sobre ella.\n",
        "\n",
        "Como sabemos, nuestras variables son de la forma ***f x_{i,j,r,q}***. Usaremos el método **create_var()** para crear las variables de nuestro problema."
      ],
      "metadata": {
        "id": "LHJr35kD_rao"
      },
      "id": "LHJr35kD_rao"
    },
    {
      "cell_type": "code",
      "execution_count": null,
      "id": "84qg5hkcjFIp",
      "metadata": {
        "id": "84qg5hkcjFIp"
      },
      "outputs": [],
      "source": [
        "coef = qubovert.QUBO()\n",
        "for i in lis_n:\n",
        "    for j in lis_n:\n",
        "        for r in lis_r:\n",
        "            for q in lis_q:\n",
        "                coef.create_var(f\"x_{i}_{j}_{r}_{q}\")\n",
        "\n",
        "# Auxiliares para simplificar restricciones 8 y 10\n",
        "for j in range(1,N+2):\n",
        "    for q in lis_q:\n",
        "        coef.create_var(f\"aux1_{j}_{q}\")\n",
        "for i in lis_n:\n",
        "    for j in lis_n:\n",
        "        coef.create_var(f\"aux2_{i}_{j}\")\n",
        "\n",
        "# Variables a_{i,j}\n",
        "for i in lis_n:\n",
        "    for j in lis_n:\n",
        "        coef.create_var(f\"a_{i}_{j}\")\n",
        "\n",
        "\n",
        "# Variables b_{h,q}\n",
        "for h in lis_h:\n",
        "    for q in range(2,Q+1):\n",
        "        coef.create_var(f\"b_{h}_{q}\")\n"
      ]
    },
    {
      "cell_type": "markdown",
      "id": "bY9kOXualiy2",
      "metadata": {
        "id": "bY9kOXualiy2"
      },
      "source": [
        "## Añadimos las restricciones\n",
        "De acuerdo a las distintas restricciones que hemos definido en la memoria, calculamos los valores que tendrán cada una de nuestras variables de acuerdo a los distintos coeficientes de Lagrange (también definidos en la memoria).\n"
      ]
    },
    {
      "cell_type": "markdown",
      "source": [
        "### Restricción 1:\n",
        "Función de penalización:\n",
        "\\begin{equation}\n",
        "            \\sum_{i=0}^{N+1}\\sum_{j=0}^{N+1}\\sum_{q=1}^{Q}(\\sum_{r_1=0}^{4} \\sum_{r_2=0}^{4} \\lambda_1 x_{i,j,r_1,q} x_{i,j,r_2,q} - \\sum_{r=0}^{4} 2\\lambda_1x_{i,j,r,q})           \n",
        "            \\end{equation}\n",
        "Coeficiente de Lagrange:\n",
        "\\begin{equation*}\n",
        "        \\lambda_1 > D\n",
        "    \\end{equation*}"
      ],
      "metadata": {
        "id": "5TMKHvG5V0-y"
      },
      "id": "5TMKHvG5V0-y"
    },
    {
      "cell_type": "code",
      "source": [
        "lagrange_1 = distanciaMin\n",
        "for i in lis_n:\n",
        "    for j in lis_n:\n",
        "        for q in lis_q:\n",
        "            for r in lis_r:\n",
        "                coef[(f\"x_{i}_{j}_{r}_{q}\",)] += -2*(lagrange_1)\n",
        "\n",
        "\n",
        "for i in lis_n:\n",
        "    for j in lis_n:\n",
        "        for q in lis_q:\n",
        "            for r1 in lis_r:\n",
        "                for r2 in lis_r:\n",
        "                    coef[(f\"x_{i}_{j}_{r1}_{q}\",f\"x_{i}_{j}_{r2}_{q}\")] +=  (lagrange_1)"
      ],
      "metadata": {
        "id": "i7be5m6UV0Zf"
      },
      "id": "i7be5m6UV0Zf",
      "execution_count": null,
      "outputs": []
    },
    {
      "cell_type": "markdown",
      "source": [
        "### Restricción 2:\n",
        "Función de penalización:\n",
        "\\begin{equation}\n",
        "          \\sum_{j_1=0}^{N+1}\\sum_{j_2=1}^{N+1}\\sum_{q=1}^{Q}\\lambda_2 x_{0,j_1,1,q}x_{0,j_2,1,q} -\\sum_{j=1}^{N+1}\\sum_{q=1}^{Q} 2\\lambda_2 x_{0,j,1,q}\n",
        "    \\end{equation}\n",
        "Segunda parte:\n",
        "\\begin{equation}\n",
        "        \\sum_{i=0}^{N+1}\\sum_{q=1}^{Q}\\lambda_2 x_{i,0,1,q}\n",
        "    \\end{equation}\n",
        "Coeficiente de Lagrange:\n",
        "\\begin{equation*}\n",
        "        \\textrm{Para todo } j \\epsilon [1,\\dots,N+1] \\textrm{ }\n",
        "        \\lambda_2 > max\\textrm{ }d_{0,j}\n",
        "    \\end{equation*}"
      ],
      "metadata": {
        "id": "dDD_f9tCWC7T"
      },
      "id": "dDD_f9tCWC7T"
    },
    {
      "cell_type": "code",
      "source": [
        "lagrange_2 =np.max(distancia[0,:])\n",
        "for q in lis_q:\n",
        "    for j in range(1,N+2):\n",
        "        coef[(f\"x_{0}_{j}_{1}_{q}\",)] = coef[(f\"x_{0}_{j}_{1}_{q}\",)] -2*lagrange_2\n",
        "\n",
        "for q in lis_q:\n",
        "    for j1 in range(1,N+2):\n",
        "        for j2 in range(1,N+2):\n",
        "            coef[(f\"x_{0}_{j1}_{1}_{q}\",f\"x_{0}_{j2}_{1}_{q}\")] = coef[(f\"x_{0}_{j1}_{1}_{q}\",f\"x_{0}_{j2}_{1}_{q}\")]+lagrange_2\n",
        "\n",
        "for q in lis_q:\n",
        "    for i in range(0,N+2):\n",
        "        coef[(f\"x_{i}_{0}_{1}_{q}\",)] = coef[(f\"x_{i}_{0}_{1}_{q}\",)] + lagrange_2"
      ],
      "metadata": {
        "id": "wR8ZP3_iWSIp"
      },
      "id": "wR8ZP3_iWSIp",
      "execution_count": null,
      "outputs": []
    },
    {
      "cell_type": "markdown",
      "source": [
        "### Restricción 3:\n",
        "Función de penalización:\n",
        "\\begin{equation}\n",
        "        \\sum_{i_1=0}^{N+1}\\sum_{i_2=1}^{N+1}\\sum_{q=1}^{Q}\\lambda_3 x_{i_1,N+1,1,q}x_{i_2,jN+1,1,q} -\\sum_{i=1}^{N+1}\\sum_{q=1}^{Q} 2\\lambda_3 x_{i,N+1,1,q}\n",
        "\\end{equation}\n",
        "Segunda parte:\n",
        "\\begin{equation}\n",
        "        \\sum_{j=0}^{N+1}\\sum_{q=1}^{Q}\\lambda_3 x_{N+1,j,1,q}\n",
        "\\end{equation}\n",
        "Coeficiente de Lagrange:\n",
        "\\begin{equation*}\n",
        "            \\textrm{Para todo } i \\epsilon [0,\\dots,N+1] \\textrm{ }\n",
        "        \\lambda_3 > max\\textrm{ }d_{i,N+1}\n",
        "        \\end{equation*}"
      ],
      "metadata": {
        "id": "TxAKbiPDWEuQ"
      },
      "id": "TxAKbiPDWEuQ"
    },
    {
      "cell_type": "code",
      "source": [
        "lagrange_3=np.max(distancia[:,0])\n",
        "for q in lis_q:\n",
        "    for i in range(0,N+1):\n",
        "        coef[(f\"x_{i}_{N+1}_{1}_{q}\",)] = coef[(f\"x_{i}_{N+1}_{1}_{q}\",)] -2*lagrange_3\n",
        "\n",
        "for q in lis_q:\n",
        "    for i1 in range(0,N+1):\n",
        "        for i2 in range(0,N+1):\n",
        "            coef[(f\"x_{i1}_{N+1}_{1}_{q}\",f\"x_{i2}_{N+1}_{1}_{q}\")] = coef[(f\"x_{i1}_{N+1}_{1}_{q}\",f\"x_{i2}_{N+1}_{1}_{q}\")]+lagrange_3\n",
        "\n",
        "for q in lis_q:\n",
        "    for j in range(N+2):\n",
        "        coef[(f\"x_{N+1}_{j}_{1}_{q}\",)] = coef[(f\"x_{N+1}_{j}_{1}_{q}\",)] + lagrange_3"
      ],
      "metadata": {
        "id": "DJ38CvGIWScf"
      },
      "id": "DJ38CvGIWScf",
      "execution_count": null,
      "outputs": []
    },
    {
      "cell_type": "markdown",
      "source": [
        "### Restricción 4:\n",
        "Función de penalización:\n",
        "\\begin{equation}\n",
        "    \\sum_{i=1}^{N}(\\sum_{j_1=1}^{N+1}\\sum_{j_2=1}^{N+1}\\sum_{q_1=1}^{Q}\\sum_{q_2=1}^{Q} \\lambda_4 x_{i,j_1,1,q_1}x_{i,j_2,1,q_2}-\\sum_{j=1}^{N+1}\\sum_{q=1}^{Q}2\\lambda_4x_{i,j,1,q})\n",
        "\\end{equation}\n",
        "Coeficiente de Lagrange:\n",
        "\\begin{equation*}\n",
        "                \\textrm{Para todo } j \\epsilon [1,\\dots,N+1] \\textrm{ }\n",
        "                \\lambda_4 > max\\textrm{ }d_{i,j}\n",
        "            \\end{equation*}"
      ],
      "metadata": {
        "id": "Kmq9yqubWFC_"
      },
      "id": "Kmq9yqubWFC_"
    },
    {
      "cell_type": "code",
      "source": [
        "for i in range(1,N+1):\n",
        "    lagrange_4=np.max(distancia[i,:])\n",
        "    for q in lis_q:\n",
        "        for j in range(1,N+2):\n",
        "            coef[(f\"x_{i}_{j}_{1}_{q}\",)] +=  -2*(lagrange_4)\n",
        "\n",
        "for i in range(1,N+1):\n",
        "    lagrange_4=np.max(distancia[i,:])\n",
        "    for q1 in lis_q:\n",
        "        for j1 in range(1,N+2):\n",
        "            for q2 in lis_q:\n",
        "                for j2 in range(1,N+2):\n",
        "                    coef[(f\"x_{i}_{j1}_{1}_{q1}\",f\"x_{i}_{j2}_{1}_{q2}\")] += (lagrange_4)"
      ],
      "metadata": {
        "id": "da0eVl5dWSwc"
      },
      "id": "da0eVl5dWSwc",
      "execution_count": null,
      "outputs": []
    },
    {
      "cell_type": "markdown",
      "source": [
        "### Restricción 5:\n",
        "Función de penalización:\n",
        "\\begin{equation}\n",
        "    \\sum_{i_1=0}^{N}\\sum_{i_2=0}^{N}\\sum_{j=1}^{N}\\sum_{q_1=1}^{Q}\\sum_{q_2=1}^{Q} \\lambda_5 x_{i_1,j,1,q_1}x_{i_2,j,1,q_2}-\\sum_{i=0}^{N}\\sum_{j=1}^{N+1}\\sum_{q=1}^{Q}2\\lambda_5x_{i,j,1,q}\n",
        "    \\end{equation}\n",
        "Coeficiente de Lagrange:\n",
        "\\begin{equation*}\n",
        "        \\textrm{Para todo } i \\epsilon [1,\\dots,N+1] \\textrm{ }\n",
        "                \\lambda_5 > max\\textrm{ }d_{i,j}\n",
        "    \\end{equation*}"
      ],
      "metadata": {
        "id": "PlDyM_8rWFV4"
      },
      "id": "PlDyM_8rWFV4"
    },
    {
      "cell_type": "code",
      "source": [
        "for j in range(1,N+1):\n",
        "    lagrange_5=np.max(distancia[:,j])\n",
        "    for q in lis_q:\n",
        "        for i in range(0,N+1):\n",
        "            coef[(f\"x_{i}_{j}_{1}_{q}\",)] +=  -2*lagrange_5\n",
        "\n",
        "for j in range(1,N+1):\n",
        "    lagrange_5=np.max(distancia[:,j])\n",
        "    for q1 in lis_q:\n",
        "        for i1 in range(N+1):\n",
        "            for q2 in lis_q:\n",
        "                for i2 in range(N+1):\n",
        "                    coef[(f\"x_{i1}_{j}_{1}_{q1}\",f\"x_{i2}_{j}_{1}_{q2}\")] += lagrange_5"
      ],
      "metadata": {
        "id": "KHnVhec_WTDj"
      },
      "id": "KHnVhec_WTDj",
      "execution_count": null,
      "outputs": []
    },
    {
      "cell_type": "markdown",
      "source": [
        "### Restricción 6:\n",
        "Función de penalización:\n",
        "\\begin{equation}\n",
        "            \\sum_{i=0}^{N+1}\\sum_{q=1}^{Q} \\lambda_6 x_{i,i,1,q}     \n",
        "            \\end{equation}\n",
        "Coeficiente de Lagrange:\n",
        "\\begin{equation*}\n",
        "        \\textrm{Para todo } j \\epsilon [0,\\dots,N+1]\\textrm{ }\n",
        "        \\lambda_6 > max\\textrm{ }(max\\textrm{ } d_{i,j}, max\\textrm{ } d_{j,i})\n",
        "        \\end{equation*}"
      ],
      "metadata": {
        "id": "OG3qVtrxWFuL"
      },
      "id": "OG3qVtrxWFuL"
    },
    {
      "cell_type": "code",
      "source": [
        "for i in lis_n:\n",
        "    lagrange_6 = max(np.max(distancia[i,:]),np.max(distancia[:,i]))\n",
        "    for q in lis_q:\n",
        "        coef[(f\"x_{i}_{i}_{1}_{q}\",)] = coef[(f\"x_{i}_{i}_{1}_{q}\",)] + lagrange_6"
      ],
      "metadata": {
        "id": "6OlTWfkSWTVv"
      },
      "id": "6OlTWfkSWTVv",
      "execution_count": null,
      "outputs": []
    },
    {
      "cell_type": "markdown",
      "source": [
        "### Restricción 7:\n",
        "Función de penalización:\n",
        "\\begin{equation}\n",
        "        \\begin{gathered}\n",
        "            \\sum_{i=1}^{N}\\sum_{j=1}^{N}( \\lambda_7 (a_{i,j})^2Q^2-\\sum_{q=1}^{Q} 2\\lambda_7Q(x_{i,j,0,q}+x_{i,j,1,q}+x_{i,j,3,q})a_{i,j}+ \\\\\n",
        "            +\\sum_{q_1=1}^{Q}\\sum_{q_2=1}^{Q}\\lambda7 (x_{i,j,0,q_1}+x_{i,j,1,q_1}+x_{i,j,3,q_1})(x_{i,j,0,q_2}+x_{i,j,1,q_2}+x_{i,j,3,q_2}))\n",
        "        \\end{gathered}\n",
        "    \\end{equation}\n",
        "Coeficiente de Lagrange:\n",
        "\\begin{equation*}\n",
        "        \\lambda_7 > D\n",
        "        \\end{equation*}"
      ],
      "metadata": {
        "id": "SDzOYO0tWGDQ"
      },
      "id": "SDzOYO0tWGDQ"
    },
    {
      "cell_type": "code",
      "source": [
        "lagrange_7=distanciaMin\n",
        "for i in range(1,N+1):\n",
        "    for j in range(1,N+1):\n",
        "        for q in lis_q:\n",
        "            for r in [0,1,3]:\n",
        "                coef[(f\"x_{i}_{j}_{r}_{q}\",f\"a_{i}_{j}\")] +=  -2*lagrange_7*Q\n",
        "\n",
        "for i in range(1,N+1):\n",
        "    for j in range(1,N+1):\n",
        "        for q1 in lis_q:\n",
        "            for q2 in lis_q:\n",
        "                for r1 in [0,1,3]:\n",
        "                    for r2 in [0,1,3]:\n",
        "                        coef[(f\"x_{i}_{j}_{r1}_{q1}\",f\"x_{i}_{j}_{r2}_{q2}\")] +=  lagrange_7\n",
        "\n",
        "for i in range(1,N+1):\n",
        "    for j in range(1,N+1):\n",
        "        coef[(f\"a_{i}_{j}\",f\"a_{i}_{j}\")] +=  lagrange_7*Q**2"
      ],
      "metadata": {
        "id": "xve6dcvFWToQ"
      },
      "id": "xve6dcvFWToQ",
      "execution_count": null,
      "outputs": []
    },
    {
      "cell_type": "markdown",
      "source": [
        "### Restricción 8:\n",
        "Función de penalización:\n",
        "\\begin{equation}\n",
        "        \\sum_{i=0}^{N}\\sum_{j=1}^{N}\\sum_{q=1}^{Q}(\\lambda_8x_{i,j,1,q}- \\sum_{k=1}^{N+1}\\lambda_8x_{i,j,1,q}x_{j,k,1,q})\n",
        "    \\end{equation}\n",
        "Coeficiente de Lagrange:\n",
        "\\begin{equation*}\n",
        "        \\lambda_8 > d_{j,N+1}\n",
        "        \\end{equation*}"
      ],
      "metadata": {
        "id": "STSo1WV3WGXn"
      },
      "id": "STSo1WV3WGXn"
    },
    {
      "cell_type": "code",
      "source": [
        "lagrange_8=distanciaMin\n",
        "for i in range(N+1):\n",
        "    for j in range(1,N+1):\n",
        "        for q in lis_q:\n",
        "            coef[(f\"x_{i}_{j}_{1}_{q}\",)] +=  lagrange_8\n",
        "            coef[(f\"x_{i}_{j}_{1}_{q}\",f\"aux1_{j}_{q}\")] +=  -lagrange_8"
      ],
      "metadata": {
        "id": "PaKaNDC3WUA_"
      },
      "id": "PaKaNDC3WUA_",
      "execution_count": null,
      "outputs": []
    },
    {
      "cell_type": "markdown",
      "source": [
        "### Restricción 9:\n",
        "Función de penalización:\n",
        "\\begin{equation}\n",
        "        \\sum_{i=0}^{N}\\sum_{j=1}^{N}\\sum_{q=1}^{Q}\\lambda_9((x_{i,j,0,q}+x_{i,j,1,q}+x_{i,j,3,q})(x_{j,i,0,q}+x_{j,i,1,q}+x_{j,i,3,q})\n",
        "    \\end{equation}\n",
        "Coeficiente de Lagrange:\n",
        "\\begin{equation*}\n",
        "        \\lambda_9 > D\n",
        "    \\end{equation*}"
      ],
      "metadata": {
        "id": "PxiN4AcnWGkh"
      },
      "id": "PxiN4AcnWGkh"
    },
    {
      "cell_type": "code",
      "source": [
        "lagrange_9=distanciaMin\n",
        "for i in range(1,N+1):\n",
        "    for j in range(1,N+1):\n",
        "        for q in lis_q:\n",
        "            for r1 in [0,1,3]:\n",
        "                for r2 in [0,1,3]:\n",
        "                    coef[(f\"x_{i}_{j}_{r1}_{q}\",f\"x_{j}_{i}_{r2}_{q}\")] +=  lagrange_9"
      ],
      "metadata": {
        "id": "mKWQH1leWUR_"
      },
      "id": "mKWQH1leWUR_",
      "execution_count": null,
      "outputs": []
    },
    {
      "cell_type": "markdown",
      "source": [
        "### Restricción 10:\n",
        "Función de penalización:\n",
        "\\begin{equation}\n",
        "        \\sum_{i=1}^{N}\\sum_{j=1}^{N}\\sum_{k=1}^{N}\\sum_{q=1}^{q} (\\lambda_{10}x_{j,i,2,q}x_{k,j,2,q})-(\\lambda_{10}x_{j,i,2,q}x_{k,i,2,q})-(\\lambda_{10}x_{k,j,2,q}x_{k,i,2,q})+\\lambda_{10}x_{k,i,2,q}\n",
        "\\end{equation}\n",
        "Coeficiente de Lagrange:\n",
        "\\begin{equation*}\n",
        "        \\lambda_10 > D\n",
        "    \\end{equation*}"
      ],
      "metadata": {
        "id": "WVbd9hjXWGwH"
      },
      "id": "WVbd9hjXWGwH"
    },
    {
      "cell_type": "code",
      "source": [
        "lagrange_10=distanciaMin\n",
        "for i in range(1,N+1):\n",
        "    for j in range(1,N+1):\n",
        "        for k in range(1,N+1):\n",
        "            if i!=j and j!=k and i!=k:\n",
        "                coef[(f\"aux2_{i}_{j}\",f\"aux2_{j}_{k}\")] += lagrange_10\n",
        "                coef[(f\"aux2_{i}_{j}\",f\"aux2_{i}_{k}\")] -= lagrange_10\n",
        "                coef[(f\"aux2_{j}_{k}\",f\"aux2_{i}_{k}\")] -= lagrange_10\n",
        "                coef[(f\"aux2_{i}_{k}\",f\"aux2_{i}_{k}\")] +=  lagrange_10"
      ],
      "metadata": {
        "id": "TdzF1DqUWUjC"
      },
      "id": "TdzF1DqUWUjC",
      "execution_count": null,
      "outputs": []
    },
    {
      "cell_type": "markdown",
      "source": [
        "### Restricción 11:\n",
        "Función de penalización:\n",
        "\\begin{equation}\n",
        "            \\begin{gathered}\n",
        "                \\sum_{i_1=0}^{N+1}\\sum_{i_2=0}^{N+1}\\sum_{j_1=0}^{N+1}\\sum_{j_2=0}^{N+1} dist_{i_1,j_1}dist_{i_2,j_2}x_{i_1,j_1,1,q}x_{i_2,j_2,1,q} \\\\\n",
        "                + \\sum_{i=0}^{N+1}\\sum_{j=0}^{N+1}\\sum_{h=0}^{h_{\\text{max}}}2^{h+1}dist_{i,j}x_{i,j,1,q}b_{h,q} \\\\\n",
        "                + \\sum_{h_1=0}^{h_{\\text{max}}}\\sum_{h_2=0}^{h_{\\text{max}}}2^{h_1}2^{h_2}b_{h_2,1}b_{h_1,1} \\\\\n",
        "                + \\sum_{i_1=0}^{N+1}\\sum_{i_2=0}^{N+1}\\sum_{j_1=0}^{N+1}\\sum_{j_2=0}^{N+1} dist_{i_1,j_1}dist_{i_2,j_2}x_{i_1,j_1,1,1}x_{i_2,j_2,1,1} \\\\\n",
        "                - \\sum_{h=0}^{h_{\\text{max}}}\\sum_{i=0}^{N+1}\\sum_{j=0}^{N+1}2^{h+1}dist_{i,j}x_{i,j,1,1}b_{h,q} \\\\\n",
        "                - \\sum_{i_1=0}^{N+1}\\sum_{i_2=0}^{N+1}\\sum_{j_1=0}^{N+1}\\sum_{j_2=0}^{N+1}2  dist_{i_1,j_1}dist_{i_2,j_2}x_{i_1,j_1,1,q}x_{i_2,j_2,1,q}\n",
        "            \\end{gathered}\n",
        "        \\end{equation}\n",
        "Coeficiente de Lagrange:\n",
        "\\begin{equation*}\n",
        "        \\lambda_{11}=1/1000\n",
        "    \\end{equation*}"
      ],
      "metadata": {
        "id": "3c8DuiGHWHFz"
      },
      "id": "3c8DuiGHWHFz"
    },
    {
      "cell_type": "code",
      "source": [
        "lagrange_11=0.001\n",
        "for q in range(2,Q+1):\n",
        "    for i1 in lis_n:\n",
        "        for j1 in lis_n:\n",
        "            for i2 in lis_n:\n",
        "                for j2 in lis_n:\n",
        "                    coef[(f\"x_{i1}_{j1}_{1}_{q}\",f\"x_{i2}_{j2}_{1}_{q}\")] += lagrange_11*distancia[i1,j1]*distancia[i2,j2]\n",
        "    for i in lis_n:\n",
        "        for j in lis_n:\n",
        "            for h in lis_h:\n",
        "                coef[(f\"x_{i}_{j}_{1}_{q}\",f\"b_{h}_{q}\")] += lagrange_11*2**(h+1)*distancia[i,j]\n",
        "    for h1 in lis_h:\n",
        "        for h2 in lis_h:\n",
        "            coef[(f\"b_{h1}_{q}\",f\"b_{h2}_{q}\")] += lagrange_11*2**h1*2**h2\n",
        "    for i1 in lis_n:\n",
        "        for j1 in lis_n:\n",
        "            for i2 in lis_n:\n",
        "                for j2 in lis_n:\n",
        "                    coef[(f\"x_{i1}_{j1}_{1}_{1}\",f\"x_{i2}_{j2}_{1}_{1}\")] += lagrange_11*distancia[i1,j1]*distancia[i2,j2]\n",
        "    for i in lis_n:\n",
        "        for j in lis_n:\n",
        "            for h in lis_h:\n",
        "                coef[(f\"x_{i}_{j}_{1}_{1}\",f\"b_{h}_{q}\")] += -lagrange_11*2*2**h*distancia[i,j]\n",
        "    for i1 in lis_n:\n",
        "        for j1 in lis_n:\n",
        "            for i2 in lis_n:\n",
        "                for j2 in lis_n:\n",
        "                    coef[(f\"x_{i1}_{j1}_{1}_{1}\",f\"x_{i2}_{j2}_{1}_{q}\")] += -2*lagrange_11*distancia[i1,j1]*distancia[i2,j2]\n"
      ],
      "metadata": {
        "id": "r8sZBT3kZgWS"
      },
      "id": "r8sZBT3kZgWS",
      "execution_count": null,
      "outputs": []
    },
    {
      "cell_type": "markdown",
      "source": [
        "Función objetivo:\n",
        "\\begin{equation}\n",
        "    \\sum_{i=0}^{N+1} \\sum_{j=0}^{N+1} d_{i,j} x_{i,j,1,1}\n",
        "\\end{equation}\n"
      ],
      "metadata": {
        "id": "B20n0wOVWuWS"
      },
      "id": "B20n0wOVWuWS"
    },
    {
      "cell_type": "code",
      "source": [
        "lagrange_objetivo=1\n",
        "for i in lis_n:\n",
        "    for j in lis_n:\n",
        "        coef[(f\"x_{i}_{j}_{1}_{1}\",)] += lagrange_objetivo * distancia[i,j]"
      ],
      "metadata": {
        "id": "HlYFSxdsWzFa"
      },
      "id": "HlYFSxdsWzFa",
      "execution_count": null,
      "outputs": []
    },
    {
      "cell_type": "markdown",
      "source": [
        "## Ejecución\n",
        "\n",
        "Para la ejecución del problema, debemos crear primero de todo el modelo cuadrático vinario (BQM) que le pasaremos al *sampler* de *D-Wave*. Este modelo es un diccionario que tiene como claves cada par de variables y como valores, el valor calculado en el paso anterior."
      ],
      "metadata": {
        "id": "lOTXUahWC0P4"
      },
      "id": "lOTXUahWC0P4"
    },
    {
      "cell_type": "code",
      "source": [
        "dwaveDic = {}\n",
        "for i in coef:\n",
        "    if len(i) == 1:\n",
        "        dwaveDic[(i[0],i[0])] = coef[i]\n",
        "    else:\n",
        "\n",
        "        dwaveDic[i] = coef[i]"
      ],
      "metadata": {
        "id": "lKuGaEQXYTVj"
      },
      "id": "lKuGaEQXYTVj",
      "execution_count": null,
      "outputs": []
    },
    {
      "cell_type": "markdown",
      "source": [
        "### Quantum Annealing\n",
        "En la siguiente ejecución, a diferencia de la anterior, ejecutaremos nuestro problema en un computador cuántico físico y no mediante una simulación ( ***DWaveSampler()***). Para poder llevar a cabo esta ejecución necesitamos abstraer elproblema de forma de que el computador cuántico sea capaz de manejar.\n",
        "\n",
        "Un computador cuántico tiene una arquitectura de conectividad limitada, lo que significa que solo ciertos pares de qubits están directamente conectados entre sí. Sin embargo, para resolver un problema de optimización general, se requiere una conectividad más amplia entre los qubits.\n",
        "\n",
        "***EmbeddingComposite*** se encarga de mapear o embeber el problema de optimización en el hardware específico del computador cuántico. Utiliza técnicas de mapeo y enrutamiento para transformar el problema de optimización de un grafo general a un grafo compatible con la conectividad del hardware.\n",
        "\n",
        "En resumen, al utilizar ***EmbeddingComposite(DWaveSampler())***, estás creando un objeto *sampler* que toma un computador cuántico físico (***DWaveSampler()***) y lo envuelve en ***EmbeddingComposite*** para manejar el mapeo y enrutamiento del problema de optimización en el hardware del computador cuántico.\n",
        "\n",
        "Los parámetros que permite ***EmbeddingComposite()*** son:\n",
        "\n",
        "\n",
        "*   **-bqm**: El modelo cuadrático binario que se va a muestrear.\n",
        "\n",
        "*   **-chain_strength**: Establece la fuerza de acoplamiento entre los qubits que representan variables.  Un valor bajo de **chain_strength** puede favorecer la exploración del espacio de soluciones, ya que las cadenas más débiles permiten una mayor flexibilidad para explorar diferentes configuraciones de qubits. Por otro lado, un valor alto de chain_strength puede favorecer la explotación, permitiendo una búsqueda más intensiva de mínimos locales y soluciones óptimas.\n",
        "\n",
        "*   **-chain_break_method**: Especifica el método o métodos utilizados para resolver las rupturas de cadena. El método por defecto es voto por la mayoría por lo que dejaremos ese.\n",
        "\n",
        "*   **-chain_break_fraction**: Proporciona información sobre cuántas cadenas se han roto durante el proceso de muestreo antes de obtener las soluciones finales.\n",
        "\n",
        "*   **-embedding_parameters**: Si se proporciona, estos parámetros se pasan al método de *embedding* como argumentos de palabra clave.\n",
        "\n",
        "*   **-return_embedding**: Si se establece en *True*, se agrega información sobre el *embedding*, fuerza de acoplamiento de las cadenas, método de resolución de rupturas de cadena y los parámetros de *embedding* al campo ***dimod.SampleSet.info*** del conjunto de muestras devuelto.\n",
        "\n",
        "*   **-warnings**: Define, si la hay, qué acción de advertencia realizar.\n",
        "\n",
        "[D-Wave Ocean](https://docs.ocean.dwavesys.com/en/stable/docs_system/reference/generated/dwave.system.composites.EmbeddingComposite.sample.html)"
      ],
      "metadata": {
        "id": "uHG8fLQJhlKj"
      },
      "id": "uHG8fLQJhlKj"
    },
    {
      "cell_type": "code",
      "source": [
        "TOKEN=\"DEV-512e056dfd01980d70f3c29a9e1207e80f34783b\""
      ],
      "metadata": {
        "id": "knWfVzL1vaTn"
      },
      "id": "knWfVzL1vaTn",
      "execution_count": null,
      "outputs": []
    },
    {
      "cell_type": "code",
      "source": [
        "import time\n",
        "t=time.time()\n",
        "sampler = EmbeddingComposite(DWaveSampler(token=TOKEN, solver=dict(topology__type='pegasus')))\n",
        "sampleset = sampler.sample_qubo(dwaveDic, num_reads=4500, return_embedding=True)\n",
        "\n",
        "print(\"La solución es: \", (sampleset.first.sample), sampleset.first.energy)\n",
        "time=time.time()-t"
      ],
      "metadata": {
        "id": "m55Qb0rUdNbL",
        "colab": {
          "base_uri": "https://localhost:8080/"
        },
        "outputId": "accf736e-0f0f-4e11-dd57-180a3973278e"
      },
      "id": "m55Qb0rUdNbL",
      "execution_count": null,
      "outputs": [
        {
          "output_type": "stream",
          "name": "stdout",
          "text": [
            "La solución es:  {'a_1_1': 1, 'a_1_2': 1, 'a_1_3': 0, 'a_1_4': 0, 'a_2_1': 1, 'a_2_2': 1, 'a_2_3': 1, 'a_2_4': 0, 'a_3_1': 1, 'a_3_2': 0, 'a_3_3': 1, 'a_3_4': 1, 'a_4_1': 1, 'a_4_2': 1, 'a_4_3': 1, 'a_4_4': 1, 'aux1_1_1': 1, 'aux1_1_2': 0, 'aux1_2_1': 0, 'aux1_2_2': 1, 'aux1_3_1': 1, 'aux1_3_2': 1, 'aux1_4_1': 1, 'aux1_4_2': 1, 'aux2_1_2': 1, 'aux2_1_3': 1, 'aux2_1_4': 1, 'aux2_2_1': 0, 'aux2_2_3': 0, 'aux2_2_4': 1, 'aux2_3_1': 0, 'aux2_3_2': 0, 'aux2_3_4': 1, 'aux2_4_1': 0, 'aux2_4_2': 0, 'aux2_4_3': 0, 'b_0_2': 1, 'b_10_2': 0, 'b_11_2': 0, 'b_12_2': 0, 'b_13_2': 0, 'b_1_2': 1, 'b_2_2': 0, 'b_3_2': 0, 'b_4_2': 0, 'b_5_2': 1, 'b_6_2': 1, 'b_7_2': 0, 'b_8_2': 0, 'b_9_2': 0, 'x_0_0_0_1': 0, 'x_0_0_0_2': 0, 'x_0_0_1_1': 0, 'x_0_0_1_2': 0, 'x_0_0_2_1': 1, 'x_0_0_2_2': 1, 'x_0_0_3_1': 0, 'x_0_0_3_2': 1, 'x_0_0_4_1': 0, 'x_0_0_4_2': 0, 'x_0_1_0_1': 0, 'x_0_1_0_2': 0, 'x_0_1_1_1': 1, 'x_0_1_1_2': 1, 'x_0_1_2_1': 0, 'x_0_1_2_2': 0, 'x_0_1_3_1': 0, 'x_0_1_3_2': 0, 'x_0_1_4_1': 0, 'x_0_1_4_2': 0, 'x_0_2_0_1': 0, 'x_0_2_0_2': 0, 'x_0_2_1_1': 0, 'x_0_2_1_2': 0, 'x_0_2_2_1': 0, 'x_0_2_2_2': 0, 'x_0_2_3_1': 0, 'x_0_2_3_2': 1, 'x_0_2_4_1': 0, 'x_0_2_4_2': 0, 'x_0_3_0_1': 0, 'x_0_3_0_2': 0, 'x_0_3_1_1': 0, 'x_0_3_1_2': 0, 'x_0_3_2_1': 1, 'x_0_3_2_2': 0, 'x_0_3_3_1': 0, 'x_0_3_3_2': 1, 'x_0_3_4_1': 1, 'x_0_3_4_2': 0, 'x_0_4_0_1': 0, 'x_0_4_0_2': 0, 'x_0_4_1_1': 1, 'x_0_4_1_2': 1, 'x_0_4_2_1': 1, 'x_0_4_2_2': 0, 'x_0_4_3_1': 0, 'x_0_4_3_2': 0, 'x_0_4_4_1': 0, 'x_0_4_4_2': 0, 'x_0_5_1_1': 1, 'x_0_5_1_2': 0, 'x_1_0_0_1': 0, 'x_1_0_0_2': 0, 'x_1_0_1_1': 0, 'x_1_0_1_2': 0, 'x_1_0_2_1': 0, 'x_1_0_2_2': 0, 'x_1_0_3_1': 1, 'x_1_0_3_2': 0, 'x_1_0_4_1': 1, 'x_1_0_4_2': 1, 'x_1_1_0_1': 0, 'x_1_1_0_2': 1, 'x_1_1_1_1': 0, 'x_1_1_1_2': 0, 'x_1_1_2_1': 1, 'x_1_1_2_2': 0, 'x_1_1_3_1': 0, 'x_1_1_3_2': 0, 'x_1_1_4_1': 0, 'x_1_1_4_2': 0, 'x_1_2_0_1': 1, 'x_1_2_0_2': 0, 'x_1_2_1_1': 0, 'x_1_2_1_2': 0, 'x_1_2_2_1': 0, 'x_1_2_2_2': 0, 'x_1_2_3_1': 0, 'x_1_2_3_2': 0, 'x_1_2_4_1': 0, 'x_1_2_4_2': 1, 'x_1_3_0_1': 0, 'x_1_3_0_2': 0, 'x_1_3_1_1': 0, 'x_1_3_1_2': 0, 'x_1_3_2_1': 0, 'x_1_3_2_2': 0, 'x_1_3_3_1': 0, 'x_1_3_3_2': 0, 'x_1_3_4_1': 1, 'x_1_3_4_2': 1, 'x_1_4_0_1': 0, 'x_1_4_0_2': 0, 'x_1_4_1_1': 0, 'x_1_4_1_2': 0, 'x_1_4_2_1': 0, 'x_1_4_2_2': 1, 'x_1_4_3_1': 0, 'x_1_4_3_2': 0, 'x_1_4_4_1': 0, 'x_1_4_4_2': 1, 'x_1_5_1_1': 0, 'x_1_5_1_2': 0, 'x_2_0_0_1': 0, 'x_2_0_0_2': 0, 'x_2_0_1_1': 1, 'x_2_0_1_2': 0, 'x_2_0_2_1': 0, 'x_2_0_2_2': 1, 'x_2_0_3_1': 0, 'x_2_0_3_2': 1, 'x_2_0_4_1': 1, 'x_2_0_4_2': 0, 'x_2_1_0_1': 0, 'x_2_1_0_2': 0, 'x_2_1_1_1': 0, 'x_2_1_1_2': 0, 'x_2_1_2_1': 1, 'x_2_1_2_2': 0, 'x_2_1_3_1': 0, 'x_2_1_3_2': 1, 'x_2_1_4_1': 0, 'x_2_1_4_2': 0, 'x_2_2_0_1': 0, 'x_2_2_0_2': 1, 'x_2_2_1_1': 0, 'x_2_2_1_2': 0, 'x_2_2_2_1': 0, 'x_2_2_2_2': 0, 'x_2_2_3_1': 1, 'x_2_2_3_2': 0, 'x_2_2_4_1': 0, 'x_2_2_4_2': 0, 'x_2_3_0_1': 1, 'x_2_3_0_2': 0, 'x_2_3_1_1': 0, 'x_2_3_1_2': 0, 'x_2_3_2_1': 0, 'x_2_3_2_2': 1, 'x_2_3_3_1': 0, 'x_2_3_3_2': 0, 'x_2_3_4_1': 0, 'x_2_3_4_2': 0, 'x_2_4_0_1': 0, 'x_2_4_0_2': 0, 'x_2_4_1_1': 0, 'x_2_4_1_2': 0, 'x_2_4_2_1': 0, 'x_2_4_2_2': 0, 'x_2_4_3_1': 0, 'x_2_4_3_2': 0, 'x_2_4_4_1': 1, 'x_2_4_4_2': 1, 'x_2_5_1_1': 0, 'x_2_5_1_2': 0, 'x_3_0_0_1': 0, 'x_3_0_0_2': 0, 'x_3_0_1_1': 1, 'x_3_0_1_2': 1, 'x_3_0_2_1': 0, 'x_3_0_2_2': 1, 'x_3_0_3_1': 0, 'x_3_0_3_2': 0, 'x_3_0_4_1': 0, 'x_3_0_4_2': 1, 'x_3_1_0_1': 0, 'x_3_1_0_2': 1, 'x_3_1_1_1': 0, 'x_3_1_1_2': 0, 'x_3_1_2_1': 1, 'x_3_1_2_2': 0, 'x_3_1_3_1': 0, 'x_3_1_3_2': 0, 'x_3_1_4_1': 0, 'x_3_1_4_2': 0, 'x_3_2_0_1': 0, 'x_3_2_0_2': 0, 'x_3_2_1_1': 0, 'x_3_2_1_2': 0, 'x_3_2_2_1': 0, 'x_3_2_2_2': 1, 'x_3_2_3_1': 0, 'x_3_2_3_2': 0, 'x_3_2_4_1': 1, 'x_3_2_4_2': 0, 'x_3_3_0_1': 0, 'x_3_3_0_2': 0, 'x_3_3_1_1': 0, 'x_3_3_1_2': 0, 'x_3_3_2_1': 1, 'x_3_3_2_2': 0, 'x_3_3_3_1': 1, 'x_3_3_3_2': 0, 'x_3_3_4_1': 0, 'x_3_3_4_2': 0, 'x_3_4_0_1': 0, 'x_3_4_0_2': 0, 'x_3_4_1_1': 0, 'x_3_4_1_2': 0, 'x_3_4_2_1': 0, 'x_3_4_2_2': 0, 'x_3_4_3_1': 1, 'x_3_4_3_2': 0, 'x_3_4_4_1': 0, 'x_3_4_4_2': 1, 'x_3_5_1_1': 0, 'x_3_5_1_2': 1, 'x_4_0_0_1': 1, 'x_4_0_0_2': 0, 'x_4_0_1_1': 0, 'x_4_0_1_2': 1, 'x_4_0_2_1': 0, 'x_4_0_2_2': 1, 'x_4_0_3_1': 0, 'x_4_0_3_2': 0, 'x_4_0_4_1': 0, 'x_4_0_4_2': 1, 'x_4_1_0_1': 0, 'x_4_1_0_2': 1, 'x_4_1_1_1': 1, 'x_4_1_1_2': 0, 'x_4_1_2_1': 0, 'x_4_1_2_2': 1, 'x_4_1_3_1': 0, 'x_4_1_3_2': 0, 'x_4_1_4_1': 0, 'x_4_1_4_2': 0, 'x_4_2_0_1': 0, 'x_4_2_0_2': 0, 'x_4_2_1_1': 0, 'x_4_2_1_2': 0, 'x_4_2_2_1': 0, 'x_4_2_2_2': 0, 'x_4_2_3_1': 0, 'x_4_2_3_2': 1, 'x_4_2_4_1': 0, 'x_4_2_4_2': 0, 'x_4_3_0_1': 0, 'x_4_3_0_2': 1, 'x_4_3_1_1': 0, 'x_4_3_1_2': 0, 'x_4_3_2_1': 0, 'x_4_3_2_2': 0, 'x_4_3_3_1': 0, 'x_4_3_3_2': 0, 'x_4_3_4_1': 1, 'x_4_3_4_2': 0, 'x_4_4_0_1': 0, 'x_4_4_0_2': 1, 'x_4_4_1_1': 0, 'x_4_4_1_2': 0, 'x_4_4_2_1': 1, 'x_4_4_2_2': 1, 'x_4_4_3_1': 0, 'x_4_4_3_2': 0, 'x_4_4_4_1': 1, 'x_4_4_4_2': 0, 'x_4_5_1_1': 1, 'x_4_5_1_2': 1, 'x_5_0_1_1': 0, 'x_5_0_1_2': 0, 'x_5_1_1_1': 0, 'x_5_1_1_2': 0, 'x_5_2_1_1': 0, 'x_5_2_1_2': 0, 'x_5_3_1_1': 1, 'x_5_3_1_2': 1, 'x_5_4_1_1': 0, 'x_5_4_1_2': 0, 'x_5_5_1_1': 0, 'x_5_5_1_2': 1} -13207.084000000008\n"
          ]
        }
      ]
    },
    {
      "cell_type": "code",
      "source": [
        "solucion=sampleset.first.sample"
      ],
      "metadata": {
        "id": "mVCuk0m2pdqV"
      },
      "id": "mVCuk0m2pdqV",
      "execution_count": null,
      "outputs": []
    },
    {
      "cell_type": "markdown",
      "source": [
        "##Solución\n",
        "A continuación, mostraremos la solución obtenida tras utilizar Quantum Annealing.\n",
        "Por un lado, vemos las rutas que recorren cada uno de los vehículos individualmente. Tras ello, se muestra la solución en la que sí aparecen los dos vehículos juntos. En esta solución, el color azul representa el primer vehículo y el color verde al segundo."
      ],
      "metadata": {
        "id": "c3nwA23fVC1A"
      },
      "id": "c3nwA23fVC1A"
    },
    {
      "cell_type": "code",
      "source": [
        "for q in lis_q:\n",
        "    matSol = np.zeros((N+2,N+2))\n",
        "    for i in  range(N+2):\n",
        "        for j in range(N+2):\n",
        "            if solucion[f\"x_{i}_{j}_{1}_{q}\"] == 1:\n",
        "                matSol[i,j] = 1\n",
        "\n",
        "    ## Pintamos el camino propuesto\n",
        "    plt.plot(puntos[:,0],puntos[:,1],'o')\n",
        "    vaux = np.array(list(range(N+2)))\n",
        "    suma_ruta = 0\n",
        "    for i in range(N+1):\n",
        "        sig_aux = matSol[i,:]==1\n",
        "        if np.sum(sig_aux) > 0:\n",
        "            sig = (int(vaux[sig_aux][0]))%(N+1)\n",
        "            plt.plot(puntos[(i,sig),0],puntos[(i,sig),1])\n",
        "            suma_ruta += np.floor(1000*toNumpy(puntos[i,:]-puntos[sig,:]))\n",
        "    plt.show()\n",
        "    print(\"El vehículo \",q,\" viaja una distancia \",suma_ruta)"
      ],
      "metadata": {
        "id": "cmf-ougrCQjD",
        "colab": {
          "base_uri": "https://localhost:8080/",
          "height": 878
        },
        "outputId": "4b2ce0e9-3425-4d25-e0ad-0721d0fef779"
      },
      "id": "cmf-ougrCQjD",
      "execution_count": null,
      "outputs": [
        {
          "output_type": "display_data",
          "data": {
            "text/plain": [
              "<Figure size 640x480 with 1 Axes>"
            ],
            "image/png": "[encoded data removed]"
          },
          "metadata": {}
        },
        {
          "output_type": "stream",
          "name": "stdout",
          "text": [
            "El vehículo  1  viaja una distancia  1182.0\n"
          ]
        },
        {
          "output_type": "display_data",
          "data": {
            "text/plain": [
              "<Figure size 640x480 with 1 Axes>"
            ],
            "image/png": "[encoded data removed]"
          },
          "metadata": {}
        },
        {
          "output_type": "stream",
          "name": "stdout",
          "text": [
            "El vehículo  2  viaja una distancia  1169.0\n"
          ]
        }
      ]
    },
    {
      "cell_type": "code",
      "source": [
        "colores = [\"blue\",\"green\",\"red\"]\n",
        "sol = np.zeros((N+2,N+2))\n",
        "sol2 = np.zeros((N+2,N+2))\n",
        "for q in lis_q:\n",
        "    mat_sol = np.zeros((N+2,N+2))\n",
        "    for i in  range(N+2):\n",
        "        for j in range(N+2):\n",
        "            if solucion[f\"x_{i}_{j}_{1}_{q}\"] == 1:\n",
        "                mat_sol[i%len(puntos),j%len(puntos)] = 1\n",
        "\n",
        "    sol += mat_sol\n",
        "    sol2 += mat_sol * (q-1)\n",
        "\n",
        "    plt.plot(puntos[:,0],puntos[:,1],'o')\n",
        "    vaux = np.array(list(range(N+2)))\n",
        "    suma_ruta = 0\n",
        "    for i in range(N+1):\n",
        "        sig_aux = mat_sol[i,:]==1\n",
        "        if np.sum(sig_aux) > 0:\n",
        "            sig = (int(vaux[sig_aux][0]))%(N+1)\n",
        "            plt.plot(puntos[(i,sig),0],puntos[(i,sig),1],colores[q-1])\n",
        "            suma_ruta += np.floor(1000*toNumpy(puntos[i,:]-puntos[sig,:]))\n",
        "    #plt.show()\n",
        "    print(\"El vehículo \",q,\" viaja una distancia de: \",suma_ruta)\n"
      ],
      "metadata": {
        "colab": {
          "base_uri": "https://localhost:8080/",
          "height": 465
        },
        "id": "_1EjiD4Vkylp",
        "outputId": "f0811394-840f-4afa-e1db-812766d5d8cd"
      },
      "id": "_1EjiD4Vkylp",
      "execution_count": null,
      "outputs": [
        {
          "output_type": "stream",
          "name": "stdout",
          "text": [
            "El vehículo  1  viaja una distancia de:  1182.0\n",
            "El vehículo  2  viaja una distancia de:  1169.0\n"
          ]
        },
        {
          "output_type": "display_data",
          "data": {
            "text/plain": [
              "<Figure size 640x480 with 1 Axes>"
            ],
            "image/png": "[encoded data removed]"
          },
          "metadata": {}
        }
      ]
    },
    {
      "cell_type": "markdown",
      "source": [
        "Dibujaremos la solución en forma de grafo dirigido para ver el orden en el que se recorre cada ciudad. De nuevo, el color azul representa el primer vehículo y el color verde al segundo."
      ],
      "metadata": {
        "id": "aq_59q1FVh9g"
      },
      "id": "aq_59q1FVh9g"
    },
    {
      "cell_type": "code",
      "source": [
        "import numpy as np\n",
        "import networkx as nx\n",
        "\n",
        "colores = [\"blue\",\"green\",\"red\"]\n",
        "\n",
        "G = nx.DiGraph()\n",
        "rows, cols = np.where(sol == 1)\n",
        "edges = list(zip(rows.tolist(), cols.tolist()))\n",
        "edges2 = [(x[0], x[1]%len(puntos)) for x in edges]\n",
        "\n",
        "G.add_edges_from(edges2)\n",
        "pos2 = nx.spring_layout(G)\n",
        "nx.draw_networkx_labels(G, pos2)\n",
        "values = [colores[int(sol2[x[0], x[1]])] for x in G.edges]\n",
        "\n",
        "nx.draw_networkx_edges(G, pos2, edge_color = values)\n",
        "\n",
        "node_colors = [\"lightblue\" for _ in range(len(G.nodes))]\n",
        "node_colors[0] = \"lightgreen\"\n",
        "\n",
        "nx.draw(G, pos2, edge_color=values, node_color = node_colors)\n",
        "plt.show()"
      ],
      "metadata": {
        "id": "JKD65WwvpcMd",
        "colab": {
          "base_uri": "https://localhost:8080/",
          "height": 406
        },
        "outputId": "e2371ef4-618f-4878-a262-826caea53304"
      },
      "id": "JKD65WwvpcMd",
      "execution_count": null,
      "outputs": [
        {
          "output_type": "display_data",
          "data": {
            "text/plain": [
              "<Figure size 640x480 with 1 Axes>"
            ],
            "image/png": "[encoded data removed]"
          },
          "metadata": {}
        }
      ]
    },
    {
      "cell_type": "code",
      "source": [],
      "metadata": {
        "id": "Riy06q5Dj8Hb"
      },
      "id": "Riy06q5Dj8Hb",
      "execution_count": null,
      "outputs": []
    }
  ],
  "metadata": {
    "colab": {
      "provenance": []
    },
    "gpuClass": "standard",
    "kernelspec": {
      "display_name": "Python 3 (ipykernel)",
      "language": "python",
      "name": "python3"
    },
    "language_info": {
      "codemirror_mode": {
        "name": "ipython",
        "version": 3
      },
      "file_extension": ".py",
      "mimetype": "text/x-python",
      "name": "python",
      "nbconvert_exporter": "python",
      "pygments_lexer": "ipython3",
      "version": "3.9.12"
    }
  },
  "nbformat": 4,
  "nbformat_minor": 5
}